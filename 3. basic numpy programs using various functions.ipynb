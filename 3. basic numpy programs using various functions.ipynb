{
 "cells": [
  {
   "cell_type": "code",
   "execution_count": 1,
   "id": "9a254f6b",
   "metadata": {},
   "outputs": [],
   "source": [
    "import numpy as np"
   ]
  },
  {
   "cell_type": "code",
   "execution_count": null,
   "id": "3f26d137",
   "metadata": {},
   "outputs": [],
   "source": []
  },
  {
   "cell_type": "markdown",
   "id": "12f961aa",
   "metadata": {},
   "source": [
    "# square root of a program"
   ]
  },
  {
   "cell_type": "markdown",
   "id": "4167bf45",
   "metadata": {},
   "source": [
    "## using comprehension"
   ]
  },
  {
   "cell_type": "code",
   "execution_count": 2,
   "id": "e1647453",
   "metadata": {},
   "outputs": [
    {
     "name": "stdout",
     "output_type": "stream",
     "text": [
      "[1, 4, 9, 16, 25, 36, 49, 64, 81, 100]\n"
     ]
    }
   ],
   "source": [
    "nos=[1,2,3,4,5,6,7,8,9,10]\n",
    "squares=[x**2 for x in nos]\n",
    "print(squares)"
   ]
  },
  {
   "cell_type": "markdown",
   "id": "4898a5e6",
   "metadata": {},
   "source": [
    "## using lambda and map function"
   ]
  },
  {
   "cell_type": "code",
   "execution_count": 12,
   "id": "3b3768f4",
   "metadata": {},
   "outputs": [
    {
     "data": {
      "text/plain": [
       "[1, 4, 9, 16, 25, 36, 49, 64, 81, 100]"
      ]
     },
     "execution_count": 12,
     "metadata": {},
     "output_type": "execute_result"
    }
   ],
   "source": [
    "squares=list(map(lambda x:x**2,nos) )\n",
    "squares"
   ]
  },
  {
   "cell_type": "markdown",
   "id": "6dd533eb",
   "metadata": {},
   "source": [
    "### count items starting with a letter with 's' using map function\n",
    "\n"
   ]
  },
  {
   "cell_type": "code",
   "execution_count": 18,
   "id": "1baa2eae",
   "metadata": {},
   "outputs": [
    {
     "data": {
      "text/plain": [
       "3"
      ]
     },
     "execution_count": 18,
     "metadata": {},
     "output_type": "execute_result"
    }
   ],
   "source": [
    "input_list=['san jose','san fransiscoe','san martin','lost angels']\n",
    "n_items=sum(map(lambda x:x[0]=='s',input_list))\n",
    "n_items"
   ]
  },
  {
   "cell_type": "markdown",
   "id": "4f0b4b12",
   "metadata": {},
   "source": [
    "### count items starting with a letter with 's'and ending with 'e' using a map function\n"
   ]
  },
  {
   "cell_type": "code",
   "execution_count": 26,
   "id": "7e9b3840",
   "metadata": {},
   "outputs": [
    {
     "name": "stdout",
     "output_type": "stream",
     "text": [
      "[True, True, False, False]\n"
     ]
    }
   ],
   "source": [
    "n_items=list(map(lambda x:x[0]=='s' and x[-1]=='e',input_list))\n",
    "print(n_items)"
   ]
  },
  {
   "cell_type": "code",
   "execution_count": 37,
   "id": "724aad2e",
   "metadata": {},
   "outputs": [
    {
     "name": "stdout",
     "output_type": "stream",
     "text": [
      "['Ankur Narang', 'Avik Sarkar', 'Kiran R', 'Nitin Sareen']\n",
      "['Ankur Narang', 'Avik Sarkar', 'Kiran R', 'Nitin Sareen']\n"
     ]
    }
   ],
   "source": [
    "input_list = [['Ankur','Avik','Kiran','Nitin'],['Narang','Sarkar','R','Sareen']]\n",
    "x=input_list[0]\n",
    "y=input_list[1]\n",
    "concat1=list(map(lambda x,y:x+\" \"+y,input_list[0],input_list[1]))\n",
    "print(concat1)\n",
    "#method 2 using slicing\n",
    "concat2=list(map(lambda x,y:x+\" \"+y,x,y))\n",
    "print(concat2)"
   ]
  },
  {
   "cell_type": "markdown",
   "id": "8446f39d",
   "metadata": {},
   "source": [
    "### filter function"
   ]
  },
  {
   "cell_type": "code",
   "execution_count": 43,
   "id": "b7c5ce08",
   "metadata": {},
   "outputs": [
    {
     "name": "stdout",
     "output_type": "stream",
     "text": [
      "result\n"
     ]
    }
   ],
   "source": [
    "input_list=['hy','my','name','is','wasif','mustaqeem']\n",
    "##extract wasif \n",
    "result=list(filter(lambda x:x=='wasif' or x=='mustaqeem',input_list))\n",
    "print('result')"
   ]
  },
  {
   "cell_type": "code",
   "execution_count": 46,
   "id": "ff0a5631",
   "metadata": {},
   "outputs": [
    {
     "name": "stdout",
     "output_type": "stream",
     "text": [
      "['salsap']\n"
     ]
    }
   ],
   "source": [
    "input_list = ['hdjk', 'salsap', 'sherpa']\n",
    "result=list(filter(lambda x:x[0]=='s' and x[-1]=='p',input_list))\n",
    "print(result)\n"
   ]
  },
  {
   "cell_type": "markdown",
   "id": "a424d531",
   "metadata": {},
   "source": [
    "### using reduce function"
   ]
  },
  {
   "cell_type": "code",
   "execution_count": 48,
   "id": "52d3c117",
   "metadata": {},
   "outputs": [
    {
     "data": {
      "text/plain": [
       "'All you have to fear is fear itself'"
      ]
     },
     "execution_count": 48,
     "metadata": {},
     "output_type": "execute_result"
    }
   ],
   "source": [
    "input_list=['All','you','have','to','fear','is','fear','itself']\n",
    "from functools import reduce\n",
    "result=reduce(lambda x,y:x+\" \"+y,input_list)\n",
    "result\n"
   ]
  },
  {
   "cell_type": "code",
   "execution_count": 53,
   "id": "0a1f9902",
   "metadata": {},
   "outputs": [
    {
     "data": {
      "text/plain": [
       "99"
      ]
     },
     "execution_count": 53,
     "metadata": {},
     "output_type": "execute_result"
    }
   ],
   "source": [
    "#finding max no in a list by reduce funtion\n",
    "input_list = [65,76,87,23,12,90,99]\n",
    "max_no=reduce(lambda x,y:x if x>y else y,input_list)\n",
    "max_no\n"
   ]
  },
  {
   "cell_type": "code",
   "execution_count": 56,
   "id": "8b6c54e2",
   "metadata": {},
   "outputs": [
    {
     "data": {
      "text/plain": [
       "452"
      ]
     },
     "execution_count": 56,
     "metadata": {},
     "output_type": "execute_result"
    }
   ],
   "source": [
    "sums=(reduce(lambda x,y:x+y,input_list))\n",
    "sums\n"
   ]
  },
  {
   "cell_type": "code",
   "execution_count": 58,
   "id": "27b393f1",
   "metadata": {},
   "outputs": [
    {
     "data": {
      "text/plain": [
       "452"
      ]
     },
     "execution_count": 58,
     "metadata": {},
     "output_type": "execute_result"
    }
   ],
   "source": [
    "sum(input_list)"
   ]
  },
  {
   "cell_type": "markdown",
   "id": "3cfd4118",
   "metadata": {},
   "source": [
    "#### finding factorial using reduce"
   ]
  },
  {
   "cell_type": "code",
   "execution_count": 64,
   "id": "e907aa84",
   "metadata": {},
   "outputs": [
    {
     "data": {
      "text/plain": [
       "120"
      ]
     },
     "execution_count": 64,
     "metadata": {},
     "output_type": "execute_result"
    }
   ],
   "source": [
    "from functools import reduce\n",
    "n=5\n",
    "factorial=reduce(lambda x,y:x*y,range(1,n+1))if n>0 else 0 if n==0 else \"factorial not possible\"\n",
    "factorial\n"
   ]
  },
  {
   "cell_type": "markdown",
   "id": "b783adb0",
   "metadata": {},
   "source": [
    "## reverse a list"
   ]
  },
  {
   "cell_type": "code",
   "execution_count": 74,
   "id": "ef8327b1",
   "metadata": {},
   "outputs": [
    {
     "name": "stdout",
     "output_type": "stream",
     "text": [
      "[['kishan', 'lakhan', 'ram']]\n"
     ]
    }
   ],
   "source": [
    "l1=['ram','lakhan','kishan']\n",
    "print([l1[::-1]])"
   ]
  },
  {
   "cell_type": "markdown",
   "id": "5309f85c",
   "metadata": {},
   "source": [
    "##### reversing items in its own position"
   ]
  },
  {
   "cell_type": "code",
   "execution_count": 78,
   "id": "f0fd5f3c",
   "metadata": {},
   "outputs": [
    {
     "data": {
      "text/plain": [
       "'ram'"
      ]
     },
     "execution_count": 78,
     "metadata": {},
     "output_type": "execute_result"
    }
   ],
   "source": []
  },
  {
   "cell_type": "code",
   "execution_count": 80,
   "id": "1e2e702f",
   "metadata": {},
   "outputs": [
    {
     "name": "stdout",
     "output_type": "stream",
     "text": [
      "original list== ['ram', 'lakhan', 'kishan']\n",
      "['mar', 'nahkal', 'nahsik']\n"
     ]
    }
   ],
   "source": [
    "print(\"original list==\",l1)\n",
    "x=[]\n",
    "for i in s:\n",
    "    x.append(i[::-1])\n",
    "print(x)"
   ]
  },
  {
   "cell_type": "markdown",
   "id": "a3fe792a",
   "metadata": {},
   "source": [
    "## count the no items in a list"
   ]
  },
  {
   "cell_type": "markdown",
   "id": "ea1b0b17",
   "metadata": {},
   "source": [
    "#### using counter function from collections"
   ]
  },
  {
   "cell_type": "code",
   "execution_count": 82,
   "id": "3e7fe5ec",
   "metadata": {},
   "outputs": [],
   "source": [
    "l1 = [11,22,11,22,33,44,55,11,11,22,55,66,77,88,99,99]\n",
    "from collections import Counter"
   ]
  },
  {
   "cell_type": "code",
   "execution_count": 84,
   "id": "2ac48f77",
   "metadata": {},
   "outputs": [
    {
     "data": {
      "text/plain": [
       "Counter({11: 4, 22: 3, 33: 1, 44: 1, 55: 2, 66: 1, 77: 1, 88: 1, 99: 2})"
      ]
     },
     "execution_count": 84,
     "metadata": {},
     "output_type": "execute_result"
    }
   ],
   "source": [
    "counted_items=Counter(l1)\n",
    "counted_items\n"
   ]
  },
  {
   "cell_type": "code",
   "execution_count": 90,
   "id": "02eff75c",
   "metadata": {},
   "outputs": [
    {
     "name": "stdout",
     "output_type": "stream",
     "text": [
      "11\n",
      "22\n",
      "55\n",
      "99\n"
     ]
    }
   ],
   "source": [
    "##printing the items with frequency above 2\n",
    "for keys,counts in counted_items.items():\n",
    "    #print(keys,counts)\n",
    "    if counts>1:\n",
    "        print(keys)"
   ]
  },
  {
   "cell_type": "code",
   "execution_count": 95,
   "id": "472d958f",
   "metadata": {},
   "outputs": [
    {
     "name": "stdout",
     "output_type": "stream",
     "text": [
      "[20, 30, -20, 60]\n"
     ]
    }
   ],
   "source": [
    "list1 = [10, 20, 30, 20, 20, 30, 40,\n",
    "         50, -20, 60, 60, -20, -20]\n",
    "\n",
    "def repeat(x):\n",
    "    _size=len(x)\n",
    "    repeated=[]\n",
    "    for i in range(_size):\n",
    "        k=i+1\n",
    "        for j in range(k,_size):\n",
    "            if x[i]==x[j] and x[i] not in repeated:\n",
    "                repeated.append(x[i])\n",
    "\n",
    "    return repeated      \n",
    "print(repeat(list1))"
   ]
  },
  {
   "cell_type": "markdown",
   "id": "f1e62a29",
   "metadata": {},
   "source": [
    "#### using count method"
   ]
  },
  {
   "cell_type": "code",
   "execution_count": 115,
   "id": "622d063d",
   "metadata": {},
   "outputs": [
    {
     "name": "stdout",
     "output_type": "stream",
     "text": [
      "[20, 30, -20, 60]\n"
     ]
    }
   ],
   "source": [
    "list1 = [10, 20, 30, 20, 20, 30, 40,\n",
    "         50, -20, 60, 60, -20, -20]\n",
    "repeated=[]\n",
    "for no in list1:\n",
    "    \n",
    "    n=list1.count(no)\n",
    "   \n",
    "    if n>1:\n",
    "        if no not in repeated:\n",
    "            repeated.append(no)\n",
    "print(repeated)\n"
   ]
  },
  {
   "cell_type": "code",
   "execution_count": 118,
   "id": "30c7c175",
   "metadata": {},
   "outputs": [
    {
     "name": "stdout",
     "output_type": "stream",
     "text": [
      "[1, 2, 5, 9]\n",
      "[3, 4, 6, 7, 8]\n"
     ]
    }
   ],
   "source": [
    "# program to print duplicate numbers in a given list\n",
    "# provided input\n",
    "list = [1, 2, 1, 2, 3, 4, 5, 1, 1, 2, 5, 6, 7, 8, 9, 9]\n",
    "repeated=[]\n",
    "not_repeated=[]\n",
    "for i in list:\n",
    "    if list.count(i)>1 and i not in repeated:\n",
    "        repeated.append(i)\n",
    "    if list.count(i)<2 and i not in not_repeated:\n",
    "        not_repeated.append(i)\n",
    "print(repeated)\n",
    "print(not_repeated)"
   ]
  },
  {
   "cell_type": "code",
   "execution_count": 121,
   "id": "5c47b581",
   "metadata": {},
   "outputs": [
    {
     "name": "stdout",
     "output_type": "stream",
     "text": [
      "{1, 2, 5, 9}\n"
     ]
    }
   ],
   "source": [
    "#using set + comprehension\n",
    "x=set([x for x in list if list.count(x)>1])\n",
    "print(x)"
   ]
  },
  {
   "cell_type": "code",
   "execution_count": 130,
   "id": "1ab9b49e",
   "metadata": {},
   "outputs": [
    {
     "name": "stdout",
     "output_type": "stream",
     "text": [
      "{1, 2, 3, 4, 5, 6, 7, 8, 9}\n"
     ]
    }
   ],
   "source": [
    "#removing repeated element using sets\n",
    "x=set(list)\n",
    "print(x)"
   ]
  },
  {
   "cell_type": "markdown",
   "id": "3305f077",
   "metadata": {},
   "source": [
    "### check if elements exist in list python\n",
    "\n"
   ]
  },
  {
   "cell_type": "code",
   "execution_count": 132,
   "id": "c8d48523",
   "metadata": {},
   "outputs": [
    {
     "name": "stdout",
     "output_type": "stream",
     "text": [
      "press the no to be searched88\n",
      "88\n",
      "the element does not exist in the list\n"
     ]
    }
   ],
   "source": [
    "list=[1,2,3,4,5,6]\n",
    "x=int(input('press the no to be searched'))\n",
    "print(x)\n",
    "if x in list:\n",
    "    print (\"yes the element exists in the list\")\n",
    "else:\n",
    "    print('the element does not exist in the list')"
   ]
  },
  {
   "cell_type": "code",
   "execution_count": 139,
   "id": "3df56ff0",
   "metadata": {},
   "outputs": [
    {
     "name": "stdout",
     "output_type": "stream",
     "text": [
      "java\n"
     ]
    }
   ],
   "source": [
    "###getting a dictionary value\n",
    "###search the key for a value 100\n",
    "# creating a new dictionary\n",
    "my_dict ={\"java\":100, \"python\":112, \"c\":11}\n",
    "for keys,values in my_dict.items():\n",
    "    if values==100:\n",
    "         print(keys)\n",
    "        "
   ]
  },
  {
   "cell_type": "code",
   "execution_count": 156,
   "id": "d9a6c039",
   "metadata": {},
   "outputs": [
    {
     "name": "stdout",
     "output_type": "stream",
     "text": [
      "print the original list [4, 5, 6, 7, 8, 9]\n",
      "reveresed list [9, 8, 7, 6, 5, 4]\n"
     ]
    }
   ],
   "source": [
    "#working with th lists\n",
    "list1 = [4, 5, 6, 7, 8, 9]\n",
    "print(\"print the original list\",list1)\n",
    "list1.reverse()\n",
    "reversed_list=list1\n",
    "print('reveresed list',reversed_list)\n"
   ]
  },
  {
   "cell_type": "code",
   "execution_count": 167,
   "id": "44177801",
   "metadata": {},
   "outputs": [
    {
     "name": "stdout",
     "output_type": "stream",
     "text": [
      "[9, 8, 7, 6, 5, 4]\n",
      "[9, 8, 7, 6, 5, 4]\n"
     ]
    },
    {
     "data": {
      "text/plain": [
       "[9, 8, 7, 6, 5, 4, 4, 5, 6, 7, 8, 9]"
      ]
     },
     "execution_count": 167,
     "metadata": {},
     "output_type": "execute_result"
    }
   ],
   "source": [
    "list2=[]\n",
    "print(list1)\n",
    "list2.extend(list1)\n",
    "print(list2)\n",
    "list1.reverse()\n",
    "list2.extend(list1)\n",
    "list2"
   ]
  },
  {
   "cell_type": "markdown",
   "id": "10825967",
   "metadata": {},
   "source": [
    "#### reversing   a list using a comprehension"
   ]
  },
  {
   "cell_type": "code",
   "execution_count": 170,
   "id": "a766bdc3",
   "metadata": {},
   "outputs": [
    {
     "name": "stdout",
     "output_type": "stream",
     "text": [
      "[15, 14, 13, 12, 11, 10]\n"
     ]
    }
   ],
   "source": [
    "original_list = [10, 11, 12, 13, 14, 15]\n",
    "output=[x for x in original_list[::-1]]\n",
    "print(output)"
   ]
  },
  {
   "cell_type": "code",
   "execution_count": 171,
   "id": "8aff91de",
   "metadata": {},
   "outputs": [
    {
     "name": "stdout",
     "output_type": "stream",
     "text": [
      "[15, 14, 13, 12, 11, 10]\n"
     ]
    }
   ],
   "source": [
    "C\n",
    "new_list = [original_list[len(original_list) - i]\n",
    "            for i in range(1, len(original_list)+1)]\n",
    "print(new_list)"
   ]
  },
  {
   "cell_type": "code",
   "execution_count": 172,
   "id": "fbe4a48e",
   "metadata": {},
   "outputs": [],
   "source": [
    "#cloning"
   ]
  },
  {
   "cell_type": "code",
   "execution_count": 174,
   "id": "5dfb54d3",
   "metadata": {},
   "outputs": [
    {
     "name": "stdout",
     "output_type": "stream",
     "text": [
      "[10, 11, 12, 13, 14, 15]\n"
     ]
    }
   ],
   "source": [
    "list_copy2=original_list.copy()\n",
    "print(list_copy2)\n"
   ]
  },
  {
   "cell_type": "code",
   "execution_count": 177,
   "id": "a8104c6b",
   "metadata": {},
   "outputs": [
    {
     "data": {
      "text/plain": [
       "[10, 11, 12, 13, 14, 15]"
      ]
     },
     "execution_count": 177,
     "metadata": {},
     "output_type": "execute_result"
    }
   ],
   "source": [
    "import copy\n",
    "list_copy3=copy.copy(original_list)\n",
    "list_copy3"
   ]
  },
  {
   "cell_type": "code",
   "execution_count": 191,
   "id": "c7b08d32",
   "metadata": {},
   "outputs": [
    {
     "name": "stdout",
     "output_type": "stream",
     "text": [
      "after cloning 10 11 12 13 14 15\n"
     ]
    }
   ],
   "source": [
    "#using map function to copy\n",
    "list_map=map(int,list_copy3)\n",
    "print('after cloning',*list_map)"
   ]
  },
  {
   "cell_type": "code",
   "execution_count": 194,
   "id": "9f3341a6",
   "metadata": {},
   "outputs": [
    {
     "data": {
      "text/plain": [
       "([10, 12, 14], [11, 13, 15])"
      ]
     },
     "execution_count": 194,
     "metadata": {},
     "output_type": "execute_result"
    }
   ],
   "source": [
    "#printing the odd even nos in a list\n",
    "#using list comprehension\n",
    "list1=[10, 11, 12, 13, 14, 15]\n",
    "even=[x for x in list1 if x%2==0]\n",
    "odd=[x for x in list1 if x%2==1]\n",
    "even,odd"
   ]
  },
  {
   "cell_type": "code",
   "execution_count": 198,
   "id": "86fd7d75",
   "metadata": {},
   "outputs": [
    {
     "name": "stdout",
     "output_type": "stream",
     "text": [
      "even nos are as 10 12 14\n"
     ]
    }
   ],
   "source": [
    "#using lambda nos\n",
    "even=filter(lambda x:(x%2==0),list1)\n",
    "print(\"even nos are as\",*even)\n"
   ]
  },
  {
   "cell_type": "code",
   "execution_count": 209,
   "id": "4bb80a67",
   "metadata": {},
   "outputs": [
    {
     "name": "stdout",
     "output_type": "stream",
     "text": [
      "enter the starting range point22\n",
      "enter the ending point of a range88\n",
      "22 24 26 28 30 32 34 36 38 40 42 44 46 48 50 52 54 56 58 60 62 64 66 68 70 72 74 76 78 80 82 84 86 "
     ]
    }
   ],
   "source": [
    "# Python program to print Even Numbers in given range\n",
    "x=int(input(\"enter the starting range point\"))\n",
    "y=int(input(\"enter the ending point of a range\"))\n",
    "if int(x)%2!=0:\n",
    "    x=x+1\n",
    "    \n",
    "for i in range(x,y,2):\n",
    "    print(i,end=' ')\n",
    "    \n",
    "    "
   ]
  },
  {
   "cell_type": "code",
   "execution_count": 241,
   "id": "ee9c4f1b",
   "metadata": {},
   "outputs": [
    {
     "name": "stdout",
     "output_type": "stream",
     "text": [
      "[1, 2, 3, 4, 5, 6, 7, 8, 9, 10, 11, 12, 13, 14, 15, 16, 17, 18, 19, 20, 21, 22, 23, 24, 25, 26, 27, 28, 29, 30, 31, 32, 33, 34, 35, 36, 37, 38, 39, 40, 41, 42, 43, 44, 45, 46, 47, 48, 49, 50, 51, 52, 53, 54, 55, 56, 57, 58, 59, 60, 61, 62, 63, 64, 65, 66, 67, 68, 69, 70, 71, 72, 73, 74, 75, 76, 77, 78, 79, 80, 81, 82, 83, 84, 85, 86, 87, 88, 89, 90, 91, 92, 93, 94, 95, 96, 97, 98, 99]\n"
     ]
    }
   ],
   "source": [
    "import random\n",
    "list1=[x for x in range(1,100)]\n",
    "print(list)"
   ]
  },
  {
   "cell_type": "code",
   "execution_count": 246,
   "id": "165a1da1",
   "metadata": {},
   "outputs": [
    {
     "name": "stdout",
     "output_type": "stream",
     "text": [
      "even nos are 2 4 6 8 10 12 14 16 18 20 22 24 26 28 30 32 34 36 38 40 42 44 46 48 50 52 54 56 58 60 62 64 66 68 70 72 74 76 78 80 82 84 86 88 90 92 94 96 98\n"
     ]
    }
   ],
   "source": [
    "#using filter\n",
    "even=(filter(lambda x:x%2==0,list1))\n",
    "print(\"even nos are\",*even)"
   ]
  },
  {
   "cell_type": "code",
   "execution_count": 277,
   "id": "2ae074ff",
   "metadata": {},
   "outputs": [
    {
     "ename": "TypeError",
     "evalue": "'list' object is not callable",
     "output_type": "error",
     "traceback": [
      "\u001b[1;31m---------------------------------------------------------------------------\u001b[0m",
      "\u001b[1;31mTypeError\u001b[0m                                 Traceback (most recent call last)",
      "Input \u001b[1;32mIn [277]\u001b[0m, in \u001b[0;36m<cell line: 2>\u001b[1;34m()\u001b[0m\n\u001b[0;32m      1\u001b[0m \u001b[38;5;66;03m#using filter\u001b[39;00m\n\u001b[1;32m----> 2\u001b[0m even\u001b[38;5;241m=\u001b[39m[\u001b[38;5;28;43mlist\u001b[39;49m\u001b[43m(\u001b[49m\u001b[38;5;28;43mfilter\u001b[39;49m\u001b[43m(\u001b[49m\u001b[38;5;28;43;01mlambda\u001b[39;49;00m\u001b[43m \u001b[49m\u001b[43mx\u001b[49m\u001b[43m:\u001b[49m\u001b[43mx\u001b[49m\u001b[38;5;241;43m%\u001b[39;49m\u001b[38;5;241;43m2\u001b[39;49m\u001b[38;5;241;43m==\u001b[39;49m\u001b[38;5;241;43m0\u001b[39;49m\u001b[43m,\u001b[49m\u001b[43mlist1\u001b[49m\u001b[43m)\u001b[49m\u001b[43m)\u001b[49m]\n\u001b[0;32m      3\u001b[0m \u001b[38;5;28mprint\u001b[39m(\u001b[38;5;124m\"\u001b[39m\u001b[38;5;124meven nos are\u001b[39m\u001b[38;5;124m\"\u001b[39m,\u001b[38;5;241m*\u001b[39meven)\n",
      "\u001b[1;31mTypeError\u001b[0m: 'list' object is not callable"
     ]
    }
   ],
   "source": [
    "#using filter\n",
    "even=[list(filter(lambda x:x%2==0,list1))]\n",
    "print(\"even nos are\",*even)\n"
   ]
  },
  {
   "cell_type": "code",
   "execution_count": 290,
   "id": "f3118a7b",
   "metadata": {},
   "outputs": [
    {
     "name": "stdout",
     "output_type": "stream",
     "text": [
      "50 49\n"
     ]
    },
    {
     "data": {
      "text/plain": [
       "(50, 49)"
      ]
     },
     "execution_count": 290,
     "metadata": {},
     "output_type": "execute_result"
    }
   ],
   "source": [
    "list=[]\n",
    "odd_even_list=[x for x in range(1,100)]\n",
    "odd_count=len(set(filter(lambda x:(x%2!=0),odd_even_list)))\n",
    "even_count=len(set(filter(lambda x:(x%2==0),odd_even_list)))\n",
    "print(odd_count,even_count)\n",
    "odd_count,even_count"
   ]
  },
  {
   "cell_type": "code",
   "execution_count": 294,
   "id": "845613fd",
   "metadata": {},
   "outputs": [
    {
     "name": "stdout",
     "output_type": "stream",
     "text": [
      "even nos are  {1, 3, 5, 7, 9, 11, 13, 15, 17, 19, 21, 23, 25, 27, 29, 31, 33, 35, 37, 39, 41, 43, 45, 47, 49, 51, 53, 55, 57, 59, 61, 63, 65, 67, 69, 71, 73, 75, 77, 79, 81, 83, 85, 87, 89, 91, 93, 95, 97, 99} "
     ]
    }
   ],
   "source": [
    "even=set(filter(lambda x:(x%2!=0),odd_even_list))\n",
    "print('even nos are ',even,end=' ')"
   ]
  },
  {
   "cell_type": "code",
   "execution_count": 295,
   "id": "eeba98b7",
   "metadata": {},
   "outputs": [
    {
     "name": "stdout",
     "output_type": "stream",
     "text": [
      "[5, 6, [], 3, [], [], 9]\n",
      "[5, 6, 3, 9]\n"
     ]
    }
   ],
   "source": [
    "test_list = [5, 6, [], 3, [], [], 9]\n",
    "print(test_list)\n",
    "test_list=[x for x in test_list if x!=[]]\n",
    "print(test_list)"
   ]
  },
  {
   "cell_type": "markdown",
   "id": "aafc0b3c",
   "metadata": {},
   "source": [
    "### removing duplicates"
   ]
  },
  {
   "cell_type": "code",
   "execution_count": 297,
   "id": "282b4910",
   "metadata": {},
   "outputs": [
    {
     "name": "stdout",
     "output_type": "stream",
     "text": [
      "original list [1, 3, 5, 6, 3, 5, 6, 1]\n",
      "{1, 3, 5, 6}\n"
     ]
    }
   ],
   "source": [
    "test_list = [1, 3, 5, 6, 3, 5, 6, 1]\n",
    "print('original list',test_list)\n",
    "print(set(test_list))"
   ]
  },
  {
   "cell_type": "code",
   "execution_count": 304,
   "id": "accc6a05",
   "metadata": {},
   "outputs": [
    {
     "name": "stdout",
     "output_type": "stream",
     "text": [
      "[1, 3, 5, 6]\n"
     ]
    }
   ],
   "source": [
    "list2=[]\n",
    "for x in test_list:\n",
    "    if x not in list2:\n",
    "        \n",
    "        list2.append(x)\n",
    "        \n",
    "print(list2)\n"
   ]
  },
  {
   "cell_type": "markdown",
   "id": "5d5b241d",
   "metadata": {},
   "source": [
    "#### using comprehension"
   ]
  },
  {
   "cell_type": "code",
   "execution_count": 312,
   "id": "acfd24d9",
   "metadata": {},
   "outputs": [
    {
     "data": {
      "text/plain": [
       "{1, 3, 5, 6}"
      ]
     },
     "execution_count": 312,
     "metadata": {},
     "output_type": "execute_result"
    }
   ],
   "source": [
    "x=set(filter(lambda x:(x for x in test_list if test_list.count(x)>1),test_list))\n",
    "x"
   ]
  },
  {
   "cell_type": "code",
   "execution_count": 314,
   "id": "546a4f60",
   "metadata": {},
   "outputs": [
    {
     "data": {
      "text/plain": [
       "array([3, 4, 6, 8])"
      ]
     },
     "execution_count": 314,
     "metadata": {},
     "output_type": "execute_result"
    }
   ],
   "source": [
    "import numpy as np\n",
    "test_list = [4, 6, 4, 3, 3,6,6,6,6,6, 4, 3, 4, 3, 8]\n",
    "np.unique(test_list)"
   ]
  },
  {
   "cell_type": "code",
   "execution_count": 320,
   "id": "e2089993",
   "metadata": {},
   "outputs": [
    {
     "name": "stdout",
     "output_type": "stream",
     "text": [
      "(1, 2, 3)\n",
      "(1, 3, 2)\n",
      "(2, 1, 3)\n",
      "(2, 3, 1)\n",
      "(3, 1, 2)\n",
      "(3, 2, 1)\n"
     ]
    }
   ],
   "source": [
    "# Python program to print all\n",
    "# the possible combinations\n",
    "  \n",
    "from itertools import permutations\n",
    "  \n",
    "# Get all combination of [1, 2, 3]\n",
    "# of length 3\n",
    "comb = permutations([1, 2, 3], 3)\n",
    "  \n",
    "for i in comb:\n",
    "    print(i)\n",
    "    "
   ]
  },
  {
   "cell_type": "markdown",
   "id": "a86f41b2",
   "metadata": {},
   "source": [
    "### summation of digits of a no using lambda , mapping and reduce"
   ]
  },
  {
   "cell_type": "code",
   "execution_count": 321,
   "id": "c753067e",
   "metadata": {},
   "outputs": [
    {
     "name": "stdout",
     "output_type": "stream",
     "text": [
      "original list [12, 55, 108, 544, 3]\n"
     ]
    },
    {
     "ename": "TypeError",
     "evalue": "'list' object is not callable",
     "output_type": "error",
     "traceback": [
      "\u001b[1;31m---------------------------------------------------------------------------\u001b[0m",
      "\u001b[1;31mTypeError\u001b[0m                                 Traceback (most recent call last)",
      "Input \u001b[1;32mIn [321]\u001b[0m, in \u001b[0;36m<cell line: 4>\u001b[1;34m()\u001b[0m\n\u001b[0;32m      2\u001b[0m \u001b[38;5;28mprint\u001b[39m(\u001b[38;5;124m'\u001b[39m\u001b[38;5;124moriginal list\u001b[39m\u001b[38;5;124m'\u001b[39m,test_list)\n\u001b[0;32m      3\u001b[0m \u001b[38;5;28;01mfrom\u001b[39;00m \u001b[38;5;21;01mfunctools\u001b[39;00m \u001b[38;5;28;01mimport\u001b[39;00m reduce\n\u001b[1;32m----> 4\u001b[0m dig_sum\u001b[38;5;241m=\u001b[39m\u001b[38;5;28;43mlist\u001b[39;49m\u001b[43m(\u001b[49m\u001b[38;5;28;43mmap\u001b[39;49m\u001b[43m(\u001b[49m\u001b[38;5;28;43;01mlambda\u001b[39;49;00m\u001b[43m \u001b[49m\u001b[43mx\u001b[49m\u001b[43m:\u001b[49m\u001b[38;5;28;43msum\u001b[39;49m\u001b[43m(\u001b[49m\u001b[38;5;28;43mint\u001b[39;49m\u001b[43m(\u001b[49m\u001b[43my\u001b[49m\u001b[43m)\u001b[49m\u001b[43m \u001b[49m\u001b[38;5;28;43;01mfor\u001b[39;49;00m\u001b[43m \u001b[49m\u001b[43my\u001b[49m\u001b[43m \u001b[49m\u001b[38;5;129;43;01min\u001b[39;49;00m\u001b[43m \u001b[49m\u001b[38;5;28;43mstr\u001b[39;49m\u001b[43m(\u001b[49m\u001b[43mx\u001b[49m\u001b[43m)\u001b[49m\u001b[43m)\u001b[49m\u001b[43m,\u001b[49m\u001b[43mtest_list\u001b[49m\u001b[43m)\u001b[49m\u001b[43m)\u001b[49m\n\u001b[0;32m      5\u001b[0m \u001b[38;5;28mprint\u001b[39m(\u001b[38;5;124m\"\u001b[39m\u001b[38;5;124mthe sum of digits in an array are\u001b[39m\u001b[38;5;124m\"\u001b[39m,dig_sum)\n",
      "\u001b[1;31mTypeError\u001b[0m: 'list' object is not callable"
     ]
    }
   ],
   "source": [
    "test_list=[12,55,108,544,3]\n",
    "print('original list',test_list)\n",
    "from functools import reduce\n",
    "dig_sum=list(map(lambda x:sum(int(y) for y in str(x)),test_list))\n",
    "print(\"the sum of digits in an array are\",dig_sum)"
   ]
  },
  {
   "cell_type": "code",
   "execution_count": 322,
   "id": "8ec257f6",
   "metadata": {},
   "outputs": [
    {
     "data": {
      "text/plain": [
       "544"
      ]
     },
     "execution_count": 322,
     "metadata": {},
     "output_type": "execute_result"
    }
   ],
   "source": [
    "max(test_list)"
   ]
  },
  {
   "cell_type": "code",
   "execution_count": 323,
   "id": "970650af",
   "metadata": {},
   "outputs": [
    {
     "name": "stdout",
     "output_type": "stream",
     "text": [
      "print the second largest no in a list 108\n"
     ]
    }
   ],
   "source": [
    "#printing the largest no in a list\n",
    "test_list=[12,55,108,544,3]\n",
    "print(\"print the second largest no in a list\",sorted(test_list)[-2])"
   ]
  },
  {
   "cell_type": "code",
   "execution_count": 324,
   "id": "d1d6b3fa",
   "metadata": {},
   "outputs": [
    {
     "data": {
      "text/plain": [
       "(544, 3, 722)"
      ]
     },
     "execution_count": 324,
     "metadata": {},
     "output_type": "execute_result"
    }
   ],
   "source": [
    "min(test_list)\n",
    "np.max(test_list),np.min(test_list),np.sum(test_list)"
   ]
  },
  {
   "cell_type": "code",
   "execution_count": 326,
   "id": "3edf6295",
   "metadata": {},
   "outputs": [
    {
     "data": {
      "text/plain": [
       "(3, 544)"
      ]
     },
     "execution_count": 326,
     "metadata": {},
     "output_type": "execute_result"
    }
   ],
   "source": [
    "test_list.sort()\n",
    "#min no , max no\n",
    "test_list[0],test_list[-1]"
   ]
  },
  {
   "cell_type": "code",
   "execution_count": 327,
   "id": "b233fb70",
   "metadata": {},
   "outputs": [
    {
     "name": "stdout",
     "output_type": "stream",
     "text": [
      "original list [10, 20, 4, 45, 99]\n"
     ]
    },
    {
     "data": {
      "text/plain": [
       "[4, 10, 20, 99]"
      ]
     },
     "execution_count": 327,
     "metadata": {},
     "output_type": "execute_result"
    }
   ],
   "source": [
    "#python program to remove the second largest no\n",
    "# List of numbers\n",
    "list1 = [10, 20, 4, 45, 99]\n",
    "print('original list',list1)\n",
    "list1.sort()\n",
    "list1.remove(list1[-2])\n",
    "list1"
   ]
  },
  {
   "cell_type": "code",
   "execution_count": 328,
   "id": "4a418521",
   "metadata": {},
   "outputs": [
    {
     "name": "stdout",
     "output_type": "stream",
     "text": [
      "original list [10, 20, 4, 45, 99, 99]\n"
     ]
    },
    {
     "data": {
      "text/plain": [
       "[10, 20, 4, 45, 99]"
      ]
     },
     "execution_count": 328,
     "metadata": {},
     "output_type": "execute_result"
    }
   ],
   "source": [
    "#removing the largest nos in the list\n",
    "list1 = [10, 20, 4, 45, 99,99]\n",
    "print('original list',list1)\n",
    "list1.remove(max(list1))\n",
    "list1"
   ]
  },
  {
   "cell_type": "code",
   "execution_count": null,
   "id": "500e8cdc",
   "metadata": {},
   "outputs": [],
   "source": []
  }
 ],
 "metadata": {
  "kernelspec": {
   "display_name": "Python 3 (ipykernel)",
   "language": "python",
   "name": "python3"
  },
  "language_info": {
   "codemirror_mode": {
    "name": "ipython",
    "version": 3
   },
   "file_extension": ".py",
   "mimetype": "text/x-python",
   "name": "python",
   "nbconvert_exporter": "python",
   "pygments_lexer": "ipython3",
   "version": "3.9.12"
  }
 },
 "nbformat": 4,
 "nbformat_minor": 5
}
