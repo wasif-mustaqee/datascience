{
 "cells": [
  {
   "cell_type": "code",
   "execution_count": 2,
   "id": "831f4793",
   "metadata": {},
   "outputs": [],
   "source": [
    "import numpy as np\n",
    "import pandas as pd\n",
    "import seaborn as sns\n",
    "import matplotlib.pyplot as plt\n",
    "import warnings \n",
    "warnings.filterwarnings('ignore')\n",
    "##for statistical tests\n",
    "import scipy.stats as stats\n",
    "#for splitting the data\n",
    "from sklearn.model_selection import train_test_split\n",
    "\n",
    "\n",
    "\n",
    "##FOR MODELLING\n",
    "from sklearn.ensemble import RandomForestClassifier\n",
    "#from lightgbm import LBMBClassifier\n"
   ]
  },
  {
   "cell_type": "code",
   "execution_count": 3,
   "id": "38e42667",
   "metadata": {},
   "outputs": [],
   "source": [
    "from sklearn.metrics import confusion_matrix,accuracy_score,classification_report\n",
    "from sklearn.metrics import ConfusionMatrixDisplay,f1_score,recall_score,precision_score\n"
   ]
  },
  {
   "cell_type": "code",
   "execution_count": 4,
   "id": "33e49b28",
   "metadata": {},
   "outputs": [],
   "source": [
    "df=pd.read_csv('hotel_bookings.csv')"
   ]
  },
  {
   "cell_type": "code",
   "execution_count": 5,
   "id": "7a827e8a",
   "metadata": {},
   "outputs": [
    {
     "data": {
      "text/html": [
       "<div>\n",
       "<style scoped>\n",
       "    .dataframe tbody tr th:only-of-type {\n",
       "        vertical-align: middle;\n",
       "    }\n",
       "\n",
       "    .dataframe tbody tr th {\n",
       "        vertical-align: top;\n",
       "    }\n",
       "\n",
       "    .dataframe thead th {\n",
       "        text-align: right;\n",
       "    }\n",
       "</style>\n",
       "<table border=\"1\" class=\"dataframe\">\n",
       "  <thead>\n",
       "    <tr style=\"text-align: right;\">\n",
       "      <th></th>\n",
       "      <th>hotel</th>\n",
       "      <th>is_canceled</th>\n",
       "      <th>lead_time</th>\n",
       "      <th>arrival_date_year</th>\n",
       "      <th>arrival_date_month</th>\n",
       "      <th>arrival_date_week_number</th>\n",
       "      <th>arrival_date_day_of_month</th>\n",
       "      <th>stays_in_weekend_nights</th>\n",
       "      <th>stays_in_week_nights</th>\n",
       "      <th>adults</th>\n",
       "      <th>...</th>\n",
       "      <th>deposit_type</th>\n",
       "      <th>agent</th>\n",
       "      <th>company</th>\n",
       "      <th>days_in_waiting_list</th>\n",
       "      <th>customer_type</th>\n",
       "      <th>adr</th>\n",
       "      <th>required_car_parking_spaces</th>\n",
       "      <th>total_of_special_requests</th>\n",
       "      <th>reservation_status</th>\n",
       "      <th>reservation_status_date</th>\n",
       "    </tr>\n",
       "  </thead>\n",
       "  <tbody>\n",
       "    <tr>\n",
       "      <th>0</th>\n",
       "      <td>Resort Hotel</td>\n",
       "      <td>0</td>\n",
       "      <td>342</td>\n",
       "      <td>2015</td>\n",
       "      <td>July</td>\n",
       "      <td>27</td>\n",
       "      <td>1</td>\n",
       "      <td>0</td>\n",
       "      <td>0</td>\n",
       "      <td>2</td>\n",
       "      <td>...</td>\n",
       "      <td>No Deposit</td>\n",
       "      <td>NaN</td>\n",
       "      <td>NaN</td>\n",
       "      <td>0</td>\n",
       "      <td>Transient</td>\n",
       "      <td>0.00</td>\n",
       "      <td>0</td>\n",
       "      <td>0</td>\n",
       "      <td>Check-Out</td>\n",
       "      <td>2015-07-01</td>\n",
       "    </tr>\n",
       "    <tr>\n",
       "      <th>1</th>\n",
       "      <td>Resort Hotel</td>\n",
       "      <td>0</td>\n",
       "      <td>737</td>\n",
       "      <td>2015</td>\n",
       "      <td>July</td>\n",
       "      <td>27</td>\n",
       "      <td>1</td>\n",
       "      <td>0</td>\n",
       "      <td>0</td>\n",
       "      <td>2</td>\n",
       "      <td>...</td>\n",
       "      <td>No Deposit</td>\n",
       "      <td>NaN</td>\n",
       "      <td>NaN</td>\n",
       "      <td>0</td>\n",
       "      <td>Transient</td>\n",
       "      <td>0.00</td>\n",
       "      <td>0</td>\n",
       "      <td>0</td>\n",
       "      <td>Check-Out</td>\n",
       "      <td>2015-07-01</td>\n",
       "    </tr>\n",
       "    <tr>\n",
       "      <th>2</th>\n",
       "      <td>Resort Hotel</td>\n",
       "      <td>0</td>\n",
       "      <td>7</td>\n",
       "      <td>2015</td>\n",
       "      <td>July</td>\n",
       "      <td>27</td>\n",
       "      <td>1</td>\n",
       "      <td>0</td>\n",
       "      <td>1</td>\n",
       "      <td>1</td>\n",
       "      <td>...</td>\n",
       "      <td>No Deposit</td>\n",
       "      <td>NaN</td>\n",
       "      <td>NaN</td>\n",
       "      <td>0</td>\n",
       "      <td>Transient</td>\n",
       "      <td>75.00</td>\n",
       "      <td>0</td>\n",
       "      <td>0</td>\n",
       "      <td>Check-Out</td>\n",
       "      <td>2015-07-02</td>\n",
       "    </tr>\n",
       "    <tr>\n",
       "      <th>3</th>\n",
       "      <td>Resort Hotel</td>\n",
       "      <td>0</td>\n",
       "      <td>13</td>\n",
       "      <td>2015</td>\n",
       "      <td>July</td>\n",
       "      <td>27</td>\n",
       "      <td>1</td>\n",
       "      <td>0</td>\n",
       "      <td>1</td>\n",
       "      <td>1</td>\n",
       "      <td>...</td>\n",
       "      <td>No Deposit</td>\n",
       "      <td>304.0</td>\n",
       "      <td>NaN</td>\n",
       "      <td>0</td>\n",
       "      <td>Transient</td>\n",
       "      <td>75.00</td>\n",
       "      <td>0</td>\n",
       "      <td>0</td>\n",
       "      <td>Check-Out</td>\n",
       "      <td>2015-07-02</td>\n",
       "    </tr>\n",
       "    <tr>\n",
       "      <th>4</th>\n",
       "      <td>Resort Hotel</td>\n",
       "      <td>0</td>\n",
       "      <td>14</td>\n",
       "      <td>2015</td>\n",
       "      <td>July</td>\n",
       "      <td>27</td>\n",
       "      <td>1</td>\n",
       "      <td>0</td>\n",
       "      <td>2</td>\n",
       "      <td>2</td>\n",
       "      <td>...</td>\n",
       "      <td>No Deposit</td>\n",
       "      <td>240.0</td>\n",
       "      <td>NaN</td>\n",
       "      <td>0</td>\n",
       "      <td>Transient</td>\n",
       "      <td>98.00</td>\n",
       "      <td>0</td>\n",
       "      <td>1</td>\n",
       "      <td>Check-Out</td>\n",
       "      <td>2015-07-03</td>\n",
       "    </tr>\n",
       "    <tr>\n",
       "      <th>5</th>\n",
       "      <td>Resort Hotel</td>\n",
       "      <td>0</td>\n",
       "      <td>14</td>\n",
       "      <td>2015</td>\n",
       "      <td>July</td>\n",
       "      <td>27</td>\n",
       "      <td>1</td>\n",
       "      <td>0</td>\n",
       "      <td>2</td>\n",
       "      <td>2</td>\n",
       "      <td>...</td>\n",
       "      <td>No Deposit</td>\n",
       "      <td>240.0</td>\n",
       "      <td>NaN</td>\n",
       "      <td>0</td>\n",
       "      <td>Transient</td>\n",
       "      <td>98.00</td>\n",
       "      <td>0</td>\n",
       "      <td>1</td>\n",
       "      <td>Check-Out</td>\n",
       "      <td>2015-07-03</td>\n",
       "    </tr>\n",
       "    <tr>\n",
       "      <th>6</th>\n",
       "      <td>Resort Hotel</td>\n",
       "      <td>0</td>\n",
       "      <td>0</td>\n",
       "      <td>2015</td>\n",
       "      <td>July</td>\n",
       "      <td>27</td>\n",
       "      <td>1</td>\n",
       "      <td>0</td>\n",
       "      <td>2</td>\n",
       "      <td>2</td>\n",
       "      <td>...</td>\n",
       "      <td>No Deposit</td>\n",
       "      <td>NaN</td>\n",
       "      <td>NaN</td>\n",
       "      <td>0</td>\n",
       "      <td>Transient</td>\n",
       "      <td>107.00</td>\n",
       "      <td>0</td>\n",
       "      <td>0</td>\n",
       "      <td>Check-Out</td>\n",
       "      <td>2015-07-03</td>\n",
       "    </tr>\n",
       "    <tr>\n",
       "      <th>7</th>\n",
       "      <td>Resort Hotel</td>\n",
       "      <td>0</td>\n",
       "      <td>9</td>\n",
       "      <td>2015</td>\n",
       "      <td>July</td>\n",
       "      <td>27</td>\n",
       "      <td>1</td>\n",
       "      <td>0</td>\n",
       "      <td>2</td>\n",
       "      <td>2</td>\n",
       "      <td>...</td>\n",
       "      <td>No Deposit</td>\n",
       "      <td>303.0</td>\n",
       "      <td>NaN</td>\n",
       "      <td>0</td>\n",
       "      <td>Transient</td>\n",
       "      <td>103.00</td>\n",
       "      <td>0</td>\n",
       "      <td>1</td>\n",
       "      <td>Check-Out</td>\n",
       "      <td>2015-07-03</td>\n",
       "    </tr>\n",
       "    <tr>\n",
       "      <th>8</th>\n",
       "      <td>Resort Hotel</td>\n",
       "      <td>1</td>\n",
       "      <td>85</td>\n",
       "      <td>2015</td>\n",
       "      <td>July</td>\n",
       "      <td>27</td>\n",
       "      <td>1</td>\n",
       "      <td>0</td>\n",
       "      <td>3</td>\n",
       "      <td>2</td>\n",
       "      <td>...</td>\n",
       "      <td>No Deposit</td>\n",
       "      <td>240.0</td>\n",
       "      <td>NaN</td>\n",
       "      <td>0</td>\n",
       "      <td>Transient</td>\n",
       "      <td>82.00</td>\n",
       "      <td>0</td>\n",
       "      <td>1</td>\n",
       "      <td>Canceled</td>\n",
       "      <td>2015-05-06</td>\n",
       "    </tr>\n",
       "    <tr>\n",
       "      <th>9</th>\n",
       "      <td>Resort Hotel</td>\n",
       "      <td>1</td>\n",
       "      <td>75</td>\n",
       "      <td>2015</td>\n",
       "      <td>July</td>\n",
       "      <td>27</td>\n",
       "      <td>1</td>\n",
       "      <td>0</td>\n",
       "      <td>3</td>\n",
       "      <td>2</td>\n",
       "      <td>...</td>\n",
       "      <td>No Deposit</td>\n",
       "      <td>15.0</td>\n",
       "      <td>NaN</td>\n",
       "      <td>0</td>\n",
       "      <td>Transient</td>\n",
       "      <td>105.50</td>\n",
       "      <td>0</td>\n",
       "      <td>0</td>\n",
       "      <td>Canceled</td>\n",
       "      <td>2015-04-22</td>\n",
       "    </tr>\n",
       "    <tr>\n",
       "      <th>10</th>\n",
       "      <td>Resort Hotel</td>\n",
       "      <td>1</td>\n",
       "      <td>23</td>\n",
       "      <td>2015</td>\n",
       "      <td>July</td>\n",
       "      <td>27</td>\n",
       "      <td>1</td>\n",
       "      <td>0</td>\n",
       "      <td>4</td>\n",
       "      <td>2</td>\n",
       "      <td>...</td>\n",
       "      <td>No Deposit</td>\n",
       "      <td>240.0</td>\n",
       "      <td>NaN</td>\n",
       "      <td>0</td>\n",
       "      <td>Transient</td>\n",
       "      <td>123.00</td>\n",
       "      <td>0</td>\n",
       "      <td>0</td>\n",
       "      <td>Canceled</td>\n",
       "      <td>2015-06-23</td>\n",
       "    </tr>\n",
       "    <tr>\n",
       "      <th>11</th>\n",
       "      <td>Resort Hotel</td>\n",
       "      <td>0</td>\n",
       "      <td>35</td>\n",
       "      <td>2015</td>\n",
       "      <td>July</td>\n",
       "      <td>27</td>\n",
       "      <td>1</td>\n",
       "      <td>0</td>\n",
       "      <td>4</td>\n",
       "      <td>2</td>\n",
       "      <td>...</td>\n",
       "      <td>No Deposit</td>\n",
       "      <td>240.0</td>\n",
       "      <td>NaN</td>\n",
       "      <td>0</td>\n",
       "      <td>Transient</td>\n",
       "      <td>145.00</td>\n",
       "      <td>0</td>\n",
       "      <td>0</td>\n",
       "      <td>Check-Out</td>\n",
       "      <td>2015-07-05</td>\n",
       "    </tr>\n",
       "    <tr>\n",
       "      <th>12</th>\n",
       "      <td>Resort Hotel</td>\n",
       "      <td>0</td>\n",
       "      <td>68</td>\n",
       "      <td>2015</td>\n",
       "      <td>July</td>\n",
       "      <td>27</td>\n",
       "      <td>1</td>\n",
       "      <td>0</td>\n",
       "      <td>4</td>\n",
       "      <td>2</td>\n",
       "      <td>...</td>\n",
       "      <td>No Deposit</td>\n",
       "      <td>240.0</td>\n",
       "      <td>NaN</td>\n",
       "      <td>0</td>\n",
       "      <td>Transient</td>\n",
       "      <td>97.00</td>\n",
       "      <td>0</td>\n",
       "      <td>3</td>\n",
       "      <td>Check-Out</td>\n",
       "      <td>2015-07-05</td>\n",
       "    </tr>\n",
       "    <tr>\n",
       "      <th>13</th>\n",
       "      <td>Resort Hotel</td>\n",
       "      <td>0</td>\n",
       "      <td>18</td>\n",
       "      <td>2015</td>\n",
       "      <td>July</td>\n",
       "      <td>27</td>\n",
       "      <td>1</td>\n",
       "      <td>0</td>\n",
       "      <td>4</td>\n",
       "      <td>2</td>\n",
       "      <td>...</td>\n",
       "      <td>No Deposit</td>\n",
       "      <td>241.0</td>\n",
       "      <td>NaN</td>\n",
       "      <td>0</td>\n",
       "      <td>Transient</td>\n",
       "      <td>154.77</td>\n",
       "      <td>0</td>\n",
       "      <td>1</td>\n",
       "      <td>Check-Out</td>\n",
       "      <td>2015-07-05</td>\n",
       "    </tr>\n",
       "    <tr>\n",
       "      <th>14</th>\n",
       "      <td>Resort Hotel</td>\n",
       "      <td>0</td>\n",
       "      <td>37</td>\n",
       "      <td>2015</td>\n",
       "      <td>July</td>\n",
       "      <td>27</td>\n",
       "      <td>1</td>\n",
       "      <td>0</td>\n",
       "      <td>4</td>\n",
       "      <td>2</td>\n",
       "      <td>...</td>\n",
       "      <td>No Deposit</td>\n",
       "      <td>241.0</td>\n",
       "      <td>NaN</td>\n",
       "      <td>0</td>\n",
       "      <td>Transient</td>\n",
       "      <td>94.71</td>\n",
       "      <td>0</td>\n",
       "      <td>0</td>\n",
       "      <td>Check-Out</td>\n",
       "      <td>2015-07-05</td>\n",
       "    </tr>\n",
       "    <tr>\n",
       "      <th>15</th>\n",
       "      <td>Resort Hotel</td>\n",
       "      <td>0</td>\n",
       "      <td>68</td>\n",
       "      <td>2015</td>\n",
       "      <td>July</td>\n",
       "      <td>27</td>\n",
       "      <td>1</td>\n",
       "      <td>0</td>\n",
       "      <td>4</td>\n",
       "      <td>2</td>\n",
       "      <td>...</td>\n",
       "      <td>No Deposit</td>\n",
       "      <td>240.0</td>\n",
       "      <td>NaN</td>\n",
       "      <td>0</td>\n",
       "      <td>Transient</td>\n",
       "      <td>97.00</td>\n",
       "      <td>0</td>\n",
       "      <td>3</td>\n",
       "      <td>Check-Out</td>\n",
       "      <td>2015-07-05</td>\n",
       "    </tr>\n",
       "    <tr>\n",
       "      <th>16</th>\n",
       "      <td>Resort Hotel</td>\n",
       "      <td>0</td>\n",
       "      <td>37</td>\n",
       "      <td>2015</td>\n",
       "      <td>July</td>\n",
       "      <td>27</td>\n",
       "      <td>1</td>\n",
       "      <td>0</td>\n",
       "      <td>4</td>\n",
       "      <td>2</td>\n",
       "      <td>...</td>\n",
       "      <td>No Deposit</td>\n",
       "      <td>8.0</td>\n",
       "      <td>NaN</td>\n",
       "      <td>0</td>\n",
       "      <td>Contract</td>\n",
       "      <td>97.50</td>\n",
       "      <td>0</td>\n",
       "      <td>0</td>\n",
       "      <td>Check-Out</td>\n",
       "      <td>2015-07-05</td>\n",
       "    </tr>\n",
       "    <tr>\n",
       "      <th>17</th>\n",
       "      <td>Resort Hotel</td>\n",
       "      <td>0</td>\n",
       "      <td>12</td>\n",
       "      <td>2015</td>\n",
       "      <td>July</td>\n",
       "      <td>27</td>\n",
       "      <td>1</td>\n",
       "      <td>0</td>\n",
       "      <td>1</td>\n",
       "      <td>2</td>\n",
       "      <td>...</td>\n",
       "      <td>No Deposit</td>\n",
       "      <td>240.0</td>\n",
       "      <td>NaN</td>\n",
       "      <td>0</td>\n",
       "      <td>Transient</td>\n",
       "      <td>88.20</td>\n",
       "      <td>0</td>\n",
       "      <td>0</td>\n",
       "      <td>Check-Out</td>\n",
       "      <td>2015-07-02</td>\n",
       "    </tr>\n",
       "    <tr>\n",
       "      <th>18</th>\n",
       "      <td>Resort Hotel</td>\n",
       "      <td>0</td>\n",
       "      <td>0</td>\n",
       "      <td>2015</td>\n",
       "      <td>July</td>\n",
       "      <td>27</td>\n",
       "      <td>1</td>\n",
       "      <td>0</td>\n",
       "      <td>1</td>\n",
       "      <td>2</td>\n",
       "      <td>...</td>\n",
       "      <td>No Deposit</td>\n",
       "      <td>NaN</td>\n",
       "      <td>110.0</td>\n",
       "      <td>0</td>\n",
       "      <td>Transient</td>\n",
       "      <td>107.42</td>\n",
       "      <td>0</td>\n",
       "      <td>0</td>\n",
       "      <td>Check-Out</td>\n",
       "      <td>2015-07-02</td>\n",
       "    </tr>\n",
       "    <tr>\n",
       "      <th>19</th>\n",
       "      <td>Resort Hotel</td>\n",
       "      <td>0</td>\n",
       "      <td>7</td>\n",
       "      <td>2015</td>\n",
       "      <td>July</td>\n",
       "      <td>27</td>\n",
       "      <td>1</td>\n",
       "      <td>0</td>\n",
       "      <td>4</td>\n",
       "      <td>2</td>\n",
       "      <td>...</td>\n",
       "      <td>No Deposit</td>\n",
       "      <td>250.0</td>\n",
       "      <td>NaN</td>\n",
       "      <td>0</td>\n",
       "      <td>Transient</td>\n",
       "      <td>153.00</td>\n",
       "      <td>0</td>\n",
       "      <td>1</td>\n",
       "      <td>Check-Out</td>\n",
       "      <td>2015-07-05</td>\n",
       "    </tr>\n",
       "  </tbody>\n",
       "</table>\n",
       "<p>20 rows × 32 columns</p>\n",
       "</div>"
      ],
      "text/plain": [
       "           hotel  is_canceled  lead_time  arrival_date_year  \\\n",
       "0   Resort Hotel            0        342               2015   \n",
       "1   Resort Hotel            0        737               2015   \n",
       "2   Resort Hotel            0          7               2015   \n",
       "3   Resort Hotel            0         13               2015   \n",
       "4   Resort Hotel            0         14               2015   \n",
       "5   Resort Hotel            0         14               2015   \n",
       "6   Resort Hotel            0          0               2015   \n",
       "7   Resort Hotel            0          9               2015   \n",
       "8   Resort Hotel            1         85               2015   \n",
       "9   Resort Hotel            1         75               2015   \n",
       "10  Resort Hotel            1         23               2015   \n",
       "11  Resort Hotel            0         35               2015   \n",
       "12  Resort Hotel            0         68               2015   \n",
       "13  Resort Hotel            0         18               2015   \n",
       "14  Resort Hotel            0         37               2015   \n",
       "15  Resort Hotel            0         68               2015   \n",
       "16  Resort Hotel            0         37               2015   \n",
       "17  Resort Hotel            0         12               2015   \n",
       "18  Resort Hotel            0          0               2015   \n",
       "19  Resort Hotel            0          7               2015   \n",
       "\n",
       "   arrival_date_month  arrival_date_week_number  arrival_date_day_of_month  \\\n",
       "0                July                        27                          1   \n",
       "1                July                        27                          1   \n",
       "2                July                        27                          1   \n",
       "3                July                        27                          1   \n",
       "4                July                        27                          1   \n",
       "5                July                        27                          1   \n",
       "6                July                        27                          1   \n",
       "7                July                        27                          1   \n",
       "8                July                        27                          1   \n",
       "9                July                        27                          1   \n",
       "10               July                        27                          1   \n",
       "11               July                        27                          1   \n",
       "12               July                        27                          1   \n",
       "13               July                        27                          1   \n",
       "14               July                        27                          1   \n",
       "15               July                        27                          1   \n",
       "16               July                        27                          1   \n",
       "17               July                        27                          1   \n",
       "18               July                        27                          1   \n",
       "19               July                        27                          1   \n",
       "\n",
       "    stays_in_weekend_nights  stays_in_week_nights  adults  ...  deposit_type  \\\n",
       "0                         0                     0       2  ...    No Deposit   \n",
       "1                         0                     0       2  ...    No Deposit   \n",
       "2                         0                     1       1  ...    No Deposit   \n",
       "3                         0                     1       1  ...    No Deposit   \n",
       "4                         0                     2       2  ...    No Deposit   \n",
       "5                         0                     2       2  ...    No Deposit   \n",
       "6                         0                     2       2  ...    No Deposit   \n",
       "7                         0                     2       2  ...    No Deposit   \n",
       "8                         0                     3       2  ...    No Deposit   \n",
       "9                         0                     3       2  ...    No Deposit   \n",
       "10                        0                     4       2  ...    No Deposit   \n",
       "11                        0                     4       2  ...    No Deposit   \n",
       "12                        0                     4       2  ...    No Deposit   \n",
       "13                        0                     4       2  ...    No Deposit   \n",
       "14                        0                     4       2  ...    No Deposit   \n",
       "15                        0                     4       2  ...    No Deposit   \n",
       "16                        0                     4       2  ...    No Deposit   \n",
       "17                        0                     1       2  ...    No Deposit   \n",
       "18                        0                     1       2  ...    No Deposit   \n",
       "19                        0                     4       2  ...    No Deposit   \n",
       "\n",
       "    agent company days_in_waiting_list customer_type     adr  \\\n",
       "0     NaN     NaN                    0     Transient    0.00   \n",
       "1     NaN     NaN                    0     Transient    0.00   \n",
       "2     NaN     NaN                    0     Transient   75.00   \n",
       "3   304.0     NaN                    0     Transient   75.00   \n",
       "4   240.0     NaN                    0     Transient   98.00   \n",
       "5   240.0     NaN                    0     Transient   98.00   \n",
       "6     NaN     NaN                    0     Transient  107.00   \n",
       "7   303.0     NaN                    0     Transient  103.00   \n",
       "8   240.0     NaN                    0     Transient   82.00   \n",
       "9    15.0     NaN                    0     Transient  105.50   \n",
       "10  240.0     NaN                    0     Transient  123.00   \n",
       "11  240.0     NaN                    0     Transient  145.00   \n",
       "12  240.0     NaN                    0     Transient   97.00   \n",
       "13  241.0     NaN                    0     Transient  154.77   \n",
       "14  241.0     NaN                    0     Transient   94.71   \n",
       "15  240.0     NaN                    0     Transient   97.00   \n",
       "16    8.0     NaN                    0      Contract   97.50   \n",
       "17  240.0     NaN                    0     Transient   88.20   \n",
       "18    NaN   110.0                    0     Transient  107.42   \n",
       "19  250.0     NaN                    0     Transient  153.00   \n",
       "\n",
       "    required_car_parking_spaces  total_of_special_requests  \\\n",
       "0                             0                          0   \n",
       "1                             0                          0   \n",
       "2                             0                          0   \n",
       "3                             0                          0   \n",
       "4                             0                          1   \n",
       "5                             0                          1   \n",
       "6                             0                          0   \n",
       "7                             0                          1   \n",
       "8                             0                          1   \n",
       "9                             0                          0   \n",
       "10                            0                          0   \n",
       "11                            0                          0   \n",
       "12                            0                          3   \n",
       "13                            0                          1   \n",
       "14                            0                          0   \n",
       "15                            0                          3   \n",
       "16                            0                          0   \n",
       "17                            0                          0   \n",
       "18                            0                          0   \n",
       "19                            0                          1   \n",
       "\n",
       "    reservation_status reservation_status_date  \n",
       "0            Check-Out              2015-07-01  \n",
       "1            Check-Out              2015-07-01  \n",
       "2            Check-Out              2015-07-02  \n",
       "3            Check-Out              2015-07-02  \n",
       "4            Check-Out              2015-07-03  \n",
       "5            Check-Out              2015-07-03  \n",
       "6            Check-Out              2015-07-03  \n",
       "7            Check-Out              2015-07-03  \n",
       "8             Canceled              2015-05-06  \n",
       "9             Canceled              2015-04-22  \n",
       "10            Canceled              2015-06-23  \n",
       "11           Check-Out              2015-07-05  \n",
       "12           Check-Out              2015-07-05  \n",
       "13           Check-Out              2015-07-05  \n",
       "14           Check-Out              2015-07-05  \n",
       "15           Check-Out              2015-07-05  \n",
       "16           Check-Out              2015-07-05  \n",
       "17           Check-Out              2015-07-02  \n",
       "18           Check-Out              2015-07-02  \n",
       "19           Check-Out              2015-07-05  \n",
       "\n",
       "[20 rows x 32 columns]"
      ]
     },
     "execution_count": 5,
     "metadata": {},
     "output_type": "execute_result"
    }
   ],
   "source": [
    "df.head(20)"
   ]
  },
  {
   "cell_type": "markdown",
   "id": "0e77e26f",
   "metadata": {},
   "source": [
    "# exploring the data"
   ]
  },
  {
   "cell_type": "code",
   "execution_count": 6,
   "id": "5ca6dad2",
   "metadata": {},
   "outputs": [
    {
     "data": {
      "text/plain": [
       "(119390, 32)"
      ]
     },
     "execution_count": 6,
     "metadata": {},
     "output_type": "execute_result"
    }
   ],
   "source": [
    "df.shape\n"
   ]
  },
  {
   "cell_type": "code",
   "execution_count": 7,
   "id": "6de2c967",
   "metadata": {},
   "outputs": [
    {
     "data": {
      "text/plain": [
       "Index(['hotel', 'is_canceled', 'lead_time', 'arrival_date_year',\n",
       "       'arrival_date_month', 'arrival_date_week_number',\n",
       "       'arrival_date_day_of_month', 'stays_in_weekend_nights',\n",
       "       'stays_in_week_nights', 'adults', 'children', 'babies', 'meal',\n",
       "       'country', 'market_segment', 'distribution_channel',\n",
       "       'is_repeated_guest', 'previous_cancellations',\n",
       "       'previous_bookings_not_canceled', 'reserved_room_type',\n",
       "       'assigned_room_type', 'booking_changes', 'deposit_type', 'agent',\n",
       "       'company', 'days_in_waiting_list', 'customer_type', 'adr',\n",
       "       'required_car_parking_spaces', 'total_of_special_requests',\n",
       "       'reservation_status', 'reservation_status_date'],\n",
       "      dtype='object')"
      ]
     },
     "execution_count": 7,
     "metadata": {},
     "output_type": "execute_result"
    }
   ],
   "source": [
    "df.columns"
   ]
  },
  {
   "cell_type": "code",
   "execution_count": 8,
   "id": "dbcc5e6f",
   "metadata": {},
   "outputs": [
    {
     "name": "stdout",
     "output_type": "stream",
     "text": [
      "<class 'pandas.core.frame.DataFrame'>\n",
      "RangeIndex: 119390 entries, 0 to 119389\n",
      "Data columns (total 32 columns):\n",
      " #   Column                          Non-Null Count   Dtype  \n",
      "---  ------                          --------------   -----  \n",
      " 0   hotel                           119390 non-null  object \n",
      " 1   is_canceled                     119390 non-null  int64  \n",
      " 2   lead_time                       119390 non-null  int64  \n",
      " 3   arrival_date_year               119390 non-null  int64  \n",
      " 4   arrival_date_month              119390 non-null  object \n",
      " 5   arrival_date_week_number        119390 non-null  int64  \n",
      " 6   arrival_date_day_of_month       119390 non-null  int64  \n",
      " 7   stays_in_weekend_nights         119390 non-null  int64  \n",
      " 8   stays_in_week_nights            119390 non-null  int64  \n",
      " 9   adults                          119390 non-null  int64  \n",
      " 10  children                        119386 non-null  float64\n",
      " 11  babies                          119390 non-null  int64  \n",
      " 12  meal                            119390 non-null  object \n",
      " 13  country                         118902 non-null  object \n",
      " 14  market_segment                  119390 non-null  object \n",
      " 15  distribution_channel            119390 non-null  object \n",
      " 16  is_repeated_guest               119390 non-null  int64  \n",
      " 17  previous_cancellations          119390 non-null  int64  \n",
      " 18  previous_bookings_not_canceled  119390 non-null  int64  \n",
      " 19  reserved_room_type              119390 non-null  object \n",
      " 20  assigned_room_type              119390 non-null  object \n",
      " 21  booking_changes                 119390 non-null  int64  \n",
      " 22  deposit_type                    119390 non-null  object \n",
      " 23  agent                           103050 non-null  float64\n",
      " 24  company                         6797 non-null    float64\n",
      " 25  days_in_waiting_list            119390 non-null  int64  \n",
      " 26  customer_type                   119390 non-null  object \n",
      " 27  adr                             119390 non-null  float64\n",
      " 28  required_car_parking_spaces     119390 non-null  int64  \n",
      " 29  total_of_special_requests       119390 non-null  int64  \n",
      " 30  reservation_status              119390 non-null  object \n",
      " 31  reservation_status_date         119390 non-null  object \n",
      "dtypes: float64(4), int64(16), object(12)\n",
      "memory usage: 29.1+ MB\n"
     ]
    }
   ],
   "source": [
    "###info of th data\n",
    "df.info()"
   ]
  },
  {
   "cell_type": "code",
   "execution_count": 9,
   "id": "e7667372",
   "metadata": {},
   "outputs": [
    {
     "data": {
      "text/html": [
       "<div>\n",
       "<style scoped>\n",
       "    .dataframe tbody tr th:only-of-type {\n",
       "        vertical-align: middle;\n",
       "    }\n",
       "\n",
       "    .dataframe tbody tr th {\n",
       "        vertical-align: top;\n",
       "    }\n",
       "\n",
       "    .dataframe thead th {\n",
       "        text-align: right;\n",
       "    }\n",
       "</style>\n",
       "<table border=\"1\" class=\"dataframe\">\n",
       "  <thead>\n",
       "    <tr style=\"text-align: right;\">\n",
       "      <th></th>\n",
       "      <th>is_canceled</th>\n",
       "      <th>lead_time</th>\n",
       "      <th>arrival_date_year</th>\n",
       "      <th>arrival_date_week_number</th>\n",
       "      <th>arrival_date_day_of_month</th>\n",
       "      <th>stays_in_weekend_nights</th>\n",
       "      <th>stays_in_week_nights</th>\n",
       "      <th>adults</th>\n",
       "      <th>children</th>\n",
       "      <th>babies</th>\n",
       "      <th>is_repeated_guest</th>\n",
       "      <th>previous_cancellations</th>\n",
       "      <th>previous_bookings_not_canceled</th>\n",
       "      <th>booking_changes</th>\n",
       "      <th>agent</th>\n",
       "      <th>company</th>\n",
       "      <th>days_in_waiting_list</th>\n",
       "      <th>adr</th>\n",
       "      <th>required_car_parking_spaces</th>\n",
       "      <th>total_of_special_requests</th>\n",
       "    </tr>\n",
       "  </thead>\n",
       "  <tbody>\n",
       "    <tr>\n",
       "      <th>count</th>\n",
       "      <td>119390.000000</td>\n",
       "      <td>119390.000000</td>\n",
       "      <td>119390.000000</td>\n",
       "      <td>119390.000000</td>\n",
       "      <td>119390.000000</td>\n",
       "      <td>119390.000000</td>\n",
       "      <td>119390.000000</td>\n",
       "      <td>119390.000000</td>\n",
       "      <td>119386.000000</td>\n",
       "      <td>119390.000000</td>\n",
       "      <td>119390.000000</td>\n",
       "      <td>119390.000000</td>\n",
       "      <td>119390.000000</td>\n",
       "      <td>119390.000000</td>\n",
       "      <td>103050.000000</td>\n",
       "      <td>6797.000000</td>\n",
       "      <td>119390.000000</td>\n",
       "      <td>119390.000000</td>\n",
       "      <td>119390.000000</td>\n",
       "      <td>119390.000000</td>\n",
       "    </tr>\n",
       "    <tr>\n",
       "      <th>mean</th>\n",
       "      <td>0.370416</td>\n",
       "      <td>104.011416</td>\n",
       "      <td>2016.156554</td>\n",
       "      <td>27.165173</td>\n",
       "      <td>15.798241</td>\n",
       "      <td>0.927599</td>\n",
       "      <td>2.500302</td>\n",
       "      <td>1.856403</td>\n",
       "      <td>0.103890</td>\n",
       "      <td>0.007949</td>\n",
       "      <td>0.031912</td>\n",
       "      <td>0.087118</td>\n",
       "      <td>0.137097</td>\n",
       "      <td>0.221124</td>\n",
       "      <td>86.693382</td>\n",
       "      <td>189.266735</td>\n",
       "      <td>2.321149</td>\n",
       "      <td>101.831122</td>\n",
       "      <td>0.062518</td>\n",
       "      <td>0.571363</td>\n",
       "    </tr>\n",
       "    <tr>\n",
       "      <th>std</th>\n",
       "      <td>0.482918</td>\n",
       "      <td>106.863097</td>\n",
       "      <td>0.707476</td>\n",
       "      <td>13.605138</td>\n",
       "      <td>8.780829</td>\n",
       "      <td>0.998613</td>\n",
       "      <td>1.908286</td>\n",
       "      <td>0.579261</td>\n",
       "      <td>0.398561</td>\n",
       "      <td>0.097436</td>\n",
       "      <td>0.175767</td>\n",
       "      <td>0.844336</td>\n",
       "      <td>1.497437</td>\n",
       "      <td>0.652306</td>\n",
       "      <td>110.774548</td>\n",
       "      <td>131.655015</td>\n",
       "      <td>17.594721</td>\n",
       "      <td>50.535790</td>\n",
       "      <td>0.245291</td>\n",
       "      <td>0.792798</td>\n",
       "    </tr>\n",
       "    <tr>\n",
       "      <th>min</th>\n",
       "      <td>0.000000</td>\n",
       "      <td>0.000000</td>\n",
       "      <td>2015.000000</td>\n",
       "      <td>1.000000</td>\n",
       "      <td>1.000000</td>\n",
       "      <td>0.000000</td>\n",
       "      <td>0.000000</td>\n",
       "      <td>0.000000</td>\n",
       "      <td>0.000000</td>\n",
       "      <td>0.000000</td>\n",
       "      <td>0.000000</td>\n",
       "      <td>0.000000</td>\n",
       "      <td>0.000000</td>\n",
       "      <td>0.000000</td>\n",
       "      <td>1.000000</td>\n",
       "      <td>6.000000</td>\n",
       "      <td>0.000000</td>\n",
       "      <td>-6.380000</td>\n",
       "      <td>0.000000</td>\n",
       "      <td>0.000000</td>\n",
       "    </tr>\n",
       "    <tr>\n",
       "      <th>25%</th>\n",
       "      <td>0.000000</td>\n",
       "      <td>18.000000</td>\n",
       "      <td>2016.000000</td>\n",
       "      <td>16.000000</td>\n",
       "      <td>8.000000</td>\n",
       "      <td>0.000000</td>\n",
       "      <td>1.000000</td>\n",
       "      <td>2.000000</td>\n",
       "      <td>0.000000</td>\n",
       "      <td>0.000000</td>\n",
       "      <td>0.000000</td>\n",
       "      <td>0.000000</td>\n",
       "      <td>0.000000</td>\n",
       "      <td>0.000000</td>\n",
       "      <td>9.000000</td>\n",
       "      <td>62.000000</td>\n",
       "      <td>0.000000</td>\n",
       "      <td>69.290000</td>\n",
       "      <td>0.000000</td>\n",
       "      <td>0.000000</td>\n",
       "    </tr>\n",
       "    <tr>\n",
       "      <th>50%</th>\n",
       "      <td>0.000000</td>\n",
       "      <td>69.000000</td>\n",
       "      <td>2016.000000</td>\n",
       "      <td>28.000000</td>\n",
       "      <td>16.000000</td>\n",
       "      <td>1.000000</td>\n",
       "      <td>2.000000</td>\n",
       "      <td>2.000000</td>\n",
       "      <td>0.000000</td>\n",
       "      <td>0.000000</td>\n",
       "      <td>0.000000</td>\n",
       "      <td>0.000000</td>\n",
       "      <td>0.000000</td>\n",
       "      <td>0.000000</td>\n",
       "      <td>14.000000</td>\n",
       "      <td>179.000000</td>\n",
       "      <td>0.000000</td>\n",
       "      <td>94.575000</td>\n",
       "      <td>0.000000</td>\n",
       "      <td>0.000000</td>\n",
       "    </tr>\n",
       "    <tr>\n",
       "      <th>75%</th>\n",
       "      <td>1.000000</td>\n",
       "      <td>160.000000</td>\n",
       "      <td>2017.000000</td>\n",
       "      <td>38.000000</td>\n",
       "      <td>23.000000</td>\n",
       "      <td>2.000000</td>\n",
       "      <td>3.000000</td>\n",
       "      <td>2.000000</td>\n",
       "      <td>0.000000</td>\n",
       "      <td>0.000000</td>\n",
       "      <td>0.000000</td>\n",
       "      <td>0.000000</td>\n",
       "      <td>0.000000</td>\n",
       "      <td>0.000000</td>\n",
       "      <td>229.000000</td>\n",
       "      <td>270.000000</td>\n",
       "      <td>0.000000</td>\n",
       "      <td>126.000000</td>\n",
       "      <td>0.000000</td>\n",
       "      <td>1.000000</td>\n",
       "    </tr>\n",
       "    <tr>\n",
       "      <th>max</th>\n",
       "      <td>1.000000</td>\n",
       "      <td>737.000000</td>\n",
       "      <td>2017.000000</td>\n",
       "      <td>53.000000</td>\n",
       "      <td>31.000000</td>\n",
       "      <td>19.000000</td>\n",
       "      <td>50.000000</td>\n",
       "      <td>55.000000</td>\n",
       "      <td>10.000000</td>\n",
       "      <td>10.000000</td>\n",
       "      <td>1.000000</td>\n",
       "      <td>26.000000</td>\n",
       "      <td>72.000000</td>\n",
       "      <td>21.000000</td>\n",
       "      <td>535.000000</td>\n",
       "      <td>543.000000</td>\n",
       "      <td>391.000000</td>\n",
       "      <td>5400.000000</td>\n",
       "      <td>8.000000</td>\n",
       "      <td>5.000000</td>\n",
       "    </tr>\n",
       "  </tbody>\n",
       "</table>\n",
       "</div>"
      ],
      "text/plain": [
       "         is_canceled      lead_time  arrival_date_year  \\\n",
       "count  119390.000000  119390.000000      119390.000000   \n",
       "mean        0.370416     104.011416        2016.156554   \n",
       "std         0.482918     106.863097           0.707476   \n",
       "min         0.000000       0.000000        2015.000000   \n",
       "25%         0.000000      18.000000        2016.000000   \n",
       "50%         0.000000      69.000000        2016.000000   \n",
       "75%         1.000000     160.000000        2017.000000   \n",
       "max         1.000000     737.000000        2017.000000   \n",
       "\n",
       "       arrival_date_week_number  arrival_date_day_of_month  \\\n",
       "count             119390.000000              119390.000000   \n",
       "mean                  27.165173                  15.798241   \n",
       "std                   13.605138                   8.780829   \n",
       "min                    1.000000                   1.000000   \n",
       "25%                   16.000000                   8.000000   \n",
       "50%                   28.000000                  16.000000   \n",
       "75%                   38.000000                  23.000000   \n",
       "max                   53.000000                  31.000000   \n",
       "\n",
       "       stays_in_weekend_nights  stays_in_week_nights         adults  \\\n",
       "count            119390.000000         119390.000000  119390.000000   \n",
       "mean                  0.927599              2.500302       1.856403   \n",
       "std                   0.998613              1.908286       0.579261   \n",
       "min                   0.000000              0.000000       0.000000   \n",
       "25%                   0.000000              1.000000       2.000000   \n",
       "50%                   1.000000              2.000000       2.000000   \n",
       "75%                   2.000000              3.000000       2.000000   \n",
       "max                  19.000000             50.000000      55.000000   \n",
       "\n",
       "            children         babies  is_repeated_guest  \\\n",
       "count  119386.000000  119390.000000      119390.000000   \n",
       "mean        0.103890       0.007949           0.031912   \n",
       "std         0.398561       0.097436           0.175767   \n",
       "min         0.000000       0.000000           0.000000   \n",
       "25%         0.000000       0.000000           0.000000   \n",
       "50%         0.000000       0.000000           0.000000   \n",
       "75%         0.000000       0.000000           0.000000   \n",
       "max        10.000000      10.000000           1.000000   \n",
       "\n",
       "       previous_cancellations  previous_bookings_not_canceled  \\\n",
       "count           119390.000000                   119390.000000   \n",
       "mean                 0.087118                        0.137097   \n",
       "std                  0.844336                        1.497437   \n",
       "min                  0.000000                        0.000000   \n",
       "25%                  0.000000                        0.000000   \n",
       "50%                  0.000000                        0.000000   \n",
       "75%                  0.000000                        0.000000   \n",
       "max                 26.000000                       72.000000   \n",
       "\n",
       "       booking_changes          agent      company  days_in_waiting_list  \\\n",
       "count    119390.000000  103050.000000  6797.000000         119390.000000   \n",
       "mean          0.221124      86.693382   189.266735              2.321149   \n",
       "std           0.652306     110.774548   131.655015             17.594721   \n",
       "min           0.000000       1.000000     6.000000              0.000000   \n",
       "25%           0.000000       9.000000    62.000000              0.000000   \n",
       "50%           0.000000      14.000000   179.000000              0.000000   \n",
       "75%           0.000000     229.000000   270.000000              0.000000   \n",
       "max          21.000000     535.000000   543.000000            391.000000   \n",
       "\n",
       "                 adr  required_car_parking_spaces  total_of_special_requests  \n",
       "count  119390.000000                119390.000000              119390.000000  \n",
       "mean      101.831122                     0.062518                   0.571363  \n",
       "std        50.535790                     0.245291                   0.792798  \n",
       "min        -6.380000                     0.000000                   0.000000  \n",
       "25%        69.290000                     0.000000                   0.000000  \n",
       "50%        94.575000                     0.000000                   0.000000  \n",
       "75%       126.000000                     0.000000                   1.000000  \n",
       "max      5400.000000                     8.000000                   5.000000  "
      ]
     },
     "execution_count": 9,
     "metadata": {},
     "output_type": "execute_result"
    }
   ],
   "source": [
    "##summay statistics\n",
    "df.describe()\n"
   ]
  },
  {
   "cell_type": "code",
   "execution_count": 10,
   "id": "77ef7b64",
   "metadata": {},
   "outputs": [
    {
     "data": {
      "text/html": [
       "<div>\n",
       "<style scoped>\n",
       "    .dataframe tbody tr th:only-of-type {\n",
       "        vertical-align: middle;\n",
       "    }\n",
       "\n",
       "    .dataframe tbody tr th {\n",
       "        vertical-align: top;\n",
       "    }\n",
       "\n",
       "    .dataframe thead th {\n",
       "        text-align: right;\n",
       "    }\n",
       "</style>\n",
       "<table border=\"1\" class=\"dataframe\">\n",
       "  <thead>\n",
       "    <tr style=\"text-align: right;\">\n",
       "      <th></th>\n",
       "      <th>is_canceled</th>\n",
       "      <th>lead_time</th>\n",
       "      <th>arrival_date_year</th>\n",
       "      <th>arrival_date_week_number</th>\n",
       "      <th>arrival_date_day_of_month</th>\n",
       "      <th>stays_in_weekend_nights</th>\n",
       "      <th>stays_in_week_nights</th>\n",
       "      <th>adults</th>\n",
       "      <th>children</th>\n",
       "      <th>babies</th>\n",
       "      <th>is_repeated_guest</th>\n",
       "      <th>previous_cancellations</th>\n",
       "      <th>previous_bookings_not_canceled</th>\n",
       "      <th>booking_changes</th>\n",
       "      <th>agent</th>\n",
       "      <th>company</th>\n",
       "      <th>days_in_waiting_list</th>\n",
       "      <th>adr</th>\n",
       "      <th>required_car_parking_spaces</th>\n",
       "      <th>total_of_special_requests</th>\n",
       "    </tr>\n",
       "  </thead>\n",
       "  <tbody>\n",
       "    <tr>\n",
       "      <th>is_canceled</th>\n",
       "      <td>1.000000</td>\n",
       "      <td>0.293123</td>\n",
       "      <td>0.016660</td>\n",
       "      <td>0.008148</td>\n",
       "      <td>-0.006130</td>\n",
       "      <td>-0.001791</td>\n",
       "      <td>0.024765</td>\n",
       "      <td>0.060017</td>\n",
       "      <td>0.005048</td>\n",
       "      <td>-0.032491</td>\n",
       "      <td>-0.084793</td>\n",
       "      <td>0.110133</td>\n",
       "      <td>-0.057358</td>\n",
       "      <td>-0.144381</td>\n",
       "      <td>-0.083114</td>\n",
       "      <td>-0.020642</td>\n",
       "      <td>0.054186</td>\n",
       "      <td>0.047557</td>\n",
       "      <td>-0.195498</td>\n",
       "      <td>-0.234658</td>\n",
       "    </tr>\n",
       "    <tr>\n",
       "      <th>lead_time</th>\n",
       "      <td>0.293123</td>\n",
       "      <td>1.000000</td>\n",
       "      <td>0.040142</td>\n",
       "      <td>0.126871</td>\n",
       "      <td>0.002268</td>\n",
       "      <td>0.085671</td>\n",
       "      <td>0.165799</td>\n",
       "      <td>0.119519</td>\n",
       "      <td>-0.037622</td>\n",
       "      <td>-0.020915</td>\n",
       "      <td>-0.124410</td>\n",
       "      <td>0.086042</td>\n",
       "      <td>-0.073548</td>\n",
       "      <td>0.000149</td>\n",
       "      <td>-0.069741</td>\n",
       "      <td>0.151464</td>\n",
       "      <td>0.170084</td>\n",
       "      <td>-0.063077</td>\n",
       "      <td>-0.116451</td>\n",
       "      <td>-0.095712</td>\n",
       "    </tr>\n",
       "    <tr>\n",
       "      <th>arrival_date_year</th>\n",
       "      <td>0.016660</td>\n",
       "      <td>0.040142</td>\n",
       "      <td>1.000000</td>\n",
       "      <td>-0.540561</td>\n",
       "      <td>-0.000221</td>\n",
       "      <td>0.021497</td>\n",
       "      <td>0.030883</td>\n",
       "      <td>0.029635</td>\n",
       "      <td>0.054624</td>\n",
       "      <td>-0.013192</td>\n",
       "      <td>0.010341</td>\n",
       "      <td>-0.119822</td>\n",
       "      <td>0.029218</td>\n",
       "      <td>0.030872</td>\n",
       "      <td>0.063457</td>\n",
       "      <td>0.259095</td>\n",
       "      <td>-0.056497</td>\n",
       "      <td>0.197580</td>\n",
       "      <td>-0.013684</td>\n",
       "      <td>0.108531</td>\n",
       "    </tr>\n",
       "    <tr>\n",
       "      <th>arrival_date_week_number</th>\n",
       "      <td>0.008148</td>\n",
       "      <td>0.126871</td>\n",
       "      <td>-0.540561</td>\n",
       "      <td>1.000000</td>\n",
       "      <td>0.066809</td>\n",
       "      <td>0.018208</td>\n",
       "      <td>0.015558</td>\n",
       "      <td>0.025909</td>\n",
       "      <td>0.005518</td>\n",
       "      <td>0.010395</td>\n",
       "      <td>-0.030131</td>\n",
       "      <td>0.035501</td>\n",
       "      <td>-0.020904</td>\n",
       "      <td>0.005508</td>\n",
       "      <td>-0.031201</td>\n",
       "      <td>-0.076760</td>\n",
       "      <td>0.022933</td>\n",
       "      <td>0.075791</td>\n",
       "      <td>0.001920</td>\n",
       "      <td>0.026149</td>\n",
       "    </tr>\n",
       "    <tr>\n",
       "      <th>arrival_date_day_of_month</th>\n",
       "      <td>-0.006130</td>\n",
       "      <td>0.002268</td>\n",
       "      <td>-0.000221</td>\n",
       "      <td>0.066809</td>\n",
       "      <td>1.000000</td>\n",
       "      <td>-0.016354</td>\n",
       "      <td>-0.028174</td>\n",
       "      <td>-0.001566</td>\n",
       "      <td>0.014544</td>\n",
       "      <td>-0.000230</td>\n",
       "      <td>-0.006145</td>\n",
       "      <td>-0.027011</td>\n",
       "      <td>-0.000300</td>\n",
       "      <td>0.010613</td>\n",
       "      <td>0.001487</td>\n",
       "      <td>0.044858</td>\n",
       "      <td>0.022728</td>\n",
       "      <td>0.030245</td>\n",
       "      <td>0.008683</td>\n",
       "      <td>0.003062</td>\n",
       "    </tr>\n",
       "    <tr>\n",
       "      <th>stays_in_weekend_nights</th>\n",
       "      <td>-0.001791</td>\n",
       "      <td>0.085671</td>\n",
       "      <td>0.021497</td>\n",
       "      <td>0.018208</td>\n",
       "      <td>-0.016354</td>\n",
       "      <td>1.000000</td>\n",
       "      <td>0.498969</td>\n",
       "      <td>0.091871</td>\n",
       "      <td>0.045793</td>\n",
       "      <td>0.018483</td>\n",
       "      <td>-0.087239</td>\n",
       "      <td>-0.012775</td>\n",
       "      <td>-0.042715</td>\n",
       "      <td>0.063281</td>\n",
       "      <td>0.140739</td>\n",
       "      <td>0.066749</td>\n",
       "      <td>-0.054151</td>\n",
       "      <td>0.049342</td>\n",
       "      <td>-0.018554</td>\n",
       "      <td>0.072671</td>\n",
       "    </tr>\n",
       "    <tr>\n",
       "      <th>stays_in_week_nights</th>\n",
       "      <td>0.024765</td>\n",
       "      <td>0.165799</td>\n",
       "      <td>0.030883</td>\n",
       "      <td>0.015558</td>\n",
       "      <td>-0.028174</td>\n",
       "      <td>0.498969</td>\n",
       "      <td>1.000000</td>\n",
       "      <td>0.092976</td>\n",
       "      <td>0.044203</td>\n",
       "      <td>0.020191</td>\n",
       "      <td>-0.097245</td>\n",
       "      <td>-0.013992</td>\n",
       "      <td>-0.048743</td>\n",
       "      <td>0.096209</td>\n",
       "      <td>0.182382</td>\n",
       "      <td>0.182211</td>\n",
       "      <td>-0.002020</td>\n",
       "      <td>0.065237</td>\n",
       "      <td>-0.024859</td>\n",
       "      <td>0.068192</td>\n",
       "    </tr>\n",
       "    <tr>\n",
       "      <th>adults</th>\n",
       "      <td>0.060017</td>\n",
       "      <td>0.119519</td>\n",
       "      <td>0.029635</td>\n",
       "      <td>0.025909</td>\n",
       "      <td>-0.001566</td>\n",
       "      <td>0.091871</td>\n",
       "      <td>0.092976</td>\n",
       "      <td>1.000000</td>\n",
       "      <td>0.030447</td>\n",
       "      <td>0.018146</td>\n",
       "      <td>-0.146426</td>\n",
       "      <td>-0.006738</td>\n",
       "      <td>-0.107983</td>\n",
       "      <td>-0.051673</td>\n",
       "      <td>-0.035594</td>\n",
       "      <td>0.207793</td>\n",
       "      <td>-0.008283</td>\n",
       "      <td>0.230641</td>\n",
       "      <td>0.014785</td>\n",
       "      <td>0.122884</td>\n",
       "    </tr>\n",
       "    <tr>\n",
       "      <th>children</th>\n",
       "      <td>0.005048</td>\n",
       "      <td>-0.037622</td>\n",
       "      <td>0.054624</td>\n",
       "      <td>0.005518</td>\n",
       "      <td>0.014544</td>\n",
       "      <td>0.045793</td>\n",
       "      <td>0.044203</td>\n",
       "      <td>0.030447</td>\n",
       "      <td>1.000000</td>\n",
       "      <td>0.024030</td>\n",
       "      <td>-0.032859</td>\n",
       "      <td>-0.024730</td>\n",
       "      <td>-0.021072</td>\n",
       "      <td>0.048949</td>\n",
       "      <td>0.041066</td>\n",
       "      <td>0.030931</td>\n",
       "      <td>-0.033273</td>\n",
       "      <td>0.324854</td>\n",
       "      <td>0.056253</td>\n",
       "      <td>0.081745</td>\n",
       "    </tr>\n",
       "    <tr>\n",
       "      <th>babies</th>\n",
       "      <td>-0.032491</td>\n",
       "      <td>-0.020915</td>\n",
       "      <td>-0.013192</td>\n",
       "      <td>0.010395</td>\n",
       "      <td>-0.000230</td>\n",
       "      <td>0.018483</td>\n",
       "      <td>0.020191</td>\n",
       "      <td>0.018146</td>\n",
       "      <td>0.024030</td>\n",
       "      <td>1.000000</td>\n",
       "      <td>-0.008943</td>\n",
       "      <td>-0.007501</td>\n",
       "      <td>-0.006550</td>\n",
       "      <td>0.083440</td>\n",
       "      <td>0.036184</td>\n",
       "      <td>0.019206</td>\n",
       "      <td>-0.010621</td>\n",
       "      <td>0.029186</td>\n",
       "      <td>0.037383</td>\n",
       "      <td>0.097889</td>\n",
       "    </tr>\n",
       "    <tr>\n",
       "      <th>is_repeated_guest</th>\n",
       "      <td>-0.084793</td>\n",
       "      <td>-0.124410</td>\n",
       "      <td>0.010341</td>\n",
       "      <td>-0.030131</td>\n",
       "      <td>-0.006145</td>\n",
       "      <td>-0.087239</td>\n",
       "      <td>-0.097245</td>\n",
       "      <td>-0.146426</td>\n",
       "      <td>-0.032859</td>\n",
       "      <td>-0.008943</td>\n",
       "      <td>1.000000</td>\n",
       "      <td>0.082293</td>\n",
       "      <td>0.418056</td>\n",
       "      <td>0.012092</td>\n",
       "      <td>0.031527</td>\n",
       "      <td>-0.244586</td>\n",
       "      <td>-0.022235</td>\n",
       "      <td>-0.134314</td>\n",
       "      <td>0.077090</td>\n",
       "      <td>0.013050</td>\n",
       "    </tr>\n",
       "    <tr>\n",
       "      <th>previous_cancellations</th>\n",
       "      <td>0.110133</td>\n",
       "      <td>0.086042</td>\n",
       "      <td>-0.119822</td>\n",
       "      <td>0.035501</td>\n",
       "      <td>-0.027011</td>\n",
       "      <td>-0.012775</td>\n",
       "      <td>-0.013992</td>\n",
       "      <td>-0.006738</td>\n",
       "      <td>-0.024730</td>\n",
       "      <td>-0.007501</td>\n",
       "      <td>0.082293</td>\n",
       "      <td>1.000000</td>\n",
       "      <td>0.152728</td>\n",
       "      <td>-0.026993</td>\n",
       "      <td>-0.012488</td>\n",
       "      <td>-0.184574</td>\n",
       "      <td>0.005929</td>\n",
       "      <td>-0.065646</td>\n",
       "      <td>-0.018492</td>\n",
       "      <td>-0.048384</td>\n",
       "    </tr>\n",
       "    <tr>\n",
       "      <th>previous_bookings_not_canceled</th>\n",
       "      <td>-0.057358</td>\n",
       "      <td>-0.073548</td>\n",
       "      <td>0.029218</td>\n",
       "      <td>-0.020904</td>\n",
       "      <td>-0.000300</td>\n",
       "      <td>-0.042715</td>\n",
       "      <td>-0.048743</td>\n",
       "      <td>-0.107983</td>\n",
       "      <td>-0.021072</td>\n",
       "      <td>-0.006550</td>\n",
       "      <td>0.418056</td>\n",
       "      <td>0.152728</td>\n",
       "      <td>1.000000</td>\n",
       "      <td>0.011608</td>\n",
       "      <td>0.023252</td>\n",
       "      <td>-0.208557</td>\n",
       "      <td>-0.009397</td>\n",
       "      <td>-0.072144</td>\n",
       "      <td>0.047653</td>\n",
       "      <td>0.037824</td>\n",
       "    </tr>\n",
       "    <tr>\n",
       "      <th>booking_changes</th>\n",
       "      <td>-0.144381</td>\n",
       "      <td>0.000149</td>\n",
       "      <td>0.030872</td>\n",
       "      <td>0.005508</td>\n",
       "      <td>0.010613</td>\n",
       "      <td>0.063281</td>\n",
       "      <td>0.096209</td>\n",
       "      <td>-0.051673</td>\n",
       "      <td>0.048949</td>\n",
       "      <td>0.083440</td>\n",
       "      <td>0.012092</td>\n",
       "      <td>-0.026993</td>\n",
       "      <td>0.011608</td>\n",
       "      <td>1.000000</td>\n",
       "      <td>0.067010</td>\n",
       "      <td>0.122098</td>\n",
       "      <td>-0.011634</td>\n",
       "      <td>0.019618</td>\n",
       "      <td>0.065620</td>\n",
       "      <td>0.052833</td>\n",
       "    </tr>\n",
       "    <tr>\n",
       "      <th>agent</th>\n",
       "      <td>-0.083114</td>\n",
       "      <td>-0.069741</td>\n",
       "      <td>0.063457</td>\n",
       "      <td>-0.031201</td>\n",
       "      <td>0.001487</td>\n",
       "      <td>0.140739</td>\n",
       "      <td>0.182382</td>\n",
       "      <td>-0.035594</td>\n",
       "      <td>0.041066</td>\n",
       "      <td>0.036184</td>\n",
       "      <td>0.031527</td>\n",
       "      <td>-0.012488</td>\n",
       "      <td>0.023252</td>\n",
       "      <td>0.067010</td>\n",
       "      <td>1.000000</td>\n",
       "      <td>0.350746</td>\n",
       "      <td>-0.055151</td>\n",
       "      <td>-0.024695</td>\n",
       "      <td>0.177353</td>\n",
       "      <td>0.034162</td>\n",
       "    </tr>\n",
       "    <tr>\n",
       "      <th>company</th>\n",
       "      <td>-0.020642</td>\n",
       "      <td>0.151464</td>\n",
       "      <td>0.259095</td>\n",
       "      <td>-0.076760</td>\n",
       "      <td>0.044858</td>\n",
       "      <td>0.066749</td>\n",
       "      <td>0.182211</td>\n",
       "      <td>0.207793</td>\n",
       "      <td>0.030931</td>\n",
       "      <td>0.019206</td>\n",
       "      <td>-0.244586</td>\n",
       "      <td>-0.184574</td>\n",
       "      <td>-0.208557</td>\n",
       "      <td>0.122098</td>\n",
       "      <td>0.350746</td>\n",
       "      <td>1.000000</td>\n",
       "      <td>0.000411</td>\n",
       "      <td>0.086376</td>\n",
       "      <td>-0.012916</td>\n",
       "      <td>-0.098558</td>\n",
       "    </tr>\n",
       "    <tr>\n",
       "      <th>days_in_waiting_list</th>\n",
       "      <td>0.054186</td>\n",
       "      <td>0.170084</td>\n",
       "      <td>-0.056497</td>\n",
       "      <td>0.022933</td>\n",
       "      <td>0.022728</td>\n",
       "      <td>-0.054151</td>\n",
       "      <td>-0.002020</td>\n",
       "      <td>-0.008283</td>\n",
       "      <td>-0.033273</td>\n",
       "      <td>-0.010621</td>\n",
       "      <td>-0.022235</td>\n",
       "      <td>0.005929</td>\n",
       "      <td>-0.009397</td>\n",
       "      <td>-0.011634</td>\n",
       "      <td>-0.055151</td>\n",
       "      <td>0.000411</td>\n",
       "      <td>1.000000</td>\n",
       "      <td>-0.040756</td>\n",
       "      <td>-0.030600</td>\n",
       "      <td>-0.082730</td>\n",
       "    </tr>\n",
       "    <tr>\n",
       "      <th>adr</th>\n",
       "      <td>0.047557</td>\n",
       "      <td>-0.063077</td>\n",
       "      <td>0.197580</td>\n",
       "      <td>0.075791</td>\n",
       "      <td>0.030245</td>\n",
       "      <td>0.049342</td>\n",
       "      <td>0.065237</td>\n",
       "      <td>0.230641</td>\n",
       "      <td>0.324854</td>\n",
       "      <td>0.029186</td>\n",
       "      <td>-0.134314</td>\n",
       "      <td>-0.065646</td>\n",
       "      <td>-0.072144</td>\n",
       "      <td>0.019618</td>\n",
       "      <td>-0.024695</td>\n",
       "      <td>0.086376</td>\n",
       "      <td>-0.040756</td>\n",
       "      <td>1.000000</td>\n",
       "      <td>0.056628</td>\n",
       "      <td>0.172185</td>\n",
       "    </tr>\n",
       "    <tr>\n",
       "      <th>required_car_parking_spaces</th>\n",
       "      <td>-0.195498</td>\n",
       "      <td>-0.116451</td>\n",
       "      <td>-0.013684</td>\n",
       "      <td>0.001920</td>\n",
       "      <td>0.008683</td>\n",
       "      <td>-0.018554</td>\n",
       "      <td>-0.024859</td>\n",
       "      <td>0.014785</td>\n",
       "      <td>0.056253</td>\n",
       "      <td>0.037383</td>\n",
       "      <td>0.077090</td>\n",
       "      <td>-0.018492</td>\n",
       "      <td>0.047653</td>\n",
       "      <td>0.065620</td>\n",
       "      <td>0.177353</td>\n",
       "      <td>-0.012916</td>\n",
       "      <td>-0.030600</td>\n",
       "      <td>0.056628</td>\n",
       "      <td>1.000000</td>\n",
       "      <td>0.082626</td>\n",
       "    </tr>\n",
       "    <tr>\n",
       "      <th>total_of_special_requests</th>\n",
       "      <td>-0.234658</td>\n",
       "      <td>-0.095712</td>\n",
       "      <td>0.108531</td>\n",
       "      <td>0.026149</td>\n",
       "      <td>0.003062</td>\n",
       "      <td>0.072671</td>\n",
       "      <td>0.068192</td>\n",
       "      <td>0.122884</td>\n",
       "      <td>0.081745</td>\n",
       "      <td>0.097889</td>\n",
       "      <td>0.013050</td>\n",
       "      <td>-0.048384</td>\n",
       "      <td>0.037824</td>\n",
       "      <td>0.052833</td>\n",
       "      <td>0.034162</td>\n",
       "      <td>-0.098558</td>\n",
       "      <td>-0.082730</td>\n",
       "      <td>0.172185</td>\n",
       "      <td>0.082626</td>\n",
       "      <td>1.000000</td>\n",
       "    </tr>\n",
       "  </tbody>\n",
       "</table>\n",
       "</div>"
      ],
      "text/plain": [
       "                                is_canceled  lead_time  arrival_date_year  \\\n",
       "is_canceled                        1.000000   0.293123           0.016660   \n",
       "lead_time                          0.293123   1.000000           0.040142   \n",
       "arrival_date_year                  0.016660   0.040142           1.000000   \n",
       "arrival_date_week_number           0.008148   0.126871          -0.540561   \n",
       "arrival_date_day_of_month         -0.006130   0.002268          -0.000221   \n",
       "stays_in_weekend_nights           -0.001791   0.085671           0.021497   \n",
       "stays_in_week_nights               0.024765   0.165799           0.030883   \n",
       "adults                             0.060017   0.119519           0.029635   \n",
       "children                           0.005048  -0.037622           0.054624   \n",
       "babies                            -0.032491  -0.020915          -0.013192   \n",
       "is_repeated_guest                 -0.084793  -0.124410           0.010341   \n",
       "previous_cancellations             0.110133   0.086042          -0.119822   \n",
       "previous_bookings_not_canceled    -0.057358  -0.073548           0.029218   \n",
       "booking_changes                   -0.144381   0.000149           0.030872   \n",
       "agent                             -0.083114  -0.069741           0.063457   \n",
       "company                           -0.020642   0.151464           0.259095   \n",
       "days_in_waiting_list               0.054186   0.170084          -0.056497   \n",
       "adr                                0.047557  -0.063077           0.197580   \n",
       "required_car_parking_spaces       -0.195498  -0.116451          -0.013684   \n",
       "total_of_special_requests         -0.234658  -0.095712           0.108531   \n",
       "\n",
       "                                arrival_date_week_number  \\\n",
       "is_canceled                                     0.008148   \n",
       "lead_time                                       0.126871   \n",
       "arrival_date_year                              -0.540561   \n",
       "arrival_date_week_number                        1.000000   \n",
       "arrival_date_day_of_month                       0.066809   \n",
       "stays_in_weekend_nights                         0.018208   \n",
       "stays_in_week_nights                            0.015558   \n",
       "adults                                          0.025909   \n",
       "children                                        0.005518   \n",
       "babies                                          0.010395   \n",
       "is_repeated_guest                              -0.030131   \n",
       "previous_cancellations                          0.035501   \n",
       "previous_bookings_not_canceled                 -0.020904   \n",
       "booking_changes                                 0.005508   \n",
       "agent                                          -0.031201   \n",
       "company                                        -0.076760   \n",
       "days_in_waiting_list                            0.022933   \n",
       "adr                                             0.075791   \n",
       "required_car_parking_spaces                     0.001920   \n",
       "total_of_special_requests                       0.026149   \n",
       "\n",
       "                                arrival_date_day_of_month  \\\n",
       "is_canceled                                     -0.006130   \n",
       "lead_time                                        0.002268   \n",
       "arrival_date_year                               -0.000221   \n",
       "arrival_date_week_number                         0.066809   \n",
       "arrival_date_day_of_month                        1.000000   \n",
       "stays_in_weekend_nights                         -0.016354   \n",
       "stays_in_week_nights                            -0.028174   \n",
       "adults                                          -0.001566   \n",
       "children                                         0.014544   \n",
       "babies                                          -0.000230   \n",
       "is_repeated_guest                               -0.006145   \n",
       "previous_cancellations                          -0.027011   \n",
       "previous_bookings_not_canceled                  -0.000300   \n",
       "booking_changes                                  0.010613   \n",
       "agent                                            0.001487   \n",
       "company                                          0.044858   \n",
       "days_in_waiting_list                             0.022728   \n",
       "adr                                              0.030245   \n",
       "required_car_parking_spaces                      0.008683   \n",
       "total_of_special_requests                        0.003062   \n",
       "\n",
       "                                stays_in_weekend_nights  stays_in_week_nights  \\\n",
       "is_canceled                                   -0.001791              0.024765   \n",
       "lead_time                                      0.085671              0.165799   \n",
       "arrival_date_year                              0.021497              0.030883   \n",
       "arrival_date_week_number                       0.018208              0.015558   \n",
       "arrival_date_day_of_month                     -0.016354             -0.028174   \n",
       "stays_in_weekend_nights                        1.000000              0.498969   \n",
       "stays_in_week_nights                           0.498969              1.000000   \n",
       "adults                                         0.091871              0.092976   \n",
       "children                                       0.045793              0.044203   \n",
       "babies                                         0.018483              0.020191   \n",
       "is_repeated_guest                             -0.087239             -0.097245   \n",
       "previous_cancellations                        -0.012775             -0.013992   \n",
       "previous_bookings_not_canceled                -0.042715             -0.048743   \n",
       "booking_changes                                0.063281              0.096209   \n",
       "agent                                          0.140739              0.182382   \n",
       "company                                        0.066749              0.182211   \n",
       "days_in_waiting_list                          -0.054151             -0.002020   \n",
       "adr                                            0.049342              0.065237   \n",
       "required_car_parking_spaces                   -0.018554             -0.024859   \n",
       "total_of_special_requests                      0.072671              0.068192   \n",
       "\n",
       "                                  adults  children    babies  \\\n",
       "is_canceled                     0.060017  0.005048 -0.032491   \n",
       "lead_time                       0.119519 -0.037622 -0.020915   \n",
       "arrival_date_year               0.029635  0.054624 -0.013192   \n",
       "arrival_date_week_number        0.025909  0.005518  0.010395   \n",
       "arrival_date_day_of_month      -0.001566  0.014544 -0.000230   \n",
       "stays_in_weekend_nights         0.091871  0.045793  0.018483   \n",
       "stays_in_week_nights            0.092976  0.044203  0.020191   \n",
       "adults                          1.000000  0.030447  0.018146   \n",
       "children                        0.030447  1.000000  0.024030   \n",
       "babies                          0.018146  0.024030  1.000000   \n",
       "is_repeated_guest              -0.146426 -0.032859 -0.008943   \n",
       "previous_cancellations         -0.006738 -0.024730 -0.007501   \n",
       "previous_bookings_not_canceled -0.107983 -0.021072 -0.006550   \n",
       "booking_changes                -0.051673  0.048949  0.083440   \n",
       "agent                          -0.035594  0.041066  0.036184   \n",
       "company                         0.207793  0.030931  0.019206   \n",
       "days_in_waiting_list           -0.008283 -0.033273 -0.010621   \n",
       "adr                             0.230641  0.324854  0.029186   \n",
       "required_car_parking_spaces     0.014785  0.056253  0.037383   \n",
       "total_of_special_requests       0.122884  0.081745  0.097889   \n",
       "\n",
       "                                is_repeated_guest  previous_cancellations  \\\n",
       "is_canceled                             -0.084793                0.110133   \n",
       "lead_time                               -0.124410                0.086042   \n",
       "arrival_date_year                        0.010341               -0.119822   \n",
       "arrival_date_week_number                -0.030131                0.035501   \n",
       "arrival_date_day_of_month               -0.006145               -0.027011   \n",
       "stays_in_weekend_nights                 -0.087239               -0.012775   \n",
       "stays_in_week_nights                    -0.097245               -0.013992   \n",
       "adults                                  -0.146426               -0.006738   \n",
       "children                                -0.032859               -0.024730   \n",
       "babies                                  -0.008943               -0.007501   \n",
       "is_repeated_guest                        1.000000                0.082293   \n",
       "previous_cancellations                   0.082293                1.000000   \n",
       "previous_bookings_not_canceled           0.418056                0.152728   \n",
       "booking_changes                          0.012092               -0.026993   \n",
       "agent                                    0.031527               -0.012488   \n",
       "company                                 -0.244586               -0.184574   \n",
       "days_in_waiting_list                    -0.022235                0.005929   \n",
       "adr                                     -0.134314               -0.065646   \n",
       "required_car_parking_spaces              0.077090               -0.018492   \n",
       "total_of_special_requests                0.013050               -0.048384   \n",
       "\n",
       "                                previous_bookings_not_canceled  \\\n",
       "is_canceled                                          -0.057358   \n",
       "lead_time                                            -0.073548   \n",
       "arrival_date_year                                     0.029218   \n",
       "arrival_date_week_number                             -0.020904   \n",
       "arrival_date_day_of_month                            -0.000300   \n",
       "stays_in_weekend_nights                              -0.042715   \n",
       "stays_in_week_nights                                 -0.048743   \n",
       "adults                                               -0.107983   \n",
       "children                                             -0.021072   \n",
       "babies                                               -0.006550   \n",
       "is_repeated_guest                                     0.418056   \n",
       "previous_cancellations                                0.152728   \n",
       "previous_bookings_not_canceled                        1.000000   \n",
       "booking_changes                                       0.011608   \n",
       "agent                                                 0.023252   \n",
       "company                                              -0.208557   \n",
       "days_in_waiting_list                                 -0.009397   \n",
       "adr                                                  -0.072144   \n",
       "required_car_parking_spaces                           0.047653   \n",
       "total_of_special_requests                             0.037824   \n",
       "\n",
       "                                booking_changes     agent   company  \\\n",
       "is_canceled                           -0.144381 -0.083114 -0.020642   \n",
       "lead_time                              0.000149 -0.069741  0.151464   \n",
       "arrival_date_year                      0.030872  0.063457  0.259095   \n",
       "arrival_date_week_number               0.005508 -0.031201 -0.076760   \n",
       "arrival_date_day_of_month              0.010613  0.001487  0.044858   \n",
       "stays_in_weekend_nights                0.063281  0.140739  0.066749   \n",
       "stays_in_week_nights                   0.096209  0.182382  0.182211   \n",
       "adults                                -0.051673 -0.035594  0.207793   \n",
       "children                               0.048949  0.041066  0.030931   \n",
       "babies                                 0.083440  0.036184  0.019206   \n",
       "is_repeated_guest                      0.012092  0.031527 -0.244586   \n",
       "previous_cancellations                -0.026993 -0.012488 -0.184574   \n",
       "previous_bookings_not_canceled         0.011608  0.023252 -0.208557   \n",
       "booking_changes                        1.000000  0.067010  0.122098   \n",
       "agent                                  0.067010  1.000000  0.350746   \n",
       "company                                0.122098  0.350746  1.000000   \n",
       "days_in_waiting_list                  -0.011634 -0.055151  0.000411   \n",
       "adr                                    0.019618 -0.024695  0.086376   \n",
       "required_car_parking_spaces            0.065620  0.177353 -0.012916   \n",
       "total_of_special_requests              0.052833  0.034162 -0.098558   \n",
       "\n",
       "                                days_in_waiting_list       adr  \\\n",
       "is_canceled                                 0.054186  0.047557   \n",
       "lead_time                                   0.170084 -0.063077   \n",
       "arrival_date_year                          -0.056497  0.197580   \n",
       "arrival_date_week_number                    0.022933  0.075791   \n",
       "arrival_date_day_of_month                   0.022728  0.030245   \n",
       "stays_in_weekend_nights                    -0.054151  0.049342   \n",
       "stays_in_week_nights                       -0.002020  0.065237   \n",
       "adults                                     -0.008283  0.230641   \n",
       "children                                   -0.033273  0.324854   \n",
       "babies                                     -0.010621  0.029186   \n",
       "is_repeated_guest                          -0.022235 -0.134314   \n",
       "previous_cancellations                      0.005929 -0.065646   \n",
       "previous_bookings_not_canceled             -0.009397 -0.072144   \n",
       "booking_changes                            -0.011634  0.019618   \n",
       "agent                                      -0.055151 -0.024695   \n",
       "company                                     0.000411  0.086376   \n",
       "days_in_waiting_list                        1.000000 -0.040756   \n",
       "adr                                        -0.040756  1.000000   \n",
       "required_car_parking_spaces                -0.030600  0.056628   \n",
       "total_of_special_requests                  -0.082730  0.172185   \n",
       "\n",
       "                                required_car_parking_spaces  \\\n",
       "is_canceled                                       -0.195498   \n",
       "lead_time                                         -0.116451   \n",
       "arrival_date_year                                 -0.013684   \n",
       "arrival_date_week_number                           0.001920   \n",
       "arrival_date_day_of_month                          0.008683   \n",
       "stays_in_weekend_nights                           -0.018554   \n",
       "stays_in_week_nights                              -0.024859   \n",
       "adults                                             0.014785   \n",
       "children                                           0.056253   \n",
       "babies                                             0.037383   \n",
       "is_repeated_guest                                  0.077090   \n",
       "previous_cancellations                            -0.018492   \n",
       "previous_bookings_not_canceled                     0.047653   \n",
       "booking_changes                                    0.065620   \n",
       "agent                                              0.177353   \n",
       "company                                           -0.012916   \n",
       "days_in_waiting_list                              -0.030600   \n",
       "adr                                                0.056628   \n",
       "required_car_parking_spaces                        1.000000   \n",
       "total_of_special_requests                          0.082626   \n",
       "\n",
       "                                total_of_special_requests  \n",
       "is_canceled                                     -0.234658  \n",
       "lead_time                                       -0.095712  \n",
       "arrival_date_year                                0.108531  \n",
       "arrival_date_week_number                         0.026149  \n",
       "arrival_date_day_of_month                        0.003062  \n",
       "stays_in_weekend_nights                          0.072671  \n",
       "stays_in_week_nights                             0.068192  \n",
       "adults                                           0.122884  \n",
       "children                                         0.081745  \n",
       "babies                                           0.097889  \n",
       "is_repeated_guest                                0.013050  \n",
       "previous_cancellations                          -0.048384  \n",
       "previous_bookings_not_canceled                   0.037824  \n",
       "booking_changes                                  0.052833  \n",
       "agent                                            0.034162  \n",
       "company                                         -0.098558  \n",
       "days_in_waiting_list                            -0.082730  \n",
       "adr                                              0.172185  \n",
       "required_car_parking_spaces                      0.082626  \n",
       "total_of_special_requests                        1.000000  "
      ]
     },
     "execution_count": 10,
     "metadata": {},
     "output_type": "execute_result"
    }
   ],
   "source": [
    "df.corr()"
   ]
  },
  {
   "cell_type": "code",
   "execution_count": 11,
   "id": "6b82f0f0",
   "metadata": {},
   "outputs": [
    {
     "data": {
      "text/plain": [
       "<AxesSubplot:>"
      ]
     },
     "execution_count": 11,
     "metadata": {},
     "output_type": "execute_result"
    },
    {
     "data": {
      "image/png": "[encoded data removed]",
      "text/plain": [
       "<Figure size 432x288 with 2 Axes>"
      ]
     },
     "metadata": {
      "needs_background": "light"
     },
     "output_type": "display_data"
    }
   ],
   "source": [
    "#plt.figure(fig=(10,10))\n",
    "sns.heatmap(df.corr(),annot=True)"
   ]
  },
  {
   "cell_type": "markdown",
   "id": "aff4f9e9",
   "metadata": {},
   "source": [
    "# data cleansing"
   ]
  },
  {
   "cell_type": "code",
   "execution_count": 12,
   "id": "cab50953",
   "metadata": {},
   "outputs": [],
   "source": [
    "##checking for null values"
   ]
  },
  {
   "cell_type": "code",
   "execution_count": 13,
   "id": "8119756f",
   "metadata": {},
   "outputs": [
    {
     "data": {
      "text/plain": [
       "hotel                                  0\n",
       "is_canceled                            0\n",
       "lead_time                              0\n",
       "arrival_date_year                      0\n",
       "arrival_date_month                     0\n",
       "arrival_date_week_number               0\n",
       "arrival_date_day_of_month              0\n",
       "stays_in_weekend_nights                0\n",
       "stays_in_week_nights                   0\n",
       "adults                                 0\n",
       "children                               4\n",
       "babies                                 0\n",
       "meal                                   0\n",
       "country                              488\n",
       "market_segment                         0\n",
       "distribution_channel                   0\n",
       "is_repeated_guest                      0\n",
       "previous_cancellations                 0\n",
       "previous_bookings_not_canceled         0\n",
       "reserved_room_type                     0\n",
       "assigned_room_type                     0\n",
       "booking_changes                        0\n",
       "deposit_type                           0\n",
       "agent                              16340\n",
       "company                           112593\n",
       "days_in_waiting_list                   0\n",
       "customer_type                          0\n",
       "adr                                    0\n",
       "required_car_parking_spaces            0\n",
       "total_of_special_requests              0\n",
       "reservation_status                     0\n",
       "reservation_status_date                0\n",
       "dtype: int64"
      ]
     },
     "execution_count": 13,
     "metadata": {},
     "output_type": "execute_result"
    }
   ],
   "source": [
    "df.isnull().sum()"
   ]
  },
  {
   "cell_type": "code",
   "execution_count": 14,
   "id": "a86acb7d",
   "metadata": {},
   "outputs": [
    {
     "data": {
      "text/plain": [
       "children         4\n",
       "country        488\n",
       "agent        16340\n",
       "company     112593\n",
       "dtype: int64"
      ]
     },
     "execution_count": 14,
     "metadata": {},
     "output_type": "execute_result"
    }
   ],
   "source": [
    "df.isnull().sum()[df.isnull().sum()>0]"
   ]
  },
  {
   "cell_type": "markdown",
   "id": "8a024e60",
   "metadata": {},
   "source": [
    "#### four columns are with null values \n",
    "###agent,company,country,children"
   ]
  },
  {
   "cell_type": "code",
   "execution_count": 15,
   "id": "65b7cb82",
   "metadata": {},
   "outputs": [
    {
     "data": {
      "text/plain": [
       "0    75166\n",
       "1    44224\n",
       "Name: is_canceled, dtype: int64"
      ]
     },
     "execution_count": 15,
     "metadata": {},
     "output_type": "execute_result"
    }
   ],
   "source": [
    "###checking class imbalance in the target variable\n",
    "df.is_canceled.value_counts()"
   ]
  },
  {
   "cell_type": "markdown",
   "id": "ab32f7f3",
   "metadata": {},
   "source": [
    "###### the data is fairly balanced"
   ]
  },
  {
   "cell_type": "code",
   "execution_count": 16,
   "id": "e7e3425e",
   "metadata": {},
   "outputs": [
    {
     "data": {
      "text/plain": [
       "<BarContainer object of 2 artists>"
      ]
     },
     "execution_count": 16,
     "metadata": {},
     "output_type": "execute_result"
    },
    {
     "data": {
      "image/png": "[encoded data removed]",
      "text/plain": [
       "<Figure size 432x288 with 1 Axes>"
      ]
     },
     "metadata": {
      "needs_background": "light"
     },
     "output_type": "display_data"
    }
   ],
   "source": [
    "plt.bar(df.is_canceled.value_counts().keys(),df.is_canceled.value_counts().values)"
   ]
  },
  {
   "cell_type": "code",
   "execution_count": 17,
   "id": "2820e92f",
   "metadata": {},
   "outputs": [
    {
     "data": {
      "text/plain": [
       "0    75166\n",
       "1    44224\n",
       "Name: is_canceled, dtype: int64"
      ]
     },
     "execution_count": 17,
     "metadata": {},
     "output_type": "execute_result"
    }
   ],
   "source": [
    "df.is_canceled.value_counts()"
   ]
  },
  {
   "cell_type": "code",
   "execution_count": 18,
   "id": "b67ef407",
   "metadata": {},
   "outputs": [
    {
     "data": {
      "image/png": "[encoded data removed]",
      "text/plain": [
       "<Figure size 432x288 with 1 Axes>"
      ]
     },
     "metadata": {
      "needs_background": "light"
     },
     "output_type": "display_data"
    }
   ],
   "source": [
    "##using alternate command to show the barplot\n",
    "df.is_canceled.value_counts().plot.bar()\n",
    "plt.show()\n",
    "####the data imbalance seems to be minimum \n",
    "### for now we don't seem to be needing balancing the target variable\n"
   ]
  },
  {
   "cell_type": "markdown",
   "id": "e68f7cb3",
   "metadata": {},
   "source": [
    "#### Handinling of missing values\n"
   ]
  },
  {
   "cell_type": "code",
   "execution_count": 19,
   "id": "9916f95f",
   "metadata": {},
   "outputs": [
    {
     "data": {
      "text/plain": [
       "children         4\n",
       "country        488\n",
       "agent        16340\n",
       "company     112593\n",
       "dtype: int64"
      ]
     },
     "execution_count": 19,
     "metadata": {},
     "output_type": "execute_result"
    }
   ],
   "source": [
    "df.isnull().sum()[df.isnull().sum()>0]\n",
    "#Cheking columnsb which have missing values"
   ]
  },
  {
   "cell_type": "code",
   "execution_count": 20,
   "id": "de1235ab",
   "metadata": {},
   "outputs": [],
   "source": [
    "###now we will fill the agent column\n",
    "##we see that other than the missing values we agent ids\n",
    "### we will fill the missing value with \"no agent \" and the agent ids with \n",
    "#'agent'"
   ]
  },
  {
   "cell_type": "code",
   "execution_count": 21,
   "id": "c49b73fc",
   "metadata": {},
   "outputs": [
    {
     "data": {
      "text/plain": [
       "(16340, 119390)"
      ]
     },
     "execution_count": 21,
     "metadata": {},
     "output_type": "execute_result"
    }
   ],
   "source": [
    "df.agent.isnull().sum(),len(df.agent)"
   ]
  },
  {
   "cell_type": "code",
   "execution_count": 22,
   "id": "83247fc7",
   "metadata": {},
   "outputs": [
    {
     "data": {
      "text/plain": [
       "9.0      31961\n",
       "240.0    13922\n",
       "1.0       7191\n",
       "14.0      3640\n",
       "7.0       3539\n",
       "         ...  \n",
       "289.0        1\n",
       "432.0        1\n",
       "265.0        1\n",
       "93.0         1\n",
       "304.0        1\n",
       "Name: agent, Length: 333, dtype: int64"
      ]
     },
     "execution_count": 22,
     "metadata": {},
     "output_type": "execute_result"
    }
   ],
   "source": [
    "df.agent.value_counts()"
   ]
  },
  {
   "cell_type": "code",
   "execution_count": 23,
   "id": "ccbbe262",
   "metadata": {},
   "outputs": [
    {
     "name": "stdout",
     "output_type": "stream",
     "text": [
      "Agent    103050\n",
      "Name: agent, dtype: int64 ............... 119390\n",
      "16340\n"
     ]
    }
   ],
   "source": [
    "#filling of non null values with 'agent'\n",
    "df.loc[df.agent.isnull()==False,'agent']='Agent'\n",
    "print(df.agent.value_counts(),\"...............\",len(df.agent))\n",
    "print(df.agent.isnull().sum())"
   ]
  },
  {
   "cell_type": "code",
   "execution_count": 24,
   "id": "568a9b6e",
   "metadata": {},
   "outputs": [],
   "source": [
    "###now we will fill the null values with \"NO agent\"\n",
    "df.agent.fillna('no agent',inplace=True)"
   ]
  },
  {
   "cell_type": "code",
   "execution_count": 25,
   "id": "943c5075",
   "metadata": {},
   "outputs": [
    {
     "data": {
      "text/plain": [
       "<AxesSubplot:>"
      ]
     },
     "execution_count": 25,
     "metadata": {},
     "output_type": "execute_result"
    },
    {
     "data": {
      "image/png": "[encoded data removed]",
      "text/plain": [
       "<Figure size 432x288 with 1 Axes>"
      ]
     },
     "metadata": {
      "needs_background": "light"
     },
     "output_type": "display_data"
    }
   ],
   "source": [
    "df.agent.value_counts().plot.bar()"
   ]
  },
  {
   "cell_type": "code",
   "execution_count": 26,
   "id": "97507df8",
   "metadata": {},
   "outputs": [],
   "source": [
    "###now we will fill the missing values in the country columns with \"un known \"\n",
    "\n",
    "##since we do not seem to find any reference to other columns\n",
    "\n",
    "df.country.fillna('unknown',inplace=True)\n"
   ]
  },
  {
   "cell_type": "code",
   "execution_count": 27,
   "id": "4dc7d667",
   "metadata": {},
   "outputs": [
    {
     "data": {
      "text/plain": [
       "children         4\n",
       "company     112593\n",
       "dtype: int64"
      ]
     },
     "execution_count": 27,
     "metadata": {},
     "output_type": "execute_result"
    }
   ],
   "source": [
    "df.isnull().sum()[df.isnull().sum()>0]"
   ]
  },
  {
   "cell_type": "code",
   "execution_count": 28,
   "id": "459e34a4",
   "metadata": {},
   "outputs": [],
   "source": [
    "###we will fill the missing values in the children column with 0\n",
    "df.children.fillna('none',inplace=True)"
   ]
  },
  {
   "cell_type": "code",
   "execution_count": 29,
   "id": "2fa56e56",
   "metadata": {},
   "outputs": [
    {
     "data": {
      "text/plain": [
       "company    112593\n",
       "dtype: int64"
      ]
     },
     "execution_count": 29,
     "metadata": {},
     "output_type": "execute_result"
    }
   ],
   "source": [
    "df.isnull().sum()[df.isnull().sum()>0]"
   ]
  },
  {
   "cell_type": "code",
   "execution_count": 30,
   "id": "65e6f1d3",
   "metadata": {},
   "outputs": [
    {
     "name": "stdout",
     "output_type": "stream",
     "text": [
      "0.943068933746545 of the column are null values\n",
      "we are dropping company column\n"
     ]
    }
   ],
   "source": [
    "x=(df.company.isnull().sum())/(len(df.company))\n",
    "print(x%100,\"of the column are null values\")\n",
    "print(\"we are dropping company column\")"
   ]
  },
  {
   "cell_type": "code",
   "execution_count": 31,
   "id": "00302591",
   "metadata": {},
   "outputs": [],
   "source": [
    "df.drop('company',axis=1,inplace=True)\n"
   ]
  },
  {
   "cell_type": "code",
   "execution_count": 32,
   "id": "3b3da25f",
   "metadata": {},
   "outputs": [
    {
     "data": {
      "text/plain": [
       "hotel                             0\n",
       "is_canceled                       0\n",
       "lead_time                         0\n",
       "arrival_date_year                 0\n",
       "arrival_date_month                0\n",
       "arrival_date_week_number          0\n",
       "arrival_date_day_of_month         0\n",
       "stays_in_weekend_nights           0\n",
       "stays_in_week_nights              0\n",
       "adults                            0\n",
       "children                          0\n",
       "babies                            0\n",
       "meal                              0\n",
       "country                           0\n",
       "market_segment                    0\n",
       "distribution_channel              0\n",
       "is_repeated_guest                 0\n",
       "previous_cancellations            0\n",
       "previous_bookings_not_canceled    0\n",
       "reserved_room_type                0\n",
       "assigned_room_type                0\n",
       "booking_changes                   0\n",
       "deposit_type                      0\n",
       "agent                             0\n",
       "days_in_waiting_list              0\n",
       "customer_type                     0\n",
       "adr                               0\n",
       "required_car_parking_spaces       0\n",
       "total_of_special_requests         0\n",
       "reservation_status                0\n",
       "reservation_status_date           0\n",
       "dtype: int64"
      ]
     },
     "execution_count": 32,
     "metadata": {},
     "output_type": "execute_result"
    }
   ],
   "source": [
    "df.isnull().sum()"
   ]
  },
  {
   "cell_type": "code",
   "execution_count": 33,
   "id": "3b06aa1e",
   "metadata": {},
   "outputs": [
    {
     "data": {
      "text/plain": [
       "119390"
      ]
     },
     "execution_count": 33,
     "metadata": {},
     "output_type": "execute_result"
    }
   ],
   "source": [
    "###searching for duplicated rows\n",
    "len(df.duplicated())\n"
   ]
  },
  {
   "cell_type": "code",
   "execution_count": 34,
   "id": "1b2a60fb",
   "metadata": {},
   "outputs": [
    {
     "data": {
      "text/plain": [
       "(87376, 31)"
      ]
     },
     "execution_count": 34,
     "metadata": {},
     "output_type": "execute_result"
    }
   ],
   "source": [
    "df=df.drop_duplicates(keep='first').reset_index().drop(columns='index')\n",
    "df.shape"
   ]
  },
  {
   "cell_type": "code",
   "execution_count": 35,
   "id": "771e4f6b",
   "metadata": {},
   "outputs": [
    {
     "data": {
      "text/plain": [
       "87376"
      ]
     },
     "execution_count": 35,
     "metadata": {},
     "output_type": "execute_result"
    }
   ],
   "source": [
    "len(df.duplicated())"
   ]
  },
  {
   "cell_type": "code",
   "execution_count": 36,
   "id": "6c818bc9",
   "metadata": {},
   "outputs": [],
   "source": [
    "# Before doing our univariate analysis we would change the datatypes of columns to their correct datatype\n",
    "df.arrival_date_year=df.arrival_date_year.astype(object)"
   ]
  },
  {
   "cell_type": "code",
   "execution_count": 37,
   "id": "90331873",
   "metadata": {},
   "outputs": [
    {
     "data": {
      "text/plain": [
       "178"
      ]
     },
     "execution_count": 37,
     "metadata": {},
     "output_type": "execute_result"
    }
   ],
   "source": [
    "len(df.country.unique())"
   ]
  },
  {
   "cell_type": "code",
   "execution_count": 38,
   "id": "6547a55b",
   "metadata": {},
   "outputs": [],
   "source": [
    "# We would bin the country column in its respective continents\n",
    "europe=['PRT','GBR','ESP','IRL','FRA','ROU','NOR','POL','DEU','BEL','CHE','GRC','ITA','NLD','DNK','RUS','SWE','EST',\n",
    "       'CZE','FIN','LUX','SVN','ALB','UKR','SMR','LVA','SRB','AUT','BLR','LTU','TUR','HUN','HRV','GEO','AND','SVK',\n",
    "       'MKD','BIH','BGR','MLT','ISL','MCO','LIE','MNE']\n",
    "\n",
    "north_a=['USA','MEX','PRI','CRI','CUB','HND','NIC','GAB','PAN','SLV','GTM']\n",
    "\n",
    "south_a=['ARG','BRA','CHL','URY','COL','VEN','SUR','PER','ECU','BOL','PRY','GUY']\n",
    "\n",
    "asia=['OMN','CN','IND','CHN','ISR','KOR','ARE','HKG','IRN','CYP','KWT','MDV','KAZ','PAK','IDN','LBN','PHL','AZE','BHR',\n",
    "     'THA','MYS','ARM','JPN','LKA','JOR','SYR','SGP','SAU','VNM','QAT','UZB','NPL','MAC','TWN','IRQ','KHM','BGD','TJK',\n",
    "     'TMP','MMR','LAO']\n",
    "\n",
    "africa=['MOZ','BWA','MAR','ZAF','AGO','ZMB','ZWE','DZA','TUN','CAF','NGA','SEN','SYC','CMR','MUS','COM','UGA','CIV',\n",
    "       'BDI','EGY','MWI','MDG','TGO','DJI','STP','ETH','RWA','BEN','TZA','GHA','KEN','GNB','BFA','LBY','MLI','NAM',\n",
    "       'MRT','SDN','SLE']\n",
    "\n",
    "australia=['AUS']\n",
    "\n",
    "Others=['CYM','CPV','JAM','GIB','JEY','GGY','FJI','NZL','DOM','PLW','BHS','KNA','IMN','VGB','GLP','UMI','MYT','FRO',\n",
    "       'BRB','ABW','AIA','DMA','PYF','LCA','ATA','ASM','NCL','KIR','ATF']\n",
    "\n",
    "unk=['Unknown']"
   ]
  },
  {
   "cell_type": "code",
   "execution_count": 39,
   "id": "93cb7f0f",
   "metadata": {},
   "outputs": [],
   "source": [
    "def country_bin(x):\n",
    "    if x in europe:\n",
    "        return 'Europe'\n",
    "    elif x in north_a:\n",
    "        return 'North America'\n",
    "    elif x in south_a:\n",
    "        return 'South America'\n",
    "    elif x in asia:\n",
    "        return 'Asia'\n",
    "    elif x in africa:\n",
    "        return 'Africa'\n",
    "    elif x in australia:\n",
    "        return 'Australia'\n",
    "    elif x in Others:\n",
    "        return 'Others'\n",
    "    elif x in unk:\n",
    "        return 'Unknown'\n",
    "df.country=df.country.apply(country_bin) #Binning the country column"
   ]
  },
  {
   "cell_type": "code",
   "execution_count": 40,
   "id": "2e656ca2",
   "metadata": {},
   "outputs": [
    {
     "data": {
      "text/plain": [
       "array(['Europe', 'North America', None, 'Asia', 'South America',\n",
       "       'Australia', 'Africa', 'Others'], dtype=object)"
      ]
     },
     "execution_count": 40,
     "metadata": {},
     "output_type": "execute_result"
    }
   ],
   "source": [
    "df.country.unique()"
   ]
  },
  {
   "cell_type": "markdown",
   "id": "2ec5a72f",
   "metadata": {},
   "source": [
    "##### Reservation status is basically a column which will be filled after the event is occuring. So from a business perspective to need to be able to predict before the the confirmation from the customer. This column is going to be filled only filled when the confirmation from the customer is already given. So we need to exclude this column when model building"
   ]
  },
  {
   "cell_type": "code",
   "execution_count": 41,
   "id": "93c453d8",
   "metadata": {},
   "outputs": [
    {
     "data": {
      "text/html": [
       "<div>\n",
       "<style scoped>\n",
       "    .dataframe tbody tr th:only-of-type {\n",
       "        vertical-align: middle;\n",
       "    }\n",
       "\n",
       "    .dataframe tbody tr th {\n",
       "        vertical-align: top;\n",
       "    }\n",
       "\n",
       "    .dataframe thead th {\n",
       "        text-align: right;\n",
       "    }\n",
       "</style>\n",
       "<table border=\"1\" class=\"dataframe\">\n",
       "  <thead>\n",
       "    <tr style=\"text-align: right;\">\n",
       "      <th></th>\n",
       "      <th>hotel</th>\n",
       "      <th>is_canceled</th>\n",
       "      <th>lead_time</th>\n",
       "      <th>arrival_date_year</th>\n",
       "      <th>arrival_date_month</th>\n",
       "      <th>arrival_date_week_number</th>\n",
       "      <th>arrival_date_day_of_month</th>\n",
       "      <th>stays_in_weekend_nights</th>\n",
       "      <th>stays_in_week_nights</th>\n",
       "      <th>adults</th>\n",
       "      <th>...</th>\n",
       "      <th>booking_changes</th>\n",
       "      <th>deposit_type</th>\n",
       "      <th>agent</th>\n",
       "      <th>days_in_waiting_list</th>\n",
       "      <th>customer_type</th>\n",
       "      <th>adr</th>\n",
       "      <th>required_car_parking_spaces</th>\n",
       "      <th>total_of_special_requests</th>\n",
       "      <th>reservation_status</th>\n",
       "      <th>reservation_status_date</th>\n",
       "    </tr>\n",
       "  </thead>\n",
       "  <tbody>\n",
       "    <tr>\n",
       "      <th>0</th>\n",
       "      <td>Resort Hotel</td>\n",
       "      <td>0</td>\n",
       "      <td>342</td>\n",
       "      <td>2015</td>\n",
       "      <td>July</td>\n",
       "      <td>27</td>\n",
       "      <td>1</td>\n",
       "      <td>0</td>\n",
       "      <td>0</td>\n",
       "      <td>2</td>\n",
       "      <td>...</td>\n",
       "      <td>3</td>\n",
       "      <td>No Deposit</td>\n",
       "      <td>no agent</td>\n",
       "      <td>0</td>\n",
       "      <td>Transient</td>\n",
       "      <td>0.0</td>\n",
       "      <td>0</td>\n",
       "      <td>0</td>\n",
       "      <td>Check-Out</td>\n",
       "      <td>2015-07-01</td>\n",
       "    </tr>\n",
       "    <tr>\n",
       "      <th>1</th>\n",
       "      <td>Resort Hotel</td>\n",
       "      <td>0</td>\n",
       "      <td>737</td>\n",
       "      <td>2015</td>\n",
       "      <td>July</td>\n",
       "      <td>27</td>\n",
       "      <td>1</td>\n",
       "      <td>0</td>\n",
       "      <td>0</td>\n",
       "      <td>2</td>\n",
       "      <td>...</td>\n",
       "      <td>4</td>\n",
       "      <td>No Deposit</td>\n",
       "      <td>no agent</td>\n",
       "      <td>0</td>\n",
       "      <td>Transient</td>\n",
       "      <td>0.0</td>\n",
       "      <td>0</td>\n",
       "      <td>0</td>\n",
       "      <td>Check-Out</td>\n",
       "      <td>2015-07-01</td>\n",
       "    </tr>\n",
       "  </tbody>\n",
       "</table>\n",
       "<p>2 rows × 31 columns</p>\n",
       "</div>"
      ],
      "text/plain": [
       "          hotel  is_canceled  lead_time arrival_date_year arrival_date_month  \\\n",
       "0  Resort Hotel            0        342              2015               July   \n",
       "1  Resort Hotel            0        737              2015               July   \n",
       "\n",
       "   arrival_date_week_number  arrival_date_day_of_month  \\\n",
       "0                        27                          1   \n",
       "1                        27                          1   \n",
       "\n",
       "   stays_in_weekend_nights  stays_in_week_nights  adults  ... booking_changes  \\\n",
       "0                        0                     0       2  ...               3   \n",
       "1                        0                     0       2  ...               4   \n",
       "\n",
       "   deposit_type     agent days_in_waiting_list customer_type  adr  \\\n",
       "0    No Deposit  no agent                    0     Transient  0.0   \n",
       "1    No Deposit  no agent                    0     Transient  0.0   \n",
       "\n",
       "   required_car_parking_spaces  total_of_special_requests  reservation_status  \\\n",
       "0                            0                          0           Check-Out   \n",
       "1                            0                          0           Check-Out   \n",
       "\n",
       "  reservation_status_date  \n",
       "0              2015-07-01  \n",
       "1              2015-07-01  \n",
       "\n",
       "[2 rows x 31 columns]"
      ]
     },
     "execution_count": 41,
     "metadata": {},
     "output_type": "execute_result"
    }
   ],
   "source": [
    "df.head(2)"
   ]
  },
  {
   "cell_type": "markdown",
   "id": "9e5dac8a",
   "metadata": {},
   "source": [
    "## Exploratory data analysis"
   ]
  },
  {
   "cell_type": "markdown",
   "id": "ff9e7271",
   "metadata": {},
   "source": [
    "#### Column: Hotel"
   ]
  },
  {
   "cell_type": "code",
   "execution_count": 42,
   "id": "b43c274e",
   "metadata": {},
   "outputs": [
    {
     "data": {
      "text/plain": [
       "([<matplotlib.patches.Wedge at 0x92335fc2e0>,\n",
       "  <matplotlib.patches.Wedge at 0x92335fca00>],\n",
       " [Text(-0.3770231547592488, 1.033369992198043, 'City Hotel'),\n",
       "  Text(0.4455728192609303, -1.2212554453249602, 'Resort Hotel')],\n",
       " [Text(-0.20564899350504479, 0.5636563593807508, '61.14%'),\n",
       "  Text(0.27419865800672627, -0.7515418125076677, '38.86%')])"
      ]
     },
     "execution_count": 42,
     "metadata": {},
     "output_type": "execute_result"
    },
    {
     "data": {
      "image/png": "[encoded data removed]",
      "text/plain": [
       "<Figure size 432x432 with 1 Axes>"
      ]
     },
     "metadata": {},
     "output_type": "display_data"
    }
   ],
   "source": [
    "####df.hotel.value_counts().plot.pie(autopct='%.2f%%')\n",
    "##method 2\n",
    "plt.figure(figsize=(6,6))\n",
    "plt.pie(df.hotel.value_counts().values,explode=[0,0.2],labels=df.hotel.value_counts().index,autopct='%.2f%%')"
   ]
  },
  {
   "cell_type": "markdown",
   "id": "559d1612",
   "metadata": {},
   "source": [
    "#### There are more booking in city hotel compared to resort hotel\n"
   ]
  },
  {
   "cell_type": "code",
   "execution_count": 43,
   "id": "657356f5",
   "metadata": {},
   "outputs": [
    {
     "data": {
      "text/plain": [
       "<AxesSubplot:xlabel='is_canceled', ylabel='hotel'>"
      ]
     },
     "execution_count": 43,
     "metadata": {},
     "output_type": "execute_result"
    },
    {
     "data": {
      "image/png": "[encoded data removed]",
      "text/plain": [
       "<Figure size 432x288 with 2 Axes>"
      ]
     },
     "metadata": {
      "needs_background": "light"
     },
     "output_type": "display_data"
    }
   ],
   "source": [
    "x=pd.crosstab(df.hotel,df.is_canceled)\n",
    "sns.heatmap(x,annot=True)"
   ]
  },
  {
   "cell_type": "code",
   "execution_count": 44,
   "id": "cc91ee01",
   "metadata": {},
   "outputs": [
    {
     "data": {
      "text/plain": [
       "<AxesSubplot:xlabel='hotel'>"
      ]
     },
     "execution_count": 44,
     "metadata": {},
     "output_type": "execute_result"
    },
    {
     "data": {
      "image/png": "[encoded data removed]",
      "text/plain": [
       "<Figure size 432x288 with 1 Axes>"
      ]
     },
     "metadata": {
      "needs_background": "light"
     },
     "output_type": "display_data"
    }
   ],
   "source": [
    "pd.crosstab(df.hotel,df.is_canceled).plot.bar()"
   ]
  },
  {
   "cell_type": "markdown",
   "id": "69004c7f",
   "metadata": {},
   "source": [
    "##### We see that there are more cancellations in city hotels. But this could be because there are more records regarding city hotels. We would need to see the percentage of the records accordingly."
   ]
  },
  {
   "cell_type": "code",
   "execution_count": 45,
   "id": "eb1ce266",
   "metadata": {},
   "outputs": [
    {
     "data": {
      "text/html": [
       "<div>\n",
       "<style scoped>\n",
       "    .dataframe tbody tr th:only-of-type {\n",
       "        vertical-align: middle;\n",
       "    }\n",
       "\n",
       "    .dataframe tbody tr th {\n",
       "        vertical-align: top;\n",
       "    }\n",
       "\n",
       "    .dataframe thead th {\n",
       "        text-align: right;\n",
       "    }\n",
       "</style>\n",
       "<table border=\"1\" class=\"dataframe\">\n",
       "  <thead>\n",
       "    <tr style=\"text-align: right;\">\n",
       "      <th>is_canceled</th>\n",
       "      <th>0</th>\n",
       "      <th>1</th>\n",
       "      <th>All</th>\n",
       "    </tr>\n",
       "    <tr>\n",
       "      <th>hotel</th>\n",
       "      <th></th>\n",
       "      <th></th>\n",
       "      <th></th>\n",
       "    </tr>\n",
       "  </thead>\n",
       "  <tbody>\n",
       "    <tr>\n",
       "      <th>City Hotel</th>\n",
       "      <td>37371</td>\n",
       "      <td>16047</td>\n",
       "      <td>53418</td>\n",
       "    </tr>\n",
       "    <tr>\n",
       "      <th>Resort Hotel</th>\n",
       "      <td>25984</td>\n",
       "      <td>7974</td>\n",
       "      <td>33958</td>\n",
       "    </tr>\n",
       "    <tr>\n",
       "      <th>All</th>\n",
       "      <td>63355</td>\n",
       "      <td>24021</td>\n",
       "      <td>87376</td>\n",
       "    </tr>\n",
       "  </tbody>\n",
       "</table>\n",
       "</div>"
      ],
      "text/plain": [
       "is_canceled       0      1    All\n",
       "hotel                            \n",
       "City Hotel    37371  16047  53418\n",
       "Resort Hotel  25984   7974  33958\n",
       "All           63355  24021  87376"
      ]
     },
     "execution_count": 45,
     "metadata": {},
     "output_type": "execute_result"
    }
   ],
   "source": [
    "tbl=pd.crosstab(df.hotel,df.is_canceled,margins=True)\n",
    "tbl"
   ]
  },
  {
   "cell_type": "code",
   "execution_count": 46,
   "id": "9f5f0a49",
   "metadata": {},
   "outputs": [
    {
     "data": {
      "text/html": [
       "<div>\n",
       "<style scoped>\n",
       "    .dataframe tbody tr th:only-of-type {\n",
       "        vertical-align: middle;\n",
       "    }\n",
       "\n",
       "    .dataframe tbody tr th {\n",
       "        vertical-align: top;\n",
       "    }\n",
       "\n",
       "    .dataframe thead th {\n",
       "        text-align: right;\n",
       "    }\n",
       "</style>\n",
       "<table border=\"1\" class=\"dataframe\">\n",
       "  <thead>\n",
       "    <tr style=\"text-align: right;\">\n",
       "      <th>is_canceled</th>\n",
       "      <th>0</th>\n",
       "      <th>1</th>\n",
       "      <th>All</th>\n",
       "      <th>cancel%</th>\n",
       "    </tr>\n",
       "    <tr>\n",
       "      <th>hotel</th>\n",
       "      <th></th>\n",
       "      <th></th>\n",
       "      <th></th>\n",
       "      <th></th>\n",
       "    </tr>\n",
       "  </thead>\n",
       "  <tbody>\n",
       "    <tr>\n",
       "      <th>City Hotel</th>\n",
       "      <td>37371</td>\n",
       "      <td>16047</td>\n",
       "      <td>53418</td>\n",
       "      <td>30.040436</td>\n",
       "    </tr>\n",
       "    <tr>\n",
       "      <th>Resort Hotel</th>\n",
       "      <td>25984</td>\n",
       "      <td>7974</td>\n",
       "      <td>33958</td>\n",
       "      <td>23.481948</td>\n",
       "    </tr>\n",
       "    <tr>\n",
       "      <th>All</th>\n",
       "      <td>63355</td>\n",
       "      <td>24021</td>\n",
       "      <td>87376</td>\n",
       "      <td>27.491531</td>\n",
       "    </tr>\n",
       "  </tbody>\n",
       "</table>\n",
       "</div>"
      ],
      "text/plain": [
       "is_canceled       0      1    All    cancel%\n",
       "hotel                                       \n",
       "City Hotel    37371  16047  53418  30.040436\n",
       "Resort Hotel  25984   7974  33958  23.481948\n",
       "All           63355  24021  87376  27.491531"
      ]
     },
     "execution_count": 46,
     "metadata": {},
     "output_type": "execute_result"
    }
   ],
   "source": [
    "tbl['cancel%']=tbl[1]*100/tbl['All']\n",
    "\n",
    "tbl"
   ]
  },
  {
   "cell_type": "code",
   "execution_count": 47,
   "id": "ff056cf1",
   "metadata": {},
   "outputs": [
    {
     "data": {
      "text/plain": [
       "<AxesSubplot:xlabel='hotel'>"
      ]
     },
     "execution_count": 47,
     "metadata": {},
     "output_type": "execute_result"
    },
    {
     "data": {
      "image/png": "[encoded data removed]",
      "text/plain": [
       "<Figure size 432x288 with 1 Axes>"
      ]
     },
     "metadata": {
      "needs_background": "light"
     },
     "output_type": "display_data"
    }
   ],
   "source": [
    "tbl.drop('All',axis=0)['cancel%'].plot.bar()"
   ]
  },
  {
   "cell_type": "markdown",
   "id": "e18a675d",
   "metadata": {},
   "source": [
    "###### Column: Lead time"
   ]
  },
  {
   "cell_type": "code",
   "execution_count": 48,
   "id": "8509e800",
   "metadata": {},
   "outputs": [
    {
     "data": {
      "image/png": "[encoded data removed]",
      "text/plain": [
       "<Figure size 432x288 with 1 Axes>"
      ]
     },
     "metadata": {
      "needs_background": "light"
     },
     "output_type": "display_data"
    }
   ],
   "source": [
    "sns.distplot(df.lead_time)\n",
    "plt.show()"
   ]
  },
  {
   "cell_type": "markdown",
   "id": "fb788053",
   "metadata": {},
   "source": [
    "###### we see the most of the records are between 0 and 200 .Higher lead time could indicate that some records are booked for occasions and preplanned events"
   ]
  },
  {
   "cell_type": "code",
   "execution_count": 49,
   "id": "be7d42ee",
   "metadata": {},
   "outputs": [
    {
     "data": {
      "text/plain": [
       "<AxesSubplot:xlabel='is_canceled', ylabel='lead_time'>"
      ]
     },
     "execution_count": 49,
     "metadata": {},
     "output_type": "execute_result"
    },
    {
     "data": {
      "image/png": "[encoded data removed]",
      "text/plain": [
       "<Figure size 432x288 with 1 Axes>"
      ]
     },
     "metadata": {
      "needs_background": "light"
     },
     "output_type": "display_data"
    }
   ],
   "source": [
    "sns.boxplot(x='is_canceled',y='lead_time',data=df.loc[df.hotel=='City Hotel'])"
   ]
  },
  {
   "cell_type": "markdown",
   "id": "6a7c3616",
   "metadata": {},
   "source": [
    "##### From the above boxplots we infer that checked out bookings have a higher max lead time in resort hotels. But on average canceled bookings seem to be having higher lead time in resort hotels"
   ]
  },
  {
   "cell_type": "markdown",
   "id": "f1a92899",
   "metadata": {},
   "source": [
    "##### column:arrival data year\n",
    "    \n"
   ]
  },
  {
   "cell_type": "code",
   "execution_count": 50,
   "id": "9eec5b97",
   "metadata": {},
   "outputs": [
    {
     "data": {
      "text/plain": [
       "0        2015\n",
       "1        2015\n",
       "2        2015\n",
       "3        2015\n",
       "4        2015\n",
       "         ... \n",
       "87371    2017\n",
       "87372    2017\n",
       "87373    2017\n",
       "87374    2017\n",
       "87375    2017\n",
       "Name: arrival_date_year, Length: 87376, dtype: object"
      ]
     },
     "execution_count": 50,
     "metadata": {},
     "output_type": "execute_result"
    }
   ],
   "source": [
    "df.arrival_date_year"
   ]
  },
  {
   "cell_type": "code",
   "execution_count": 51,
   "id": "c4413918",
   "metadata": {},
   "outputs": [
    {
     "data": {
      "image/png": "[encoded data removed]",
      "text/plain": [
       "<Figure size 576x360 with 1 Axes>"
      ]
     },
     "metadata": {
      "needs_background": "light"
     },
     "output_type": "display_data"
    }
   ],
   "source": [
    "plt.rcParams['figure.figsize']=[8,5]\n",
    "sns.countplot(x='arrival_date_year',data=df,hue='hotel')\n",
    "plt.xlabel('Year')\n",
    "plt.ylabel('Number of Bookings')\n",
    "plt.show()"
   ]
  },
  {
   "cell_type": "markdown",
   "id": "71f10338",
   "metadata": {},
   "source": [
    "##### From the above barplots we see that 2016 had the highest number of bookings. While 2015 had the least. This could imply that these hotels could newer and established around 2015."
   ]
  },
  {
   "cell_type": "code",
   "execution_count": 52,
   "id": "42257330",
   "metadata": {},
   "outputs": [
    {
     "data": {
      "text/html": [
       "<div>\n",
       "<style scoped>\n",
       "    .dataframe tbody tr th:only-of-type {\n",
       "        vertical-align: middle;\n",
       "    }\n",
       "\n",
       "    .dataframe tbody tr th {\n",
       "        vertical-align: top;\n",
       "    }\n",
       "\n",
       "    .dataframe thead th {\n",
       "        text-align: right;\n",
       "    }\n",
       "</style>\n",
       "<table border=\"1\" class=\"dataframe\">\n",
       "  <thead>\n",
       "    <tr style=\"text-align: right;\">\n",
       "      <th>is_canceled</th>\n",
       "      <th>0</th>\n",
       "      <th>1</th>\n",
       "      <th>All</th>\n",
       "    </tr>\n",
       "    <tr>\n",
       "      <th>arrival_date_year</th>\n",
       "      <th></th>\n",
       "      <th></th>\n",
       "      <th></th>\n",
       "    </tr>\n",
       "  </thead>\n",
       "  <tbody>\n",
       "    <tr>\n",
       "      <th>2015</th>\n",
       "      <td>10605</td>\n",
       "      <td>2702</td>\n",
       "      <td>13307</td>\n",
       "    </tr>\n",
       "    <tr>\n",
       "      <th>2016</th>\n",
       "      <td>31176</td>\n",
       "      <td>11207</td>\n",
       "      <td>42383</td>\n",
       "    </tr>\n",
       "    <tr>\n",
       "      <th>2017</th>\n",
       "      <td>21574</td>\n",
       "      <td>10112</td>\n",
       "      <td>31686</td>\n",
       "    </tr>\n",
       "    <tr>\n",
       "      <th>All</th>\n",
       "      <td>63355</td>\n",
       "      <td>24021</td>\n",
       "      <td>87376</td>\n",
       "    </tr>\n",
       "  </tbody>\n",
       "</table>\n",
       "</div>"
      ],
      "text/plain": [
       "is_canceled            0      1    All\n",
       "arrival_date_year                     \n",
       "2015               10605   2702  13307\n",
       "2016               31176  11207  42383\n",
       "2017               21574  10112  31686\n",
       "All                63355  24021  87376"
      ]
     },
     "execution_count": 52,
     "metadata": {},
     "output_type": "execute_result"
    }
   ],
   "source": [
    "##we will now check year wise cancellation rate\n",
    "tbl=pd.crosstab(df.arrival_date_year,df.is_canceled,margins=True)\n",
    "tbl"
   ]
  },
  {
   "cell_type": "code",
   "execution_count": 53,
   "id": "32b63d59",
   "metadata": {},
   "outputs": [
    {
     "data": {
      "text/html": [
       "<div>\n",
       "<style scoped>\n",
       "    .dataframe tbody tr th:only-of-type {\n",
       "        vertical-align: middle;\n",
       "    }\n",
       "\n",
       "    .dataframe tbody tr th {\n",
       "        vertical-align: top;\n",
       "    }\n",
       "\n",
       "    .dataframe thead th {\n",
       "        text-align: right;\n",
       "    }\n",
       "</style>\n",
       "<table border=\"1\" class=\"dataframe\">\n",
       "  <thead>\n",
       "    <tr style=\"text-align: right;\">\n",
       "      <th>is_canceled</th>\n",
       "      <th>0</th>\n",
       "      <th>1</th>\n",
       "      <th>All</th>\n",
       "    </tr>\n",
       "    <tr>\n",
       "      <th>arrival_date_year</th>\n",
       "      <th></th>\n",
       "      <th></th>\n",
       "      <th></th>\n",
       "    </tr>\n",
       "  </thead>\n",
       "  <tbody>\n",
       "    <tr>\n",
       "      <th>2015</th>\n",
       "      <td>10605</td>\n",
       "      <td>2702</td>\n",
       "      <td>13307</td>\n",
       "    </tr>\n",
       "    <tr>\n",
       "      <th>2016</th>\n",
       "      <td>31176</td>\n",
       "      <td>11207</td>\n",
       "      <td>42383</td>\n",
       "    </tr>\n",
       "    <tr>\n",
       "      <th>2017</th>\n",
       "      <td>21574</td>\n",
       "      <td>10112</td>\n",
       "      <td>31686</td>\n",
       "    </tr>\n",
       "    <tr>\n",
       "      <th>All</th>\n",
       "      <td>63355</td>\n",
       "      <td>24021</td>\n",
       "      <td>87376</td>\n",
       "    </tr>\n",
       "  </tbody>\n",
       "</table>\n",
       "</div>"
      ],
      "text/plain": [
       "is_canceled            0      1    All\n",
       "arrival_date_year                     \n",
       "2015               10605   2702  13307\n",
       "2016               31176  11207  42383\n",
       "2017               21574  10112  31686\n",
       "All                63355  24021  87376"
      ]
     },
     "execution_count": 53,
     "metadata": {},
     "output_type": "execute_result"
    }
   ],
   "source": [
    "#tbl['percentage']=(tbl[1]/tbl['All'])*100\n",
    "#tbl.drop(\"All\",axis=1,inplace=True)\n",
    "tbl"
   ]
  },
  {
   "cell_type": "code",
   "execution_count": 54,
   "id": "7c0f2a5f",
   "metadata": {},
   "outputs": [],
   "source": [
    "#tbl.drop('All')['percentage'].plot.bar()\n",
    "#plt.title('cancellation across 2015,2016')"
   ]
  },
  {
   "cell_type": "code",
   "execution_count": 55,
   "id": "89645a71",
   "metadata": {},
   "outputs": [
    {
     "data": {
      "text/plain": [
       "2016    0.466550\n",
       "2017    0.420965\n",
       "2015    0.112485\n",
       "Name: arrival_date_year, dtype: float64"
      ]
     },
     "execution_count": 55,
     "metadata": {},
     "output_type": "execute_result"
    }
   ],
   "source": [
    "df[df.is_canceled==1]['arrival_date_year'].value_counts()/len(df[df.is_canceled==1])"
   ]
  },
  {
   "cell_type": "markdown",
   "id": "c16062f2",
   "metadata": {},
   "source": [
    "##### We see that 2017 had the highest cancellation percentage compared to 2015 and 2016. This may be due to some issues with the hotels in 2016, possibly overbooking and customer dissatisfaction. This could also be because of a bit of degraded customer support on the part of the hotels. Also we see that the cancel percentage increases with each passing year. This again could be indication of an overbooking problem"
   ]
  },
  {
   "cell_type": "markdown",
   "id": "82170008",
   "metadata": {},
   "source": [
    "##### Column: arrival date month"
   ]
  },
  {
   "cell_type": "code",
   "execution_count": 56,
   "id": "a8a34097",
   "metadata": {},
   "outputs": [
    {
     "data": {
      "image/png": "[encoded data removed]",
      "text/plain": [
       "<Figure size 576x360 with 1 Axes>"
      ]
     },
     "metadata": {
      "needs_background": "light"
     },
     "output_type": "display_data"
    }
   ],
   "source": [
    "plt.rcParams['figure.figsize']=[8,5]\n",
    "sns.countplot(x='arrival_date_month',data=df,order=df.arrival_date_month.value_counts().index,\n",
    "             palette='winter')\n",
    "plt.title('monthwise number  of bookings')\n",
    "plt.xlabel ('booking month')\n",
    "plt.xticks(rotation=60,ha='right')\n",
    "plt.show()"
   ]
  },
  {
   "cell_type": "code",
   "execution_count": 57,
   "id": "7178df3a",
   "metadata": {},
   "outputs": [
    {
     "data": {
      "image/png": "[encoded data removed]",
      "text/plain": [
       "<Figure size 720x720 with 1 Axes>"
      ]
     },
     "metadata": {
      "needs_background": "light"
     },
     "output_type": "display_data"
    }
   ],
   "source": [
    "plt.figure(figsize=(10,10))\n",
    "sns.countplot(x='arrival_date_month',data=df,hue='hotel',order=df.arrival_date_month.value_counts().index)\n",
    "plt.show()"
   ]
  },
  {
   "cell_type": "markdown",
   "id": "2c0cb65e",
   "metadata": {},
   "source": [
    "##### We see that August and July have the highest number of bookings compared to any other month. There could be some kind of festival or carnivals that are a major tourist attraction during these months. This could also be because of school vacations during August and July. This could also mean more crowds and festivities in this month."
   ]
  },
  {
   "cell_type": "code",
   "execution_count": 58,
   "id": "0a79e041",
   "metadata": {},
   "outputs": [
    {
     "data": {
      "text/plain": [
       "August       11254\n",
       "July         10055\n",
       "May           8353\n",
       "April         7907\n",
       "June          7764\n",
       "March         7511\n",
       "October       6934\n",
       "September     6688\n",
       "February      6097\n",
       "December      5129\n",
       "November      4992\n",
       "January       4692\n",
       "Name: arrival_date_month, dtype: int64"
      ]
     },
     "execution_count": 58,
     "metadata": {},
     "output_type": "execute_result"
    }
   ],
   "source": [
    "df.arrival_date_month.value_counts()"
   ]
  },
  {
   "cell_type": "code",
   "execution_count": 59,
   "id": "7f6924df",
   "metadata": {},
   "outputs": [
    {
     "data": {
      "text/html": [
       "<div>\n",
       "<style scoped>\n",
       "    .dataframe tbody tr th:only-of-type {\n",
       "        vertical-align: middle;\n",
       "    }\n",
       "\n",
       "    .dataframe tbody tr th {\n",
       "        vertical-align: top;\n",
       "    }\n",
       "\n",
       "    .dataframe thead th {\n",
       "        text-align: right;\n",
       "    }\n",
       "</style>\n",
       "<table border=\"1\" class=\"dataframe\">\n",
       "  <thead>\n",
       "    <tr style=\"text-align: right;\">\n",
       "      <th>is_canceled</th>\n",
       "      <th>0</th>\n",
       "      <th>1</th>\n",
       "      <th>All</th>\n",
       "    </tr>\n",
       "    <tr>\n",
       "      <th>arrival_date_month</th>\n",
       "      <th></th>\n",
       "      <th></th>\n",
       "      <th></th>\n",
       "    </tr>\n",
       "  </thead>\n",
       "  <tbody>\n",
       "    <tr>\n",
       "      <th>April</th>\n",
       "      <td>5498</td>\n",
       "      <td>2409</td>\n",
       "      <td>7907</td>\n",
       "    </tr>\n",
       "    <tr>\n",
       "      <th>August</th>\n",
       "      <td>7633</td>\n",
       "      <td>3621</td>\n",
       "      <td>11254</td>\n",
       "    </tr>\n",
       "    <tr>\n",
       "      <th>December</th>\n",
       "      <td>3751</td>\n",
       "      <td>1378</td>\n",
       "      <td>5129</td>\n",
       "    </tr>\n",
       "    <tr>\n",
       "      <th>February</th>\n",
       "      <td>4682</td>\n",
       "      <td>1415</td>\n",
       "      <td>6097</td>\n",
       "    </tr>\n",
       "    <tr>\n",
       "      <th>January</th>\n",
       "      <td>3654</td>\n",
       "      <td>1038</td>\n",
       "      <td>4692</td>\n",
       "    </tr>\n",
       "    <tr>\n",
       "      <th>July</th>\n",
       "      <td>6857</td>\n",
       "      <td>3198</td>\n",
       "      <td>10055</td>\n",
       "    </tr>\n",
       "    <tr>\n",
       "      <th>June</th>\n",
       "      <td>5411</td>\n",
       "      <td>2353</td>\n",
       "      <td>7764</td>\n",
       "    </tr>\n",
       "    <tr>\n",
       "      <th>March</th>\n",
       "      <td>5681</td>\n",
       "      <td>1830</td>\n",
       "      <td>7511</td>\n",
       "    </tr>\n",
       "    <tr>\n",
       "      <th>May</th>\n",
       "      <td>5911</td>\n",
       "      <td>2442</td>\n",
       "      <td>8353</td>\n",
       "    </tr>\n",
       "    <tr>\n",
       "      <th>November</th>\n",
       "      <td>3939</td>\n",
       "      <td>1053</td>\n",
       "      <td>4992</td>\n",
       "    </tr>\n",
       "    <tr>\n",
       "      <th>October</th>\n",
       "      <td>5292</td>\n",
       "      <td>1642</td>\n",
       "      <td>6934</td>\n",
       "    </tr>\n",
       "    <tr>\n",
       "      <th>September</th>\n",
       "      <td>5046</td>\n",
       "      <td>1642</td>\n",
       "      <td>6688</td>\n",
       "    </tr>\n",
       "    <tr>\n",
       "      <th>All</th>\n",
       "      <td>63355</td>\n",
       "      <td>24021</td>\n",
       "      <td>87376</td>\n",
       "    </tr>\n",
       "  </tbody>\n",
       "</table>\n",
       "</div>"
      ],
      "text/plain": [
       "is_canceled             0      1    All\n",
       "arrival_date_month                     \n",
       "April                5498   2409   7907\n",
       "August               7633   3621  11254\n",
       "December             3751   1378   5129\n",
       "February             4682   1415   6097\n",
       "January              3654   1038   4692\n",
       "July                 6857   3198  10055\n",
       "June                 5411   2353   7764\n",
       "March                5681   1830   7511\n",
       "May                  5911   2442   8353\n",
       "November             3939   1053   4992\n",
       "October              5292   1642   6934\n",
       "September            5046   1642   6688\n",
       "All                 63355  24021  87376"
      ]
     },
     "execution_count": 59,
     "metadata": {},
     "output_type": "execute_result"
    }
   ],
   "source": [
    "tbl=pd.crosstab(df.arrival_date_month,df.is_canceled,margins=True)\n",
    "tbl\n"
   ]
  },
  {
   "cell_type": "code",
   "execution_count": 60,
   "id": "18962262",
   "metadata": {},
   "outputs": [
    {
     "data": {
      "text/html": [
       "<div>\n",
       "<style scoped>\n",
       "    .dataframe tbody tr th:only-of-type {\n",
       "        vertical-align: middle;\n",
       "    }\n",
       "\n",
       "    .dataframe tbody tr th {\n",
       "        vertical-align: top;\n",
       "    }\n",
       "\n",
       "    .dataframe thead th {\n",
       "        text-align: right;\n",
       "    }\n",
       "</style>\n",
       "<table border=\"1\" class=\"dataframe\">\n",
       "  <thead>\n",
       "    <tr style=\"text-align: right;\">\n",
       "      <th>is_canceled</th>\n",
       "      <th>0</th>\n",
       "      <th>1</th>\n",
       "      <th>All</th>\n",
       "      <th>percentage</th>\n",
       "    </tr>\n",
       "    <tr>\n",
       "      <th>arrival_date_month</th>\n",
       "      <th></th>\n",
       "      <th></th>\n",
       "      <th></th>\n",
       "      <th></th>\n",
       "    </tr>\n",
       "  </thead>\n",
       "  <tbody>\n",
       "    <tr>\n",
       "      <th>April</th>\n",
       "      <td>5498</td>\n",
       "      <td>2409</td>\n",
       "      <td>7907</td>\n",
       "      <td>30.466675</td>\n",
       "    </tr>\n",
       "    <tr>\n",
       "      <th>August</th>\n",
       "      <td>7633</td>\n",
       "      <td>3621</td>\n",
       "      <td>11254</td>\n",
       "      <td>32.175227</td>\n",
       "    </tr>\n",
       "    <tr>\n",
       "      <th>December</th>\n",
       "      <td>3751</td>\n",
       "      <td>1378</td>\n",
       "      <td>5129</td>\n",
       "      <td>26.866836</td>\n",
       "    </tr>\n",
       "    <tr>\n",
       "      <th>February</th>\n",
       "      <td>4682</td>\n",
       "      <td>1415</td>\n",
       "      <td>6097</td>\n",
       "      <td>23.208135</td>\n",
       "    </tr>\n",
       "    <tr>\n",
       "      <th>January</th>\n",
       "      <td>3654</td>\n",
       "      <td>1038</td>\n",
       "      <td>4692</td>\n",
       "      <td>22.122762</td>\n",
       "    </tr>\n",
       "    <tr>\n",
       "      <th>July</th>\n",
       "      <td>6857</td>\n",
       "      <td>3198</td>\n",
       "      <td>10055</td>\n",
       "      <td>31.805072</td>\n",
       "    </tr>\n",
       "    <tr>\n",
       "      <th>June</th>\n",
       "      <td>5411</td>\n",
       "      <td>2353</td>\n",
       "      <td>7764</td>\n",
       "      <td>30.306543</td>\n",
       "    </tr>\n",
       "    <tr>\n",
       "      <th>March</th>\n",
       "      <td>5681</td>\n",
       "      <td>1830</td>\n",
       "      <td>7511</td>\n",
       "      <td>24.364266</td>\n",
       "    </tr>\n",
       "    <tr>\n",
       "      <th>May</th>\n",
       "      <td>5911</td>\n",
       "      <td>2442</td>\n",
       "      <td>8353</td>\n",
       "      <td>29.235005</td>\n",
       "    </tr>\n",
       "    <tr>\n",
       "      <th>November</th>\n",
       "      <td>3939</td>\n",
       "      <td>1053</td>\n",
       "      <td>4992</td>\n",
       "      <td>21.093750</td>\n",
       "    </tr>\n",
       "    <tr>\n",
       "      <th>October</th>\n",
       "      <td>5292</td>\n",
       "      <td>1642</td>\n",
       "      <td>6934</td>\n",
       "      <td>23.680415</td>\n",
       "    </tr>\n",
       "    <tr>\n",
       "      <th>September</th>\n",
       "      <td>5046</td>\n",
       "      <td>1642</td>\n",
       "      <td>6688</td>\n",
       "      <td>24.551435</td>\n",
       "    </tr>\n",
       "    <tr>\n",
       "      <th>All</th>\n",
       "      <td>63355</td>\n",
       "      <td>24021</td>\n",
       "      <td>87376</td>\n",
       "      <td>27.491531</td>\n",
       "    </tr>\n",
       "  </tbody>\n",
       "</table>\n",
       "</div>"
      ],
      "text/plain": [
       "is_canceled             0      1    All  percentage\n",
       "arrival_date_month                                 \n",
       "April                5498   2409   7907   30.466675\n",
       "August               7633   3621  11254   32.175227\n",
       "December             3751   1378   5129   26.866836\n",
       "February             4682   1415   6097   23.208135\n",
       "January              3654   1038   4692   22.122762\n",
       "July                 6857   3198  10055   31.805072\n",
       "June                 5411   2353   7764   30.306543\n",
       "March                5681   1830   7511   24.364266\n",
       "May                  5911   2442   8353   29.235005\n",
       "November             3939   1053   4992   21.093750\n",
       "October              5292   1642   6934   23.680415\n",
       "September            5046   1642   6688   24.551435\n",
       "All                 63355  24021  87376   27.491531"
      ]
     },
     "execution_count": 60,
     "metadata": {},
     "output_type": "execute_result"
    }
   ],
   "source": [
    "##total cancellation percentage\n",
    "tbl['percentage']=(tbl[1]/tbl['All'])*100\n",
    "tbl"
   ]
  },
  {
   "cell_type": "code",
   "execution_count": 61,
   "id": "63266f7a",
   "metadata": {},
   "outputs": [
    {
     "data": {
      "text/plain": [
       "<AxesSubplot:xlabel='arrival_date_month'>"
      ]
     },
     "execution_count": 61,
     "metadata": {},
     "output_type": "execute_result"
    },
    {
     "data": {
      "image/png": "[encoded data removed]",
      "text/plain": [
       "<Figure size 576x360 with 1 Axes>"
      ]
     },
     "metadata": {
      "needs_background": "light"
     },
     "output_type": "display_data"
    }
   ],
   "source": [
    "tbl.drop('All')['percentage'].plot.bar()"
   ]
  },
  {
   "cell_type": "markdown",
   "id": "b1dcea0d",
   "metadata": {},
   "source": [
    "##### We see that August has the highest cancellation percentage compared to any other month. This again indicates towards overbooking and rushed bookings during fesitivites times and vacations."
   ]
  },
  {
   "cell_type": "markdown",
   "id": "c2880701",
   "metadata": {},
   "source": [
    "##### Column: arrival date week number"
   ]
  },
  {
   "cell_type": "code",
   "execution_count": 62,
   "id": "66fea2ca",
   "metadata": {},
   "outputs": [
    {
     "data": {
      "image/png": "[encoded data removed]",
      "text/plain": [
       "<Figure size 720x720 with 1 Axes>"
      ]
     },
     "metadata": {
      "needs_background": "light"
     },
     "output_type": "display_data"
    }
   ],
   "source": [
    "plt.figure(figsize=(10,10))\n",
    "sns.countplot(df['arrival_date_week_number'])\n",
    "plt.xticks(rotation='vertical')\n",
    "plt.show()"
   ]
  },
  {
   "cell_type": "markdown",
   "id": "d9a91c72",
   "metadata": {},
   "source": [
    "##### We see that week number 33 has the highest number of bookings compared to any other week. This week lies around the time of august which further supports the idea that we have festivities and vacations during the month of August. Also we see that there are considerably less number of bookings towards the end of the year, especially during week 51 which usually falls in December during the time of Christmas."
   ]
  },
  {
   "cell_type": "markdown",
   "id": "33f8c518",
   "metadata": {},
   "source": [
    "##### Column: stays in weekend nights"
   ]
  },
  {
   "cell_type": "code",
   "execution_count": 63,
   "id": "5cf55bae",
   "metadata": {},
   "outputs": [
    {
     "data": {
      "text/plain": [
       "<AxesSubplot:xlabel='stays_in_weekend_nights', ylabel='Density'>"
      ]
     },
     "execution_count": 63,
     "metadata": {},
     "output_type": "execute_result"
    },
    {
     "data": {
      "image/png": "[encoded data removed]",
      "text/plain": [
       "<Figure size 576x360 with 1 Axes>"
      ]
     },
     "metadata": {
      "needs_background": "light"
     },
     "output_type": "display_data"
    }
   ],
   "source": [
    "df['stays_in_week_nights']\n",
    "sns.distplot(df.stays_in_weekend_nights)"
   ]
  },
  {
   "cell_type": "markdown",
   "id": "598956bc",
   "metadata": {},
   "source": [
    "##### Most people stay for shorter stays in the hotels with the usual number being between 0 and 5. This means a month long vacation could be the most popular vacation and trip type in these hotels. There are records with longer stays. This could be about people visiting on longer project and work related corporate trips which extend to many months."
   ]
  },
  {
   "cell_type": "code",
   "execution_count": 64,
   "id": "7ac9baf4",
   "metadata": {},
   "outputs": [
    {
     "data": {
      "image/png": "[encoded data removed]",
      "text/plain": [
       "<Figure size 720x720 with 1 Axes>"
      ]
     },
     "metadata": {
      "needs_background": "light"
     },
     "output_type": "display_data"
    }
   ],
   "source": [
    "plt.figure(figsize=(10,10))\n",
    "sns.boxplot(x='hotel',y='stays_in_weekend_nights',data=df)\n",
    "plt.show()"
   ]
  },
  {
   "cell_type": "markdown",
   "id": "6dd2bc8b",
   "metadata": {},
   "source": [
    "###### We see that resort hotel usually has a higher stays in weekend nights compared to city hotel. Since resort hotels are usuaaly located near tourist attractions, beaches and forests, this could mean that work related trips could be for environmental studies or historical studies."
   ]
  },
  {
   "cell_type": "code",
   "execution_count": 65,
   "id": "2e318590",
   "metadata": {},
   "outputs": [
    {
     "data": {
      "image/png": "[encoded data removed]",
      "text/plain": [
       "<Figure size 360x360 with 1 Axes>"
      ]
     },
     "metadata": {
      "needs_background": "light"
     },
     "output_type": "display_data"
    }
   ],
   "source": [
    "plt.figure(figsize=(5,5))\n",
    "sns.distplot(df.loc[(df.stays_in_week_nights==0)&(df.stays_in_weekend_nights==0)]['adults'])\n",
    "plt.show()"
   ]
  },
  {
   "cell_type": "markdown",
   "id": "02427794",
   "metadata": {},
   "source": [
    "###### We observed that there are records containing 0 weekend stays, and 0 week nights stays and see that the number of adults in these is usually in small numbers. This could be couples,solo short trips. Records with 2 number of adults could indicate wedding aniversaries, birthdays. In these cases couples could be enjoying a casual stay in the hotels for a few hours for celebrations"
   ]
  },
  {
   "cell_type": "markdown",
   "id": "bb6b0012",
   "metadata": {},
   "source": [
    "###### Column: Babies"
   ]
  },
  {
   "cell_type": "code",
   "execution_count": 66,
   "id": "8ec12995",
   "metadata": {},
   "outputs": [
    {
     "data": {
      "image/png": "[encoded data removed]",
      "text/plain": [
       "<Figure size 360x360 with 1 Axes>"
      ]
     },
     "metadata": {
      "needs_background": "light"
     },
     "output_type": "display_data"
    }
   ],
   "source": [
    "plt.figure(figsize=(5,5))\n",
    "sns.distplot(df.babies)\n",
    "plt.show()"
   ]
  },
  {
   "cell_type": "markdown",
   "id": "0e26522f",
   "metadata": {},
   "source": [
    "###### We see that maximum records have 0 children. This indicates tha maximum trips are corporate, solo, couple and casual trips. There some records with higher number of babies which could mean presence of joint families on family trips.\n",
    "We also see a similar pattern with the number of children column as well"
   ]
  },
  {
   "cell_type": "code",
   "execution_count": 67,
   "id": "36138479",
   "metadata": {},
   "outputs": [
    {
     "data": {
      "image/png": "[encoded data removed]",
      "text/plain": [
       "<Figure size 576x432 with 1 Axes>"
      ]
     },
     "metadata": {},
     "output_type": "display_data"
    }
   ],
   "source": [
    "plt.figure(figsize=(8,6))\n",
    "plt.pie(df.meal.value_counts().values,explode=[0.1,0.1,0.1,1,0.1],labels=df.meal.value_counts().index,autopct='%.2f%%')\n",
    "plt.title('Types of meal distribution')\n",
    "plt.show()"
   ]
  },
  {
   "cell_type": "markdown",
   "id": "37556ab3",
   "metadata": {},
   "source": [
    "##### We see that most people order for a Bed and Breakfast meal package. Very few people go for a full board meal package. This could indicate the presence of popular restaurents around the hotels. A large number of people have ordered a no meal package as well. This further indicates the presence of popular restaurents around the hotels."
   ]
  },
  {
   "cell_type": "markdown",
   "id": "fef84d3a",
   "metadata": {},
   "source": [
    "###### b###### Column: country"
   ]
  },
  {
   "cell_type": "code",
   "execution_count": 68,
   "id": "d50d1c45",
   "metadata": {},
   "outputs": [
    {
     "data": {
      "text/plain": [
       "Europe           77516\n",
       "Asia              3425\n",
       "South America     2446\n",
       "North America     2005\n",
       "Africa             995\n",
       "Australia          378\n",
       "Others             159\n",
       "Name: country, dtype: int64"
      ]
     },
     "execution_count": 68,
     "metadata": {},
     "output_type": "execute_result"
    }
   ],
   "source": [
    "\n",
    "df.country.value_counts()"
   ]
  },
  {
   "cell_type": "code",
   "execution_count": 69,
   "id": "87d59a47",
   "metadata": {},
   "outputs": [
    {
     "data": {
      "text/plain": [
       "<AxesSubplot:xlabel='country', ylabel='count'>"
      ]
     },
     "execution_count": 69,
     "metadata": {},
     "output_type": "execute_result"
    },
    {
     "data": {
      "image/png": "[encoded data removed]",
      "text/plain": [
       "<Figure size 576x360 with 1 Axes>"
      ]
     },
     "metadata": {
      "needs_background": "light"
     },
     "output_type": "display_data"
    }
   ],
   "source": [
    "sns.countplot(df.country)"
   ]
  },
  {
   "cell_type": "code",
   "execution_count": 70,
   "id": "263ebf10",
   "metadata": {},
   "outputs": [
    {
     "data": {
      "text/html": [
       "<div>\n",
       "<style scoped>\n",
       "    .dataframe tbody tr th:only-of-type {\n",
       "        vertical-align: middle;\n",
       "    }\n",
       "\n",
       "    .dataframe tbody tr th {\n",
       "        vertical-align: top;\n",
       "    }\n",
       "\n",
       "    .dataframe thead th {\n",
       "        text-align: right;\n",
       "    }\n",
       "</style>\n",
       "<table border=\"1\" class=\"dataframe\">\n",
       "  <thead>\n",
       "    <tr style=\"text-align: right;\">\n",
       "      <th>is_canceled</th>\n",
       "      <th>0</th>\n",
       "      <th>1</th>\n",
       "      <th>All</th>\n",
       "      <th>cancelleations</th>\n",
       "    </tr>\n",
       "    <tr>\n",
       "      <th>country</th>\n",
       "      <th></th>\n",
       "      <th></th>\n",
       "      <th></th>\n",
       "      <th></th>\n",
       "    </tr>\n",
       "  </thead>\n",
       "  <tbody>\n",
       "    <tr>\n",
       "      <th>Africa</th>\n",
       "      <td>559</td>\n",
       "      <td>436</td>\n",
       "      <td>995</td>\n",
       "      <td>43.819095</td>\n",
       "    </tr>\n",
       "    <tr>\n",
       "      <th>Asia</th>\n",
       "      <td>2284</td>\n",
       "      <td>1141</td>\n",
       "      <td>3425</td>\n",
       "      <td>33.313869</td>\n",
       "    </tr>\n",
       "    <tr>\n",
       "      <th>Australia</th>\n",
       "      <td>286</td>\n",
       "      <td>92</td>\n",
       "      <td>378</td>\n",
       "      <td>24.338624</td>\n",
       "    </tr>\n",
       "    <tr>\n",
       "      <th>Europe</th>\n",
       "      <td>56572</td>\n",
       "      <td>20944</td>\n",
       "      <td>77516</td>\n",
       "      <td>27.018938</td>\n",
       "    </tr>\n",
       "    <tr>\n",
       "      <th>North America</th>\n",
       "      <td>1531</td>\n",
       "      <td>474</td>\n",
       "      <td>2005</td>\n",
       "      <td>23.640898</td>\n",
       "    </tr>\n",
       "    <tr>\n",
       "      <th>Others</th>\n",
       "      <td>106</td>\n",
       "      <td>53</td>\n",
       "      <td>159</td>\n",
       "      <td>33.333333</td>\n",
       "    </tr>\n",
       "    <tr>\n",
       "      <th>South America</th>\n",
       "      <td>1599</td>\n",
       "      <td>847</td>\n",
       "      <td>2446</td>\n",
       "      <td>34.627964</td>\n",
       "    </tr>\n",
       "    <tr>\n",
       "      <th>All</th>\n",
       "      <td>62937</td>\n",
       "      <td>23987</td>\n",
       "      <td>86924</td>\n",
       "      <td>27.595371</td>\n",
       "    </tr>\n",
       "  </tbody>\n",
       "</table>\n",
       "</div>"
      ],
      "text/plain": [
       "is_canceled        0      1    All  cancelleations\n",
       "country                                           \n",
       "Africa           559    436    995       43.819095\n",
       "Asia            2284   1141   3425       33.313869\n",
       "Australia        286     92    378       24.338624\n",
       "Europe         56572  20944  77516       27.018938\n",
       "North America   1531    474   2005       23.640898\n",
       "Others           106     53    159       33.333333\n",
       "South America   1599    847   2446       34.627964\n",
       "All            62937  23987  86924       27.595371"
      ]
     },
     "execution_count": 70,
     "metadata": {},
     "output_type": "execute_result"
    }
   ],
   "source": [
    "tbl=pd.crosstab(df.country,df.is_canceled,margins=True)\n",
    "tbl\n",
    "tbl['cancelleations']=(tbl[1]/tbl['All'])*100\n",
    "tbl"
   ]
  },
  {
   "cell_type": "code",
   "execution_count": 71,
   "id": "39f693b1",
   "metadata": {},
   "outputs": [
    {
     "data": {
      "text/plain": [
       "<AxesSubplot:xlabel='country'>"
      ]
     },
     "execution_count": 71,
     "metadata": {},
     "output_type": "execute_result"
    },
    {
     "data": {
      "image/png": "[encoded data removed]",
      "text/plain": [
       "<Figure size 576x360 with 1 Axes>"
      ]
     },
     "metadata": {
      "needs_background": "light"
     },
     "output_type": "display_data"
    }
   ],
   "source": [
    "tbl.drop('All',axis=1)['cancelleations'].plot.bar()\n"
   ]
  },
  {
   "cell_type": "markdown",
   "id": "52c45486",
   "metadata": {},
   "source": [
    "###### We see that Africa has the highest rate of cancellation. Issues could be originating from issues with Visas(a hotel booking is mandatory for applying for a Portuguese entry visa) because some strict rules in the European Union(cancellation percentage in considerably less amongst European countries). Amongst the known continents, customers from North America seems to be having the least percentage of cancellation."
   ]
  },
  {
   "cell_type": "markdown",
   "id": "f00599e4",
   "metadata": {},
   "source": [
    "###### column market segment"
   ]
  },
  {
   "cell_type": "code",
   "execution_count": 72,
   "id": "3d8a9061",
   "metadata": {},
   "outputs": [
    {
     "data": {
      "text/plain": [
       "<AxesSubplot:xlabel='market_segment', ylabel='count'>"
      ]
     },
     "execution_count": 72,
     "metadata": {},
     "output_type": "execute_result"
    },
    {
     "data": {
      "image/png": "[encoded data removed]",
      "text/plain": [
       "<Figure size 576x360 with 1 Axes>"
      ]
     },
     "metadata": {
      "needs_background": "light"
     },
     "output_type": "display_data"
    }
   ],
   "source": [
    "sns.countplot(x='market_segment',data=df)\n"
   ]
  },
  {
   "cell_type": "markdown",
   "id": "207e83c3",
   "metadata": {},
   "source": [
    "###### We see that most of the records are through Online Travel Agents indicating a strong presence of online travel agents with a strong network in Portugal. There are also records with market_segment as Aviation. These records could be of different flight crews and their stays in these hotels. There are some complementary segments as well. It could indicate a few cases of complaints from the end of customers. This could also indicate a policy of reimbursment or compensation on the part of the hotels."
   ]
  },
  {
   "cell_type": "code",
   "execution_count": 73,
   "id": "48589584",
   "metadata": {},
   "outputs": [
    {
     "data": {
      "text/html": [
       "<div>\n",
       "<style scoped>\n",
       "    .dataframe tbody tr th:only-of-type {\n",
       "        vertical-align: middle;\n",
       "    }\n",
       "\n",
       "    .dataframe tbody tr th {\n",
       "        vertical-align: top;\n",
       "    }\n",
       "\n",
       "    .dataframe thead th {\n",
       "        text-align: right;\n",
       "    }\n",
       "</style>\n",
       "<table border=\"1\" class=\"dataframe\">\n",
       "  <thead>\n",
       "    <tr style=\"text-align: right;\">\n",
       "      <th>is_canceled</th>\n",
       "      <th>0</th>\n",
       "      <th>1</th>\n",
       "      <th>All</th>\n",
       "    </tr>\n",
       "    <tr>\n",
       "      <th>market_segment</th>\n",
       "      <th></th>\n",
       "      <th></th>\n",
       "      <th></th>\n",
       "    </tr>\n",
       "  </thead>\n",
       "  <tbody>\n",
       "    <tr>\n",
       "      <th>Aviation</th>\n",
       "      <td>182</td>\n",
       "      <td>45</td>\n",
       "      <td>227</td>\n",
       "    </tr>\n",
       "    <tr>\n",
       "      <th>Complementary</th>\n",
       "      <td>614</td>\n",
       "      <td>88</td>\n",
       "      <td>702</td>\n",
       "    </tr>\n",
       "    <tr>\n",
       "      <th>Corporate</th>\n",
       "      <td>3698</td>\n",
       "      <td>510</td>\n",
       "      <td>4208</td>\n",
       "    </tr>\n",
       "    <tr>\n",
       "      <th>Direct</th>\n",
       "      <td>10067</td>\n",
       "      <td>1737</td>\n",
       "      <td>11804</td>\n",
       "    </tr>\n",
       "    <tr>\n",
       "      <th>Groups</th>\n",
       "      <td>3606</td>\n",
       "      <td>1335</td>\n",
       "      <td>4941</td>\n",
       "    </tr>\n",
       "    <tr>\n",
       "      <th>Offline TA/TO</th>\n",
       "      <td>11822</td>\n",
       "      <td>2060</td>\n",
       "      <td>13882</td>\n",
       "    </tr>\n",
       "    <tr>\n",
       "      <th>Online TA</th>\n",
       "      <td>33366</td>\n",
       "      <td>18244</td>\n",
       "      <td>51610</td>\n",
       "    </tr>\n",
       "    <tr>\n",
       "      <th>Undefined</th>\n",
       "      <td>0</td>\n",
       "      <td>2</td>\n",
       "      <td>2</td>\n",
       "    </tr>\n",
       "    <tr>\n",
       "      <th>All</th>\n",
       "      <td>63355</td>\n",
       "      <td>24021</td>\n",
       "      <td>87376</td>\n",
       "    </tr>\n",
       "  </tbody>\n",
       "</table>\n",
       "</div>"
      ],
      "text/plain": [
       "is_canceled         0      1    All\n",
       "market_segment                     \n",
       "Aviation          182     45    227\n",
       "Complementary     614     88    702\n",
       "Corporate        3698    510   4208\n",
       "Direct          10067   1737  11804\n",
       "Groups           3606   1335   4941\n",
       "Offline TA/TO   11822   2060  13882\n",
       "Online TA       33366  18244  51610\n",
       "Undefined           0      2      2\n",
       "All             63355  24021  87376"
      ]
     },
     "execution_count": 73,
     "metadata": {},
     "output_type": "execute_result"
    }
   ],
   "source": [
    "tbl=pd.crosstab(df.market_segment,df.is_canceled,margins=True)\n",
    "tbl"
   ]
  },
  {
   "cell_type": "code",
   "execution_count": 74,
   "id": "b2bc3c98",
   "metadata": {},
   "outputs": [
    {
     "data": {
      "text/html": [
       "<div>\n",
       "<style scoped>\n",
       "    .dataframe tbody tr th:only-of-type {\n",
       "        vertical-align: middle;\n",
       "    }\n",
       "\n",
       "    .dataframe tbody tr th {\n",
       "        vertical-align: top;\n",
       "    }\n",
       "\n",
       "    .dataframe thead th {\n",
       "        text-align: right;\n",
       "    }\n",
       "</style>\n",
       "<table border=\"1\" class=\"dataframe\">\n",
       "  <thead>\n",
       "    <tr style=\"text-align: right;\">\n",
       "      <th>is_canceled</th>\n",
       "      <th>0</th>\n",
       "      <th>1</th>\n",
       "      <th>All</th>\n",
       "      <th>cancel_percent</th>\n",
       "    </tr>\n",
       "    <tr>\n",
       "      <th>market_segment</th>\n",
       "      <th></th>\n",
       "      <th></th>\n",
       "      <th></th>\n",
       "      <th></th>\n",
       "    </tr>\n",
       "  </thead>\n",
       "  <tbody>\n",
       "    <tr>\n",
       "      <th>Aviation</th>\n",
       "      <td>182</td>\n",
       "      <td>45</td>\n",
       "      <td>227</td>\n",
       "      <td>19.823789</td>\n",
       "    </tr>\n",
       "    <tr>\n",
       "      <th>Complementary</th>\n",
       "      <td>614</td>\n",
       "      <td>88</td>\n",
       "      <td>702</td>\n",
       "      <td>12.535613</td>\n",
       "    </tr>\n",
       "    <tr>\n",
       "      <th>Corporate</th>\n",
       "      <td>3698</td>\n",
       "      <td>510</td>\n",
       "      <td>4208</td>\n",
       "      <td>12.119772</td>\n",
       "    </tr>\n",
       "    <tr>\n",
       "      <th>Direct</th>\n",
       "      <td>10067</td>\n",
       "      <td>1737</td>\n",
       "      <td>11804</td>\n",
       "      <td>14.715351</td>\n",
       "    </tr>\n",
       "    <tr>\n",
       "      <th>Groups</th>\n",
       "      <td>3606</td>\n",
       "      <td>1335</td>\n",
       "      <td>4941</td>\n",
       "      <td>27.018822</td>\n",
       "    </tr>\n",
       "    <tr>\n",
       "      <th>Offline TA/TO</th>\n",
       "      <td>11822</td>\n",
       "      <td>2060</td>\n",
       "      <td>13882</td>\n",
       "      <td>14.839360</td>\n",
       "    </tr>\n",
       "    <tr>\n",
       "      <th>Online TA</th>\n",
       "      <td>33366</td>\n",
       "      <td>18244</td>\n",
       "      <td>51610</td>\n",
       "      <td>35.349738</td>\n",
       "    </tr>\n",
       "    <tr>\n",
       "      <th>Undefined</th>\n",
       "      <td>0</td>\n",
       "      <td>2</td>\n",
       "      <td>2</td>\n",
       "      <td>100.000000</td>\n",
       "    </tr>\n",
       "    <tr>\n",
       "      <th>All</th>\n",
       "      <td>63355</td>\n",
       "      <td>24021</td>\n",
       "      <td>87376</td>\n",
       "      <td>27.491531</td>\n",
       "    </tr>\n",
       "  </tbody>\n",
       "</table>\n",
       "</div>"
      ],
      "text/plain": [
       "is_canceled         0      1    All  cancel_percent\n",
       "market_segment                                     \n",
       "Aviation          182     45    227       19.823789\n",
       "Complementary     614     88    702       12.535613\n",
       "Corporate        3698    510   4208       12.119772\n",
       "Direct          10067   1737  11804       14.715351\n",
       "Groups           3606   1335   4941       27.018822\n",
       "Offline TA/TO   11822   2060  13882       14.839360\n",
       "Online TA       33366  18244  51610       35.349738\n",
       "Undefined           0      2      2      100.000000\n",
       "All             63355  24021  87376       27.491531"
      ]
     },
     "execution_count": 74,
     "metadata": {},
     "output_type": "execute_result"
    }
   ],
   "source": [
    "tbl['cancel_percent']=tbl[1]*100/tbl['All']\n",
    "tbl"
   ]
  },
  {
   "cell_type": "code",
   "execution_count": 75,
   "id": "4e2fb3b1",
   "metadata": {},
   "outputs": [
    {
     "data": {
      "image/png": "[encoded data removed]",
      "text/plain": [
       "<Figure size 576x360 with 1 Axes>"
      ]
     },
     "metadata": {
      "needs_background": "light"
     },
     "output_type": "display_data"
    }
   ],
   "source": [
    "tbl.drop('All',axis=0)['cancel_percent'].plot.bar()\n",
    "plt.title('Market Segment wise cancellation rate')\n",
    "plt.xticks(rotation=60,ha='left')\n",
    "plt.show()"
   ]
  },
  {
   "cell_type": "markdown",
   "id": "d0425cd3",
   "metadata": {},
   "source": [
    "###### We see that undefined market segment has the highest cancellation rate. But there are only two records where market segment was undefined. Among the other market segments, cancellation rates were highest in the online TA segments."
   ]
  },
  {
   "cell_type": "markdown",
   "id": "7f86b99f",
   "metadata": {},
   "source": [
    "###### Column: Distribution channel"
   ]
  },
  {
   "cell_type": "code",
   "execution_count": 76,
   "id": "80bfe91e",
   "metadata": {},
   "outputs": [
    {
     "data": {
      "image/png": "[encoded data removed]",
      "text/plain": [
       "<Figure size 576x360 with 1 Axes>"
      ]
     },
     "metadata": {
      "needs_background": "light"
     },
     "output_type": "display_data"
    }
   ],
   "source": [
    "sns.countplot(x='distribution_channel',data=df)\n",
    "plt.show()"
   ]
  },
  {
   "cell_type": "code",
   "execution_count": 77,
   "id": "32f6cdf0",
   "metadata": {},
   "outputs": [
    {
     "data": {
      "text/html": [
       "<div>\n",
       "<style scoped>\n",
       "    .dataframe tbody tr th:only-of-type {\n",
       "        vertical-align: middle;\n",
       "    }\n",
       "\n",
       "    .dataframe tbody tr th {\n",
       "        vertical-align: top;\n",
       "    }\n",
       "\n",
       "    .dataframe thead th {\n",
       "        text-align: right;\n",
       "    }\n",
       "</style>\n",
       "<table border=\"1\" class=\"dataframe\">\n",
       "  <thead>\n",
       "    <tr style=\"text-align: right;\">\n",
       "      <th>is_canceled</th>\n",
       "      <th>0</th>\n",
       "      <th>1</th>\n",
       "      <th>All</th>\n",
       "    </tr>\n",
       "    <tr>\n",
       "      <th>distribution_channel</th>\n",
       "      <th></th>\n",
       "      <th></th>\n",
       "      <th></th>\n",
       "    </tr>\n",
       "  </thead>\n",
       "  <tbody>\n",
       "    <tr>\n",
       "      <th>Corporate</th>\n",
       "      <td>4429</td>\n",
       "      <td>648</td>\n",
       "      <td>5077</td>\n",
       "    </tr>\n",
       "    <tr>\n",
       "      <th>Direct</th>\n",
       "      <td>11063</td>\n",
       "      <td>1925</td>\n",
       "      <td>12988</td>\n",
       "    </tr>\n",
       "    <tr>\n",
       "      <th>GDS</th>\n",
       "      <td>145</td>\n",
       "      <td>36</td>\n",
       "      <td>181</td>\n",
       "    </tr>\n",
       "    <tr>\n",
       "      <th>TA/TO</th>\n",
       "      <td>47717</td>\n",
       "      <td>21408</td>\n",
       "      <td>69125</td>\n",
       "    </tr>\n",
       "    <tr>\n",
       "      <th>Undefined</th>\n",
       "      <td>1</td>\n",
       "      <td>4</td>\n",
       "      <td>5</td>\n",
       "    </tr>\n",
       "    <tr>\n",
       "      <th>All</th>\n",
       "      <td>63355</td>\n",
       "      <td>24021</td>\n",
       "      <td>87376</td>\n",
       "    </tr>\n",
       "  </tbody>\n",
       "</table>\n",
       "</div>"
      ],
      "text/plain": [
       "is_canceled               0      1    All\n",
       "distribution_channel                     \n",
       "Corporate              4429    648   5077\n",
       "Direct                11063   1925  12988\n",
       "GDS                     145     36    181\n",
       "TA/TO                 47717  21408  69125\n",
       "Undefined                 1      4      5\n",
       "All                   63355  24021  87376"
      ]
     },
     "execution_count": 77,
     "metadata": {},
     "output_type": "execute_result"
    }
   ],
   "source": [
    "tbl=pd.crosstab(df.distribution_channel,df.is_canceled,margins=True)\n",
    "tbl"
   ]
  },
  {
   "cell_type": "code",
   "execution_count": 78,
   "id": "ef668ab4",
   "metadata": {},
   "outputs": [
    {
     "data": {
      "text/html": [
       "<div>\n",
       "<style scoped>\n",
       "    .dataframe tbody tr th:only-of-type {\n",
       "        vertical-align: middle;\n",
       "    }\n",
       "\n",
       "    .dataframe tbody tr th {\n",
       "        vertical-align: top;\n",
       "    }\n",
       "\n",
       "    .dataframe thead th {\n",
       "        text-align: right;\n",
       "    }\n",
       "</style>\n",
       "<table border=\"1\" class=\"dataframe\">\n",
       "  <thead>\n",
       "    <tr style=\"text-align: right;\">\n",
       "      <th>is_canceled</th>\n",
       "      <th>0</th>\n",
       "      <th>1</th>\n",
       "      <th>All</th>\n",
       "      <th>cancel_percent</th>\n",
       "    </tr>\n",
       "    <tr>\n",
       "      <th>distribution_channel</th>\n",
       "      <th></th>\n",
       "      <th></th>\n",
       "      <th></th>\n",
       "      <th></th>\n",
       "    </tr>\n",
       "  </thead>\n",
       "  <tbody>\n",
       "    <tr>\n",
       "      <th>Corporate</th>\n",
       "      <td>4429</td>\n",
       "      <td>648</td>\n",
       "      <td>5077</td>\n",
       "      <td>12.763443</td>\n",
       "    </tr>\n",
       "    <tr>\n",
       "      <th>Direct</th>\n",
       "      <td>11063</td>\n",
       "      <td>1925</td>\n",
       "      <td>12988</td>\n",
       "      <td>14.821374</td>\n",
       "    </tr>\n",
       "    <tr>\n",
       "      <th>GDS</th>\n",
       "      <td>145</td>\n",
       "      <td>36</td>\n",
       "      <td>181</td>\n",
       "      <td>19.889503</td>\n",
       "    </tr>\n",
       "    <tr>\n",
       "      <th>TA/TO</th>\n",
       "      <td>47717</td>\n",
       "      <td>21408</td>\n",
       "      <td>69125</td>\n",
       "      <td>30.969982</td>\n",
       "    </tr>\n",
       "    <tr>\n",
       "      <th>Undefined</th>\n",
       "      <td>1</td>\n",
       "      <td>4</td>\n",
       "      <td>5</td>\n",
       "      <td>80.000000</td>\n",
       "    </tr>\n",
       "    <tr>\n",
       "      <th>All</th>\n",
       "      <td>63355</td>\n",
       "      <td>24021</td>\n",
       "      <td>87376</td>\n",
       "      <td>27.491531</td>\n",
       "    </tr>\n",
       "  </tbody>\n",
       "</table>\n",
       "</div>"
      ],
      "text/plain": [
       "is_canceled               0      1    All  cancel_percent\n",
       "distribution_channel                                     \n",
       "Corporate              4429    648   5077       12.763443\n",
       "Direct                11063   1925  12988       14.821374\n",
       "GDS                     145     36    181       19.889503\n",
       "TA/TO                 47717  21408  69125       30.969982\n",
       "Undefined                 1      4      5       80.000000\n",
       "All                   63355  24021  87376       27.491531"
      ]
     },
     "execution_count": 78,
     "metadata": {},
     "output_type": "execute_result"
    }
   ],
   "source": [
    "tbl['cancel_percent']=tbl[1]*100/tbl['All']\n",
    "tbl"
   ]
  },
  {
   "cell_type": "code",
   "execution_count": 79,
   "id": "e6f9424c",
   "metadata": {},
   "outputs": [
    {
     "data": {
      "image/png": "[encoded data removed]",
      "text/plain": [
       "<Figure size 576x360 with 1 Axes>"
      ]
     },
     "metadata": {
      "needs_background": "light"
     },
     "output_type": "display_data"
    }
   ],
   "source": [
    "tbl.drop('All',axis=0)['cancel_percent'].plot.bar()\n",
    "plt.show()"
   ]
  },
  {
   "cell_type": "markdown",
   "id": "3f281c3f",
   "metadata": {},
   "source": [
    "###### We see that undefined distribution channel has the highest cancellation percentage. But there are only 5 records of undefined distribution channel. Among the defined distribution channels Travel agents and tour operators seem to have the highest cancellation rates. Corporate bookings have the least cancellation rates among all the distribution channels."
   ]
  },
  {
   "cell_type": "markdown",
   "id": "21e9ab20",
   "metadata": {},
   "source": [
    "###### Column: is_repeated_guest¶"
   ]
  },
  {
   "cell_type": "code",
   "execution_count": 80,
   "id": "ac6d8cda",
   "metadata": {},
   "outputs": [
    {
     "data": {
      "image/png": "[encoded data removed]",
      "text/plain": [
       "<Figure size 576x360 with 1 Axes>"
      ]
     },
     "metadata": {
      "needs_background": "light"
     },
     "output_type": "display_data"
    }
   ],
   "source": [
    "sns.countplot(x='is_repeated_guest',data=df)\n",
    "plt.show()"
   ]
  },
  {
   "cell_type": "markdown",
   "id": "91147b65",
   "metadata": {},
   "source": [
    "###### We see that very few records are of customers that are repeated guests.¶\n"
   ]
  },
  {
   "cell_type": "code",
   "execution_count": 81,
   "id": "17477e50",
   "metadata": {},
   "outputs": [
    {
     "data": {
      "text/html": [
       "<div>\n",
       "<style scoped>\n",
       "    .dataframe tbody tr th:only-of-type {\n",
       "        vertical-align: middle;\n",
       "    }\n",
       "\n",
       "    .dataframe tbody tr th {\n",
       "        vertical-align: top;\n",
       "    }\n",
       "\n",
       "    .dataframe thead th {\n",
       "        text-align: right;\n",
       "    }\n",
       "</style>\n",
       "<table border=\"1\" class=\"dataframe\">\n",
       "  <thead>\n",
       "    <tr style=\"text-align: right;\">\n",
       "      <th>is_canceled</th>\n",
       "      <th>0</th>\n",
       "      <th>1</th>\n",
       "      <th>All</th>\n",
       "    </tr>\n",
       "    <tr>\n",
       "      <th>is_repeated_guest</th>\n",
       "      <th></th>\n",
       "      <th></th>\n",
       "      <th></th>\n",
       "    </tr>\n",
       "  </thead>\n",
       "  <tbody>\n",
       "    <tr>\n",
       "      <th>0</th>\n",
       "      <td>60201</td>\n",
       "      <td>23760</td>\n",
       "      <td>83961</td>\n",
       "    </tr>\n",
       "    <tr>\n",
       "      <th>1</th>\n",
       "      <td>3154</td>\n",
       "      <td>261</td>\n",
       "      <td>3415</td>\n",
       "    </tr>\n",
       "    <tr>\n",
       "      <th>All</th>\n",
       "      <td>63355</td>\n",
       "      <td>24021</td>\n",
       "      <td>87376</td>\n",
       "    </tr>\n",
       "  </tbody>\n",
       "</table>\n",
       "</div>"
      ],
      "text/plain": [
       "is_canceled            0      1    All\n",
       "is_repeated_guest                     \n",
       "0                  60201  23760  83961\n",
       "1                   3154    261   3415\n",
       "All                63355  24021  87376"
      ]
     },
     "execution_count": 81,
     "metadata": {},
     "output_type": "execute_result"
    }
   ],
   "source": [
    "tbl=pd.crosstab(df.is_repeated_guest,df.is_canceled,margins=True)\n",
    "tbl"
   ]
  },
  {
   "cell_type": "code",
   "execution_count": 82,
   "id": "0bbb534a",
   "metadata": {},
   "outputs": [
    {
     "data": {
      "text/html": [
       "<div>\n",
       "<style scoped>\n",
       "    .dataframe tbody tr th:only-of-type {\n",
       "        vertical-align: middle;\n",
       "    }\n",
       "\n",
       "    .dataframe tbody tr th {\n",
       "        vertical-align: top;\n",
       "    }\n",
       "\n",
       "    .dataframe thead th {\n",
       "        text-align: right;\n",
       "    }\n",
       "</style>\n",
       "<table border=\"1\" class=\"dataframe\">\n",
       "  <thead>\n",
       "    <tr style=\"text-align: right;\">\n",
       "      <th>is_canceled</th>\n",
       "      <th>0</th>\n",
       "      <th>1</th>\n",
       "      <th>All</th>\n",
       "      <th>cancel_percent</th>\n",
       "    </tr>\n",
       "    <tr>\n",
       "      <th>is_repeated_guest</th>\n",
       "      <th></th>\n",
       "      <th></th>\n",
       "      <th></th>\n",
       "      <th></th>\n",
       "    </tr>\n",
       "  </thead>\n",
       "  <tbody>\n",
       "    <tr>\n",
       "      <th>0</th>\n",
       "      <td>60201</td>\n",
       "      <td>23760</td>\n",
       "      <td>83961</td>\n",
       "      <td>28.298853</td>\n",
       "    </tr>\n",
       "    <tr>\n",
       "      <th>1</th>\n",
       "      <td>3154</td>\n",
       "      <td>261</td>\n",
       "      <td>3415</td>\n",
       "      <td>7.642753</td>\n",
       "    </tr>\n",
       "    <tr>\n",
       "      <th>All</th>\n",
       "      <td>63355</td>\n",
       "      <td>24021</td>\n",
       "      <td>87376</td>\n",
       "      <td>27.491531</td>\n",
       "    </tr>\n",
       "  </tbody>\n",
       "</table>\n",
       "</div>"
      ],
      "text/plain": [
       "is_canceled            0      1    All  cancel_percent\n",
       "is_repeated_guest                                     \n",
       "0                  60201  23760  83961       28.298853\n",
       "1                   3154    261   3415        7.642753\n",
       "All                63355  24021  87376       27.491531"
      ]
     },
     "execution_count": 82,
     "metadata": {},
     "output_type": "execute_result"
    }
   ],
   "source": [
    "tbl['cancel_percent']=tbl[1]*100/tbl['All']\n",
    "tbl\n"
   ]
  },
  {
   "cell_type": "code",
   "execution_count": 83,
   "id": "449ad231",
   "metadata": {},
   "outputs": [
    {
     "data": {
      "image/png": "[encoded data removed]",
      "text/plain": [
       "<Figure size 576x360 with 1 Axes>"
      ]
     },
     "metadata": {
      "needs_background": "light"
     },
     "output_type": "display_data"
    }
   ],
   "source": [
    "tbl.drop('All',axis=0)['cancel_percent'].plot.bar()\n",
    "plt.title('Cancel Pecentage amongst repeated(1) and non-repeated guests(0)')\n",
    "plt.show()"
   ]
  },
  {
   "cell_type": "markdown",
   "id": "c57e6a10",
   "metadata": {},
   "source": [
    "###### We see that non repeated guests have a higher rate of cancellation compared to repeated guests.¶"
   ]
  },
  {
   "cell_type": "markdown",
   "id": "43a55fff",
   "metadata": {},
   "source": [
    "###### Column: previous_cancellations"
   ]
  },
  {
   "cell_type": "code",
   "execution_count": 84,
   "id": "a2f99c3e",
   "metadata": {},
   "outputs": [
    {
     "data": {
      "image/png": "[encoded data removed]",
      "text/plain": [
       "<Figure size 576x360 with 1 Axes>"
      ]
     },
     "metadata": {
      "needs_background": "light"
     },
     "output_type": "display_data"
    }
   ],
   "source": [
    "sns.distplot(df.previous_cancellations)\n",
    "plt.show()"
   ]
  },
  {
   "cell_type": "markdown",
   "id": "38b72cb0",
   "metadata": {},
   "source": [
    "###### We see that most of the customers do not have any previous cancellations. This could also be because most of the customers are non-repeated guests. We also observe records where with a higher number of previous cancellations."
   ]
  },
  {
   "cell_type": "code",
   "execution_count": 85,
   "id": "05db93ab",
   "metadata": {},
   "outputs": [
    {
     "data": {
      "image/png": "[encoded data removed]",
      "text/plain": [
       "<Figure size 576x360 with 1 Axes>"
      ]
     },
     "metadata": {
      "needs_background": "light"
     },
     "output_type": "display_data"
    }
   ],
   "source": [
    "df.loc[df.previous_cancellations>0]['distribution_channel'].value_counts().plot.bar()\n",
    "plt.title('distribution channel wise previous cancellations')\n",
    "plt.xticks(rotation=True)\n",
    "plt.show()"
   ]
  },
  {
   "cell_type": "markdown",
   "id": "7debbf90",
   "metadata": {},
   "source": [
    "###### We see that the highest number of previous cancellations are from travel agents and tour operators. This indicates that travel agents and tour operators have a habit of bulk booking and reserving the rooms before approaching travellers."
   ]
  },
  {
   "cell_type": "markdown",
   "id": "91bd445b",
   "metadata": {},
   "source": [
    "###### Column: previous_bookings_not_cancelled"
   ]
  },
  {
   "cell_type": "code",
   "execution_count": 86,
   "id": "f2a97120",
   "metadata": {},
   "outputs": [
    {
     "data": {
      "image/png": "[encoded data removed]",
      "text/plain": [
       "<Figure size 576x360 with 1 Axes>"
      ]
     },
     "metadata": {
      "needs_background": "light"
     },
     "output_type": "display_data"
    }
   ],
   "source": [
    "sns.distplot(df.previous_bookings_not_canceled)\n",
    "plt.show()"
   ]
  },
  {
   "cell_type": "markdown",
   "id": "e515d77d",
   "metadata": {},
   "source": [
    "###### From the above density plot we see that most of the bookings are of customers with 0 previous cancellations. There records indicating higher numbers. We would explore them furthe"
   ]
  },
  {
   "cell_type": "code",
   "execution_count": 87,
   "id": "1bee28e0",
   "metadata": {},
   "outputs": [
    {
     "data": {
      "image/png": "[encoded data removed]",
      "text/plain": [
       "<Figure size 576x360 with 1 Axes>"
      ]
     },
     "metadata": {
      "needs_background": "light"
     },
     "output_type": "display_data"
    }
   ],
   "source": [
    "\n",
    "df.loc[df.previous_bookings_not_canceled>10]['distribution_channel'].value_counts().plot.bar()\n",
    "plt.show()"
   ]
  },
  {
   "cell_type": "markdown",
   "id": "e922231b",
   "metadata": {},
   "source": [
    "###### We see that amongst the booking with higher number non-cancelled previous bookings most of them are from the corporate sector. It seems that the hotel reserves bookings under the corporate name but considers the individuals representing these corporates as seperate guests when considering they are repeated guests or not. Hence we see some corporate records with non-repeated guests but a a large number of non-cancelled previous bookings"
   ]
  },
  {
   "cell_type": "markdown",
   "id": "a5550394",
   "metadata": {},
   "source": [
    "###### column:REserved room type"
   ]
  },
  {
   "cell_type": "code",
   "execution_count": 88,
   "id": "9bb79684",
   "metadata": {},
   "outputs": [
    {
     "data": {
      "image/png": "[encoded data removed]",
      "text/plain": [
       "<Figure size 576x360 with 1 Axes>"
      ]
     },
     "metadata": {
      "needs_background": "light"
     },
     "output_type": "display_data"
    }
   ],
   "source": [
    "sns.countplot(x='reserved_room_type',data=df)\n",
    "plt.show()"
   ]
  },
  {
   "cell_type": "markdown",
   "id": "568d235c",
   "metadata": {},
   "source": [
    "###### We see that hotel room of type A seems to be the most commonly booked room type. This room could be the most economical room type available at the hotels. We also see that there are very few records of room type L and P. These rooms could be luxury rooms and luxury suites."
   ]
  },
  {
   "cell_type": "code",
   "execution_count": 89,
   "id": "88448620",
   "metadata": {},
   "outputs": [
    {
     "data": {
      "text/html": [
       "<div>\n",
       "<style scoped>\n",
       "    .dataframe tbody tr th:only-of-type {\n",
       "        vertical-align: middle;\n",
       "    }\n",
       "\n",
       "    .dataframe tbody tr th {\n",
       "        vertical-align: top;\n",
       "    }\n",
       "\n",
       "    .dataframe thead th {\n",
       "        text-align: right;\n",
       "    }\n",
       "</style>\n",
       "<table border=\"1\" class=\"dataframe\">\n",
       "  <thead>\n",
       "    <tr style=\"text-align: right;\">\n",
       "      <th>is_canceled</th>\n",
       "      <th>0</th>\n",
       "      <th>1</th>\n",
       "      <th>All</th>\n",
       "    </tr>\n",
       "    <tr>\n",
       "      <th>reserved_room_type</th>\n",
       "      <th></th>\n",
       "      <th></th>\n",
       "      <th></th>\n",
       "    </tr>\n",
       "  </thead>\n",
       "  <tbody>\n",
       "    <tr>\n",
       "      <th>A</th>\n",
       "      <td>41850</td>\n",
       "      <td>14684</td>\n",
       "      <td>56534</td>\n",
       "    </tr>\n",
       "    <tr>\n",
       "      <th>B</th>\n",
       "      <td>681</td>\n",
       "      <td>318</td>\n",
       "      <td>999</td>\n",
       "    </tr>\n",
       "    <tr>\n",
       "      <th>C</th>\n",
       "      <td>619</td>\n",
       "      <td>296</td>\n",
       "      <td>915</td>\n",
       "    </tr>\n",
       "    <tr>\n",
       "      <th>D</th>\n",
       "      <td>12162</td>\n",
       "      <td>5236</td>\n",
       "      <td>17398</td>\n",
       "    </tr>\n",
       "    <tr>\n",
       "      <th>E</th>\n",
       "      <td>4399</td>\n",
       "      <td>1648</td>\n",
       "      <td>6047</td>\n",
       "    </tr>\n",
       "    <tr>\n",
       "      <th>F</th>\n",
       "      <td>1972</td>\n",
       "      <td>851</td>\n",
       "      <td>2823</td>\n",
       "    </tr>\n",
       "    <tr>\n",
       "      <th>G</th>\n",
       "      <td>1315</td>\n",
       "      <td>737</td>\n",
       "      <td>2052</td>\n",
       "    </tr>\n",
       "    <tr>\n",
       "      <th>H</th>\n",
       "      <td>353</td>\n",
       "      <td>243</td>\n",
       "      <td>596</td>\n",
       "    </tr>\n",
       "    <tr>\n",
       "      <th>L</th>\n",
       "      <td>4</td>\n",
       "      <td>2</td>\n",
       "      <td>6</td>\n",
       "    </tr>\n",
       "    <tr>\n",
       "      <th>P</th>\n",
       "      <td>0</td>\n",
       "      <td>6</td>\n",
       "      <td>6</td>\n",
       "    </tr>\n",
       "    <tr>\n",
       "      <th>All</th>\n",
       "      <td>63355</td>\n",
       "      <td>24021</td>\n",
       "      <td>87376</td>\n",
       "    </tr>\n",
       "  </tbody>\n",
       "</table>\n",
       "</div>"
      ],
      "text/plain": [
       "is_canceled             0      1    All\n",
       "reserved_room_type                     \n",
       "A                   41850  14684  56534\n",
       "B                     681    318    999\n",
       "C                     619    296    915\n",
       "D                   12162   5236  17398\n",
       "E                    4399   1648   6047\n",
       "F                    1972    851   2823\n",
       "G                    1315    737   2052\n",
       "H                     353    243    596\n",
       "L                       4      2      6\n",
       "P                       0      6      6\n",
       "All                 63355  24021  87376"
      ]
     },
     "execution_count": 89,
     "metadata": {},
     "output_type": "execute_result"
    }
   ],
   "source": [
    "tbl=pd.crosstab(df.reserved_room_type,df.is_canceled,margins=True)\n",
    "tbl"
   ]
  },
  {
   "cell_type": "code",
   "execution_count": 90,
   "id": "7eaef533",
   "metadata": {},
   "outputs": [
    {
     "data": {
      "image/png": "[encoded data removed]",
      "text/plain": [
       "<Figure size 576x360 with 1 Axes>"
      ]
     },
     "metadata": {
      "needs_background": "light"
     },
     "output_type": "display_data"
    }
   ],
   "source": [
    "tbl['cancel_percent']=tbl[1]*100/tbl['All']\n",
    "tbl.drop('All',axis=0)['cancel_percent'].plot.bar()\n",
    "plt.show()"
   ]
  },
  {
   "cell_type": "markdown",
   "id": "51305e4f",
   "metadata": {},
   "source": [
    "###### We see that room type P has the highest cancellation rate. But P and L have 12 records together. Among Others H seems to be having the highest cancellation percentage. We also draw a similar inference from assigned room type"
   ]
  },
  {
   "cell_type": "code",
   "execution_count": 91,
   "id": "fae50d3b",
   "metadata": {},
   "outputs": [
    {
     "data": {
      "text/plain": [
       "(13105, 31)"
      ]
     },
     "execution_count": 91,
     "metadata": {},
     "output_type": "execute_result"
    }
   ],
   "source": [
    "# Number of records where assigned room type was not same as reserved room type\n",
    "df.loc[df.reserved_room_type!=df.assigned_room_type].shape"
   ]
  },
  {
   "cell_type": "markdown",
   "id": "84bb55db",
   "metadata": {},
   "source": [
    "###### We see that there are 13,106 bookings where the customers were not able to get their reserved room type This indicates the presence of overbooking in the case of these hotels"
   ]
  },
  {
   "cell_type": "markdown",
   "id": "92fc7042",
   "metadata": {},
   "source": [
    "###### column:Booking changes"
   ]
  },
  {
   "cell_type": "code",
   "execution_count": 92,
   "id": "9a38eef1",
   "metadata": {},
   "outputs": [
    {
     "data": {
      "image/png": "[encoded data removed]",
      "text/plain": [
       "<Figure size 576x360 with 1 Axes>"
      ]
     },
     "metadata": {
      "needs_background": "light"
     },
     "output_type": "display_data"
    }
   ],
   "source": [
    "sns.countplot(x='booking_changes',data=df)\n",
    "plt.show()"
   ]
  },
  {
   "cell_type": "markdown",
   "id": "3d746d1e",
   "metadata": {},
   "source": [
    "###### We see that most records do not make any kind of booking changes to their reservations. There are records with a high number of booking changes."
   ]
  },
  {
   "cell_type": "code",
   "execution_count": 93,
   "id": "f7aca007",
   "metadata": {},
   "outputs": [
    {
     "data": {
      "image/png": "[encoded data removed]",
      "text/plain": [
       "<Figure size 576x360 with 1 Axes>"
      ]
     },
     "metadata": {
      "needs_background": "light"
     },
     "output_type": "display_data"
    }
   ],
   "source": [
    "sns.boxplot(x='is_canceled',y='booking_changes',data=df)\n",
    "plt.show()"
   ]
  },
  {
   "cell_type": "markdown",
   "id": "df3d140a",
   "metadata": {},
   "source": [
    "###### we se taht non-cancelled booking have a higher number of booking changes"
   ]
  },
  {
   "cell_type": "code",
   "execution_count": 94,
   "id": "465fc7f9",
   "metadata": {},
   "outputs": [
    {
     "data": {
      "image/png": "[encoded data removed]",
      "text/plain": [
       "<Figure size 576x360 with 1 Axes>"
      ]
     },
     "metadata": {
      "needs_background": "light"
     },
     "output_type": "display_data"
    }
   ],
   "source": [
    "sns.countplot(x='deposit_type',data=df)\n",
    "plt.show()"
   ]
  },
  {
   "cell_type": "markdown",
   "id": "6be5f323",
   "metadata": {},
   "source": [
    "###### We see that most of the bookings have been made with no deposits, with very few bookings made refundable and non-refundable"
   ]
  },
  {
   "cell_type": "code",
   "execution_count": 95,
   "id": "e63882a2",
   "metadata": {},
   "outputs": [
    {
     "data": {
      "text/html": [
       "<div>\n",
       "<style scoped>\n",
       "    .dataframe tbody tr th:only-of-type {\n",
       "        vertical-align: middle;\n",
       "    }\n",
       "\n",
       "    .dataframe tbody tr th {\n",
       "        vertical-align: top;\n",
       "    }\n",
       "\n",
       "    .dataframe thead th {\n",
       "        text-align: right;\n",
       "    }\n",
       "</style>\n",
       "<table border=\"1\" class=\"dataframe\">\n",
       "  <thead>\n",
       "    <tr style=\"text-align: right;\">\n",
       "      <th>is_canceled</th>\n",
       "      <th>0</th>\n",
       "      <th>1</th>\n",
       "      <th>All</th>\n",
       "    </tr>\n",
       "    <tr>\n",
       "      <th>deposit_type</th>\n",
       "      <th></th>\n",
       "      <th></th>\n",
       "      <th></th>\n",
       "    </tr>\n",
       "  </thead>\n",
       "  <tbody>\n",
       "    <tr>\n",
       "      <th>No Deposit</th>\n",
       "      <td>63219</td>\n",
       "      <td>23012</td>\n",
       "      <td>86231</td>\n",
       "    </tr>\n",
       "    <tr>\n",
       "      <th>Non Refund</th>\n",
       "      <td>55</td>\n",
       "      <td>983</td>\n",
       "      <td>1038</td>\n",
       "    </tr>\n",
       "    <tr>\n",
       "      <th>Refundable</th>\n",
       "      <td>81</td>\n",
       "      <td>26</td>\n",
       "      <td>107</td>\n",
       "    </tr>\n",
       "    <tr>\n",
       "      <th>All</th>\n",
       "      <td>63355</td>\n",
       "      <td>24021</td>\n",
       "      <td>87376</td>\n",
       "    </tr>\n",
       "  </tbody>\n",
       "</table>\n",
       "</div>"
      ],
      "text/plain": [
       "is_canceled       0      1    All\n",
       "deposit_type                     \n",
       "No Deposit    63219  23012  86231\n",
       "Non Refund       55    983   1038\n",
       "Refundable       81     26    107\n",
       "All           63355  24021  87376"
      ]
     },
     "execution_count": 95,
     "metadata": {},
     "output_type": "execute_result"
    }
   ],
   "source": [
    "tbl=pd.crosstab(df.deposit_type,df.is_canceled,margins=True)\n",
    "tbl"
   ]
  },
  {
   "cell_type": "code",
   "execution_count": 96,
   "id": "792d4038",
   "metadata": {},
   "outputs": [
    {
     "data": {
      "image/png": "[encoded data removed]",
      "text/plain": [
       "<Figure size 576x360 with 1 Axes>"
      ]
     },
     "metadata": {
      "needs_background": "light"
     },
     "output_type": "display_data"
    }
   ],
   "source": [
    "tbl['cancel_percent']=tbl[1]*100/tbl['All']\n",
    "tbl.drop('All',axis=0)['cancel_percent'].plot.bar()\n",
    "plt.xticks(rotation=60,ha='right')\n",
    "plt.title('Cancellation percentage across deposit types')\n",
    "plt.show()\n"
   ]
  },
  {
   "cell_type": "markdown",
   "id": "2226dffa",
   "metadata": {},
   "source": [
    "###### From the above analysis of the column we infer that, absurdly there is a huge percentage of cancellations in bookings done on non-refundable deposit types.\n",
    "To investigate, Exploring Cancellation Drivers to Gain Insights Into Booking Cancellation Behavior.\n",
    "1: We found out that when analysing the deposit type columns with the country of origins, a trend could be found. Most of these records of Asiatic and African countries where Non-refundable deposit type was mentioned happened to be done through OTA using false or invalid credit card details. These bookings are issued as support for requests for visas to enter the country (a hotel booking is mandatory for applying for a Portuguese entry visa).\n",
    "To quote from the paper itself: \"As an example, through analysis of the “Nonrefundable” (DepositType) canceled bookings in some Asiatic countries (Country) and from certain distribution channels (DistributionChannel and Agent), it is possible to understand why so many “Nonrefundable” bookings are canceled. These bookings are usually made through OTA using false or invalid credit card details. These bookings are issued as support for requests for visas to enter the country (a hotel booking is mandatory for applying for a Portuguese entry visa).After failing to charge the customer’s credit card, the hotel identifies these bookings as “fake” and contacts the customer; however, during the time required to verify these bookings, they contribute negatively to demand forecast and demand-management decisions.\""
   ]
  },
  {
   "cell_type": "markdown",
   "id": "de27e165",
   "metadata": {},
   "source": [
    "###### column :Agent"
   ]
  },
  {
   "cell_type": "code",
   "execution_count": 97,
   "id": "2516c8b6",
   "metadata": {},
   "outputs": [
    {
     "data": {
      "text/plain": [
       "Agent       75187\n",
       "no agent    12189\n",
       "Name: agent, dtype: int64"
      ]
     },
     "execution_count": 97,
     "metadata": {},
     "output_type": "execute_result"
    }
   ],
   "source": [
    "df.agent.value_counts()\n"
   ]
  },
  {
   "cell_type": "code",
   "execution_count": 98,
   "id": "4a7c29e2",
   "metadata": {},
   "outputs": [
    {
     "data": {
      "image/png": "[encoded data removed]",
      "text/plain": [
       "<Figure size 576x360 with 1 Axes>"
      ]
     },
     "metadata": {},
     "output_type": "display_data"
    }
   ],
   "source": [
    "plt.pie(x=df.agent.value_counts().values,labels=df.agent.value_counts().index,explode=[0,0.2],autopct='%.2f%%')\n",
    "plt.title('distribution of the presence of the therid party agents')\n",
    "plt.show()"
   ]
  },
  {
   "cell_type": "markdown",
   "id": "826d74ad",
   "metadata": {},
   "source": [
    "###### We see that 86% bookings were done through third party agents while only 13% bookings were done through other sources. This is quite obvious with the strong presence of tour operators and travel agents, indicated by the distribution of market_segment and distribution channel columns"
   ]
  },
  {
   "cell_type": "code",
   "execution_count": 99,
   "id": "5d61e653",
   "metadata": {},
   "outputs": [
    {
     "data": {
      "text/html": [
       "<div>\n",
       "<style scoped>\n",
       "    .dataframe tbody tr th:only-of-type {\n",
       "        vertical-align: middle;\n",
       "    }\n",
       "\n",
       "    .dataframe tbody tr th {\n",
       "        vertical-align: top;\n",
       "    }\n",
       "\n",
       "    .dataframe thead th {\n",
       "        text-align: right;\n",
       "    }\n",
       "</style>\n",
       "<table border=\"1\" class=\"dataframe\">\n",
       "  <thead>\n",
       "    <tr style=\"text-align: right;\">\n",
       "      <th>is_canceled</th>\n",
       "      <th>0</th>\n",
       "      <th>1</th>\n",
       "      <th>All</th>\n",
       "    </tr>\n",
       "    <tr>\n",
       "      <th>agent</th>\n",
       "      <th></th>\n",
       "      <th></th>\n",
       "      <th></th>\n",
       "    </tr>\n",
       "  </thead>\n",
       "  <tbody>\n",
       "    <tr>\n",
       "      <th>Agent</th>\n",
       "      <td>52723</td>\n",
       "      <td>22464</td>\n",
       "      <td>75187</td>\n",
       "    </tr>\n",
       "    <tr>\n",
       "      <th>no agent</th>\n",
       "      <td>10632</td>\n",
       "      <td>1557</td>\n",
       "      <td>12189</td>\n",
       "    </tr>\n",
       "    <tr>\n",
       "      <th>All</th>\n",
       "      <td>63355</td>\n",
       "      <td>24021</td>\n",
       "      <td>87376</td>\n",
       "    </tr>\n",
       "  </tbody>\n",
       "</table>\n",
       "</div>"
      ],
      "text/plain": [
       "is_canceled      0      1    All\n",
       "agent                           \n",
       "Agent        52723  22464  75187\n",
       "no agent     10632   1557  12189\n",
       "All          63355  24021  87376"
      ]
     },
     "execution_count": 99,
     "metadata": {},
     "output_type": "execute_result"
    }
   ],
   "source": [
    "tbl=pd.crosstab(df.agent,df.is_canceled,margins=True)\n",
    "tbl"
   ]
  },
  {
   "cell_type": "code",
   "execution_count": 100,
   "id": "264765d5",
   "metadata": {},
   "outputs": [
    {
     "data": {
      "text/html": [
       "<div>\n",
       "<style scoped>\n",
       "    .dataframe tbody tr th:only-of-type {\n",
       "        vertical-align: middle;\n",
       "    }\n",
       "\n",
       "    .dataframe tbody tr th {\n",
       "        vertical-align: top;\n",
       "    }\n",
       "\n",
       "    .dataframe thead th {\n",
       "        text-align: right;\n",
       "    }\n",
       "</style>\n",
       "<table border=\"1\" class=\"dataframe\">\n",
       "  <thead>\n",
       "    <tr style=\"text-align: right;\">\n",
       "      <th>is_canceled</th>\n",
       "      <th>0</th>\n",
       "      <th>1</th>\n",
       "      <th>All</th>\n",
       "      <th>cancel_percent</th>\n",
       "    </tr>\n",
       "    <tr>\n",
       "      <th>agent</th>\n",
       "      <th></th>\n",
       "      <th></th>\n",
       "      <th></th>\n",
       "      <th></th>\n",
       "    </tr>\n",
       "  </thead>\n",
       "  <tbody>\n",
       "    <tr>\n",
       "      <th>Agent</th>\n",
       "      <td>52723</td>\n",
       "      <td>22464</td>\n",
       "      <td>75187</td>\n",
       "      <td>29.877505</td>\n",
       "    </tr>\n",
       "    <tr>\n",
       "      <th>no agent</th>\n",
       "      <td>10632</td>\n",
       "      <td>1557</td>\n",
       "      <td>12189</td>\n",
       "      <td>12.773812</td>\n",
       "    </tr>\n",
       "    <tr>\n",
       "      <th>All</th>\n",
       "      <td>63355</td>\n",
       "      <td>24021</td>\n",
       "      <td>87376</td>\n",
       "      <td>27.491531</td>\n",
       "    </tr>\n",
       "  </tbody>\n",
       "</table>\n",
       "</div>"
      ],
      "text/plain": [
       "is_canceled      0      1    All  cancel_percent\n",
       "agent                                           \n",
       "Agent        52723  22464  75187       29.877505\n",
       "no agent     10632   1557  12189       12.773812\n",
       "All          63355  24021  87376       27.491531"
      ]
     },
     "execution_count": 100,
     "metadata": {},
     "output_type": "execute_result"
    }
   ],
   "source": [
    "tbl['cancel_percent']=tbl[1]*100/tbl['All']\n",
    "tbl"
   ]
  },
  {
   "cell_type": "code",
   "execution_count": 101,
   "id": "95164027",
   "metadata": {},
   "outputs": [
    {
     "data": {
      "image/png": "[encoded data removed]",
      "text/plain": [
       "<Figure size 576x360 with 1 Axes>"
      ]
     },
     "metadata": {
      "needs_background": "light"
     },
     "output_type": "display_data"
    }
   ],
   "source": [
    "tbl.drop('All',axis=0)['cancel_percent'].plot.bar()\n",
    "plt.xticks(rotation=60,ha='right')\n",
    "plt.show()"
   ]
  },
  {
   "cell_type": "markdown",
   "id": "3888eb28",
   "metadata": {},
   "source": [
    "###### We see that the cancellation percentage is considerable higher in bookings made through third party agents compared to direct bookings"
   ]
  },
  {
   "cell_type": "markdown",
   "id": "555e9b06",
   "metadata": {},
   "source": [
    "###### Column: customer_type"
   ]
  },
  {
   "cell_type": "code",
   "execution_count": 102,
   "id": "713bdc82",
   "metadata": {},
   "outputs": [
    {
     "data": {
      "image/png": "[encoded data removed]",
      "text/plain": [
       "<Figure size 576x360 with 1 Axes>"
      ]
     },
     "metadata": {
      "needs_background": "light"
     },
     "output_type": "display_data"
    }
   ],
   "source": [
    "sns.countplot(x='customer_type',data=df)\n",
    "plt.show()"
   ]
  },
  {
   "cell_type": "markdown",
   "id": "6a1111e4",
   "metadata": {},
   "source": [
    "###### We see that most number of bookings are from transient customers, meaning they are staying for less than 30 consecutive days"
   ]
  },
  {
   "cell_type": "markdown",
   "id": "054d66fa",
   "metadata": {},
   "source": [
    "column:adr(Average daily rate)"
   ]
  },
  {
   "cell_type": "code",
   "execution_count": 103,
   "id": "533dc066",
   "metadata": {},
   "outputs": [
    {
     "data": {
      "text/plain": [
       "<AxesSubplot:xlabel='adr', ylabel='Density'>"
      ]
     },
     "execution_count": 103,
     "metadata": {},
     "output_type": "execute_result"
    },
    {
     "data": {
      "image/png": "[encoded data removed]",
      "text/plain": [
       "<Figure size 576x360 with 1 Axes>"
      ]
     },
     "metadata": {
      "needs_background": "light"
     },
     "output_type": "display_data"
    }
   ],
   "source": [
    "sns.distplot(df.adr)"
   ]
  },
  {
   "cell_type": "code",
   "execution_count": 104,
   "id": "35b69254",
   "metadata": {},
   "outputs": [
    {
     "data": {
      "image/png": "[encoded data removed]",
      "text/plain": [
       "<Figure size 576x360 with 1 Axes>"
      ]
     },
     "metadata": {
      "needs_background": "light"
     },
     "output_type": "display_data"
    }
   ],
   "source": [
    "sns.violinplot(x='is_canceled',y='adr',data=df)\n",
    "plt.show()"
   ]
  },
  {
   "cell_type": "markdown",
   "id": "1d4688ef",
   "metadata": {},
   "source": [
    "###### We notice that there are similar trends in cancelled and non-cancelled bookings, with the max adr being registered in cancelled bookings"
   ]
  },
  {
   "cell_type": "markdown",
   "id": "b11b3a9e",
   "metadata": {},
   "source": [
    "###### Column: required Car parking spaces"
   ]
  },
  {
   "cell_type": "code",
   "execution_count": 105,
   "id": "24b0dba7",
   "metadata": {},
   "outputs": [
    {
     "data": {
      "image/png": "[encoded data removed]",
      "text/plain": [
       "<Figure size 576x360 with 1 Axes>"
      ]
     },
     "metadata": {
      "needs_background": "light"
     },
     "output_type": "display_data"
    }
   ],
   "source": [
    "sns.distplot(df.required_car_parking_spaces)\n",
    "plt.show()"
   ]
  },
  {
   "cell_type": "markdown",
   "id": "641a8b5f",
   "metadata": {},
   "source": [
    "###### we notice that most of the records require no or amost 1 car parking spaces, though there are records that show more number of parking spaces. this could be families travelling togehter and larger business and larger business trips."
   ]
  },
  {
   "cell_type": "code",
   "execution_count": 106,
   "id": "d6af5300",
   "metadata": {},
   "outputs": [
    {
     "data": {
      "image/png": "[encoded data removed]",
      "text/plain": [
       "<Figure size 576x360 with 1 Axes>"
      ]
     },
     "metadata": {
      "needs_background": "light"
     },
     "output_type": "display_data"
    }
   ],
   "source": [
    "sns.boxplot(x='is_canceled',y='required_car_parking_spaces',data=df)\n",
    "plt.show()"
   ]
  },
  {
   "cell_type": "markdown",
   "id": "8c54b4d4",
   "metadata": {},
   "source": [
    "###### Column: Total of special requests"
   ]
  },
  {
   "cell_type": "code",
   "execution_count": 107,
   "id": "1954a158",
   "metadata": {},
   "outputs": [
    {
     "data": {
      "image/png": "[encoded data removed]",
      "text/plain": [
       "<Figure size 576x360 with 1 Axes>"
      ]
     },
     "metadata": {
      "needs_background": "light"
     },
     "output_type": "display_data"
    }
   ],
   "source": [
    "sns.countplot(x='total_of_special_requests',data=df)\n",
    "plt.show()"
   ]
  },
  {
   "cell_type": "markdown",
   "id": "6eddec02",
   "metadata": {},
   "source": [
    "###### We see that most number of people do not make any kind of special requests for their bookings. Usually, if any special requests are made, they are limited to 1 or 2 special requests. There are records though which show the number of special requests being as 4 or 5"
   ]
  },
  {
   "cell_type": "code",
   "execution_count": 108,
   "id": "60e185e0",
   "metadata": {},
   "outputs": [
    {
     "data": {
      "text/html": [
       "<div>\n",
       "<style scoped>\n",
       "    .dataframe tbody tr th:only-of-type {\n",
       "        vertical-align: middle;\n",
       "    }\n",
       "\n",
       "    .dataframe tbody tr th {\n",
       "        vertical-align: top;\n",
       "    }\n",
       "\n",
       "    .dataframe thead th {\n",
       "        text-align: right;\n",
       "    }\n",
       "</style>\n",
       "<table border=\"1\" class=\"dataframe\">\n",
       "  <thead>\n",
       "    <tr style=\"text-align: right;\">\n",
       "      <th>is_canceled</th>\n",
       "      <th>0</th>\n",
       "      <th>1</th>\n",
       "      <th>All</th>\n",
       "    </tr>\n",
       "    <tr>\n",
       "      <th>total_of_special_requests</th>\n",
       "      <th></th>\n",
       "      <th></th>\n",
       "      <th></th>\n",
       "    </tr>\n",
       "  </thead>\n",
       "  <tbody>\n",
       "    <tr>\n",
       "      <th>0</th>\n",
       "      <td>29310</td>\n",
       "      <td>14571</td>\n",
       "      <td>43881</td>\n",
       "    </tr>\n",
       "    <tr>\n",
       "      <th>1</th>\n",
       "      <td>22509</td>\n",
       "      <td>6502</td>\n",
       "      <td>29011</td>\n",
       "    </tr>\n",
       "    <tr>\n",
       "      <th>2</th>\n",
       "      <td>9296</td>\n",
       "      <td>2515</td>\n",
       "      <td>11811</td>\n",
       "    </tr>\n",
       "    <tr>\n",
       "      <th>3</th>\n",
       "      <td>1920</td>\n",
       "      <td>397</td>\n",
       "      <td>2317</td>\n",
       "    </tr>\n",
       "    <tr>\n",
       "      <th>4</th>\n",
       "      <td>286</td>\n",
       "      <td>34</td>\n",
       "      <td>320</td>\n",
       "    </tr>\n",
       "    <tr>\n",
       "      <th>5</th>\n",
       "      <td>34</td>\n",
       "      <td>2</td>\n",
       "      <td>36</td>\n",
       "    </tr>\n",
       "    <tr>\n",
       "      <th>All</th>\n",
       "      <td>63355</td>\n",
       "      <td>24021</td>\n",
       "      <td>87376</td>\n",
       "    </tr>\n",
       "  </tbody>\n",
       "</table>\n",
       "</div>"
      ],
      "text/plain": [
       "is_canceled                    0      1    All\n",
       "total_of_special_requests                     \n",
       "0                          29310  14571  43881\n",
       "1                          22509   6502  29011\n",
       "2                           9296   2515  11811\n",
       "3                           1920    397   2317\n",
       "4                            286     34    320\n",
       "5                             34      2     36\n",
       "All                        63355  24021  87376"
      ]
     },
     "execution_count": 108,
     "metadata": {},
     "output_type": "execute_result"
    }
   ],
   "source": [
    "tbl=pd.crosstab(df.total_of_special_requests,df.is_canceled,margins=True)\n",
    "tbl"
   ]
  },
  {
   "cell_type": "code",
   "execution_count": 109,
   "id": "ed085604",
   "metadata": {},
   "outputs": [
    {
     "data": {
      "image/png": "[encoded data removed]",
      "text/plain": [
       "<Figure size 576x360 with 1 Axes>"
      ]
     },
     "metadata": {
      "needs_background": "light"
     },
     "output_type": "display_data"
    }
   ],
   "source": [
    "tbl['cancel_percent']=tbl[1]*100/tbl['All']\n",
    "tbl.drop('All',axis=0)['cancel_percent'].plot.bar()\n",
    "plt.xticks(rotation=0)\n",
    "plt.show()"
   ]
  },
  {
   "cell_type": "markdown",
   "id": "de8ebae3",
   "metadata": {},
   "source": [
    "###### From above we see that the more number of special requests a customer makes less likely he is to cancel his booking"
   ]
  },
  {
   "cell_type": "markdown",
   "id": "e3bb6f05",
   "metadata": {},
   "source": [
    "## Conclusion From the Exploratory Data Analysis"
   ]
  },
  {
   "cell_type": "markdown",
   "id": "f0b7ffeb",
   "metadata": {},
   "source": [
    "###### We saw that there was 23% cancellation rate in Resort hotel vs around 30% cancellation rate across City Hotel. This could indicate the presence of overbooking in City Hotel. Management insights need to be taken to identify the cause and steps need to be taken accordingly.\n"
   ]
  },
  {
   "cell_type": "markdown",
   "id": "28778a31",
   "metadata": {},
   "source": [
    "\n",
    "We observed that bookings with higher estimated lead time, on average, have a higher chance of cancellation. Steps to be extra vigilant towards longer leadt time bookings need to be taken .\n",
    "\n",
    "We observed that the cancellation rates have consistently increased with each passing year. There is clearly some kind of customer disatisfaction. Customer feedback could be taken to adress these issues.\n",
    "\n",
    "Both the hotels need to focus on the months of July and August, these 2 months have the highest number of bookings out of all months. Discounts and and offers could be given to avoid customers cancelling their bookings in these months.\n",
    "\n",
    "We see that most people order for a Bed and Breakfast meal package. Very few people go for a full board meal package. This could indicate the presence of popular restaurents around the hotels. A large number of people have ordered a no meal package as well.\n",
    "\n",
    "Most of the bookings seem to be from European countries. We could focus more on these to reduce the number of cancellations.\n",
    "\n",
    "We observed that most of the bookings are made through Online Travel Agents. Contacting said travel agents and setting up contracts between the hotel and these agents could be a very profitable move.\n",
    "\n",
    "We also need to dwelve into reasons to check why there are so few repeated guests in the hotels.\n",
    "\n",
    "We see that the cancellation percentage of a non-repeated guests is considerably higher compared to a repeated guest. This could indicate a lowern customer statisfaction. Customer feedback is again the best option here.\n",
    "\n",
    "More vigilant inspections should be made towards non-refundable deposit types, becaue of the false details given to them for entry visas.\n",
    "\n",
    "Transient bookings seem to be the most frequent in number.\n",
    "\n",
    "We see that non-cancelled bookings required more number of car parking spaces compared to cancelled bookings."
   ]
  },
  {
   "cell_type": "markdown",
   "id": "cea065fb",
   "metadata": {},
   "source": [
    "# Statistical Tests"
   ]
  },
  {
   "cell_type": "markdown",
   "id": "2d67462b",
   "metadata": {},
   "source": [
    "###### We will be doing some statistical tests to confirm or disregard some of our assumptions about the data. The significance level for all the test would be taken as 0.05"
   ]
  },
  {
   "cell_type": "markdown",
   "id": "6920e8d7",
   "metadata": {},
   "source": [
    "##### Column Hotel"
   ]
  },
  {
   "cell_type": "markdown",
   "id": "e51ff344",
   "metadata": {},
   "source": [
    "###### Column: hotel\n",
    "Null Hypothesis: The cancellation rate across both types of hotels is equal.\n",
    "\n",
    "Alternate Hypothesis: The cancellation rate across both types of hotels is unequal"
   ]
  },
  {
   "cell_type": "code",
   "execution_count": 117,
   "id": "8e4f51b4",
   "metadata": {},
   "outputs": [
    {
     "data": {
      "text/html": [
       "<div>\n",
       "<style scoped>\n",
       "    .dataframe tbody tr th:only-of-type {\n",
       "        vertical-align: middle;\n",
       "    }\n",
       "\n",
       "    .dataframe tbody tr th {\n",
       "        vertical-align: top;\n",
       "    }\n",
       "\n",
       "    .dataframe thead th {\n",
       "        text-align: right;\n",
       "    }\n",
       "</style>\n",
       "<table border=\"1\" class=\"dataframe\">\n",
       "  <thead>\n",
       "    <tr style=\"text-align: right;\">\n",
       "      <th>is_canceled</th>\n",
       "      <th>0</th>\n",
       "      <th>1</th>\n",
       "    </tr>\n",
       "    <tr>\n",
       "      <th>hotel</th>\n",
       "      <th></th>\n",
       "      <th></th>\n",
       "    </tr>\n",
       "  </thead>\n",
       "  <tbody>\n",
       "    <tr>\n",
       "      <th>City Hotel</th>\n",
       "      <td>37371</td>\n",
       "      <td>16047</td>\n",
       "    </tr>\n",
       "    <tr>\n",
       "      <th>Resort Hotel</th>\n",
       "      <td>25984</td>\n",
       "      <td>7974</td>\n",
       "    </tr>\n",
       "  </tbody>\n",
       "</table>\n",
       "</div>"
      ],
      "text/plain": [
       "is_canceled       0      1\n",
       "hotel                     \n",
       "City Hotel    37371  16047\n",
       "Resort Hotel  25984   7974"
      ]
     },
     "execution_count": 117,
     "metadata": {},
     "output_type": "execute_result"
    }
   ],
   "source": [
    "# For this test we will be using chi2_contingency test\n",
    "# First we need to create the required crosstab\n",
    "tbl=pd.crosstab(df.hotel,df.is_canceled)\n",
    "tbl"
   ]
  },
  {
   "cell_type": "code",
   "execution_count": 118,
   "id": "eb6bec76",
   "metadata": {},
   "outputs": [
    {
     "name": "stdout",
     "output_type": "stream",
     "text": [
      "Pvalue of the test= 2.3421426534811967e-99\n"
     ]
    }
   ],
   "source": [
    "# Statistical test\n",
    "statistic,pvalue,dof,expected=stats.chi2_contingency(tbl)\n",
    "print('Pvalue of the test=',pvalue)"
   ]
  },
  {
   "cell_type": "markdown",
   "id": "81598ecd",
   "metadata": {},
   "source": [
    "###### We see that the pvalue for our test is extremely small compared to our significance level. Hence, we have to reject our null hypothesis. In conclusion, the rate of cancellation across both types hotels is different"
   ]
  },
  {
   "cell_type": "markdown",
   "id": "cb42fae0",
   "metadata": {},
   "source": [
    "###### Column: lead_time"
   ]
  },
  {
   "cell_type": "markdown",
   "id": "c08ce7da",
   "metadata": {},
   "source": [
    "###### Null Hypothesis: The average lead time across cancelled and non cancelled bookings is equal\n",
    "Alternate Hypothesis: The average lead time across cancelled and non cancelled bookings is unequa"
   ]
  },
  {
   "cell_type": "code",
   "execution_count": 119,
   "id": "54ab612a",
   "metadata": {},
   "outputs": [],
   "source": [
    "# For this test we would be using two sample t-test(independent)\n",
    "# For this we need to create two different samples, one for cancelled bookings and one for non-cancelled bookings\n",
    "cancelled_sample=df.loc[df.is_canceled==1,'lead_time']\n",
    "non_cancelled_sample=df.loc[df.is_canceled==0,'lead_time']"
   ]
  },
  {
   "cell_type": "code",
   "execution_count": 120,
   "id": "3fd4e7d1",
   "metadata": {},
   "outputs": [
    {
     "name": "stdout",
     "output_type": "stream",
     "text": [
      "Pvalue for our test= 0.0\n"
     ]
    }
   ],
   "source": [
    "# Statistical test\n",
    "print('Pvalue for our test=',stats.ttest_ind(cancelled_sample,non_cancelled_sample)[1])"
   ]
  },
  {
   "cell_type": "markdown",
   "id": "a80b4562",
   "metadata": {},
   "source": [
    "###### We see that the pavlue for our test is zero. Hence, we have to reject our null hypothesis. In conclusion, the lead time across both cancelled and non-cancelled bookings is different on average"
   ]
  },
  {
   "cell_type": "markdown",
   "id": "6125c8bb",
   "metadata": {},
   "source": [
    "###### Null Hypothesis: The average lead time across both types of hotels is equal\n",
    "    "
   ]
  },
  {
   "cell_type": "markdown",
   "id": "6262130f",
   "metadata": {},
   "source": [
    "###### Alternate Hypothesis: The average lead time across both types of hotels in unequal"
   ]
  },
  {
   "cell_type": "code",
   "execution_count": 121,
   "id": "b379a63f",
   "metadata": {},
   "outputs": [],
   "source": [
    "# For this test we would be using independent 2 sample ttest\n",
    "# For this we need to create two samples one for resort hotel and one for city hotel\n",
    "city_sample=df.loc[df.hotel=='City Hotel','lead_time']\n",
    "resort_sample=df.loc[df.hotel=='Resort Hotel','lead_time']"
   ]
  },
  {
   "cell_type": "code",
   "execution_count": 122,
   "id": "7f12890f",
   "metadata": {},
   "outputs": [
    {
     "name": "stdout",
     "output_type": "stream",
     "text": [
      "Pvalue for our test= 1.0623622333005708e-21\n"
     ]
    }
   ],
   "source": [
    "print('Pvalue for our test=',stats.ttest_ind(city_sample,resort_sample)[1])"
   ]
  },
  {
   "cell_type": "markdown",
   "id": "842f402f",
   "metadata": {},
   "source": [
    "###### We see that the pvalue for our test is extremely small compared to our significance level. Hence, we have to reject our null hypothesis. In conclusion, the average lead time is unequal across both types of hotels"
   ]
  },
  {
   "cell_type": "markdown",
   "id": "165de983",
   "metadata": {},
   "source": [
    "# Column: customer_type"
   ]
  },
  {
   "cell_type": "markdown",
   "id": "1192617f",
   "metadata": {},
   "source": [
    "#### Null hypothesis: The rate of cancellation is equal across all customer types\n",
    "Alternate Hypothesis: The rate of cancellation is unequal across all customer types"
   ]
  },
  {
   "cell_type": "code",
   "execution_count": 124,
   "id": "a78e3081",
   "metadata": {},
   "outputs": [
    {
     "data": {
      "text/html": [
       "<div>\n",
       "<style scoped>\n",
       "    .dataframe tbody tr th:only-of-type {\n",
       "        vertical-align: middle;\n",
       "    }\n",
       "\n",
       "    .dataframe tbody tr th {\n",
       "        vertical-align: top;\n",
       "    }\n",
       "\n",
       "    .dataframe thead th {\n",
       "        text-align: right;\n",
       "    }\n",
       "</style>\n",
       "<table border=\"1\" class=\"dataframe\">\n",
       "  <thead>\n",
       "    <tr style=\"text-align: right;\">\n",
       "      <th>is_canceled</th>\n",
       "      <th>0</th>\n",
       "      <th>1</th>\n",
       "    </tr>\n",
       "    <tr>\n",
       "      <th>customer_type</th>\n",
       "      <th></th>\n",
       "      <th></th>\n",
       "    </tr>\n",
       "  </thead>\n",
       "  <tbody>\n",
       "    <tr>\n",
       "      <th>Contract</th>\n",
       "      <td>2627</td>\n",
       "      <td>512</td>\n",
       "    </tr>\n",
       "    <tr>\n",
       "      <th>Group</th>\n",
       "      <td>490</td>\n",
       "      <td>54</td>\n",
       "    </tr>\n",
       "    <tr>\n",
       "      <th>Transient</th>\n",
       "      <td>50302</td>\n",
       "      <td>21668</td>\n",
       "    </tr>\n",
       "    <tr>\n",
       "      <th>Transient-Party</th>\n",
       "      <td>9936</td>\n",
       "      <td>1787</td>\n",
       "    </tr>\n",
       "  </tbody>\n",
       "</table>\n",
       "</div>"
      ],
      "text/plain": [
       "is_canceled          0      1\n",
       "customer_type                \n",
       "Contract          2627    512\n",
       "Group              490     54\n",
       "Transient        50302  21668\n",
       "Transient-Party   9936   1787"
      ]
     },
     "execution_count": 124,
     "metadata": {},
     "output_type": "execute_result"
    }
   ],
   "source": [
    "# For this test we would be using the chi2_contingency test\n",
    "# For this we need to makew the required crosstab\n",
    "tbl=pd.crosstab(df.customer_type,df.is_canceled)\n",
    "tbl"
   ]
  },
  {
   "cell_type": "code",
   "execution_count": 125,
   "id": "913c11f1",
   "metadata": {},
   "outputs": [
    {
     "name": "stdout",
     "output_type": "stream",
     "text": [
      "The Pvalue for the given test= 1.7526923826279267e-305\n"
     ]
    }
   ],
   "source": [
    "statistic,pvalue,dof,exp=stats.chi2_contingency(tbl)\n",
    "\n",
    "print('The Pvalue for the given test=',pvalue)"
   ]
  },
  {
   "cell_type": "markdown",
   "id": "9cdb01ca",
   "metadata": {},
   "source": [
    "###### We see that the pvalue for the given test is extremely small compared to our significance level. Thus we have to reject our null hypothesis. In conclusion, the rate of cancellation across all customer types is unequal."
   ]
  },
  {
   "cell_type": "markdown",
   "id": "afb12204",
   "metadata": {},
   "source": [
    "###### Column: adr\n",
    "Null Hypothesis: The average daily rate is equal across cancelled and non-cancelled bookings\n",
    "\n",
    "Alternate Hypothesis: The average daily rate is unequal across cancelled and non-cancelled bookings"
   ]
  },
  {
   "cell_type": "code",
   "execution_count": 127,
   "id": "8d8fe6a5",
   "metadata": {},
   "outputs": [
    {
     "name": "stdout",
     "output_type": "stream",
     "text": [
      "Pvalue for the given test is= 0.0\n"
     ]
    }
   ],
   "source": [
    "# For this test we would be using the independent 2-sample ttest\n",
    "# For this we need to create two samples, one for cancelled and the other for non-cancelled\n",
    "cancelled_samp=df.loc[df.is_canceled==1,'adr']\n",
    "non_cancelled_samp=df.loc[df.is_canceled==0,'adr']\n",
    "print('Pvalue for the given test is=',stats.ttest_ind(cancelled_samp,non_cancelled_samp)[1])"
   ]
  },
  {
   "cell_type": "markdown",
   "id": "abd4d7a2",
   "metadata": {},
   "source": [
    "###### We see that the pvalue for the given test is coming out to be zero. Hence, we have to reject our null hypothesis. In conclusion, the average daily rate is unequal across cancelled and non-cancelled bookings"
   ]
  },
  {
   "cell_type": "markdown",
   "id": "8c9a7152",
   "metadata": {},
   "source": [
    "###### Column: required_car_parking_spaces\n",
    "Null Hypothesis: The average number of required car parking spaces is equal across cancelled and non-cancelled bookings\n",
    "\n",
    "Alternate Hypothesis: The average number of required car parking spaces is unequal across cancelled and non-cancelled bookings¶"
   ]
  },
  {
   "cell_type": "code",
   "execution_count": 128,
   "id": "17718e25",
   "metadata": {},
   "outputs": [
    {
     "name": "stdout",
     "output_type": "stream",
     "text": [
      "Pvalue for the given test is= 0.0\n"
     ]
    }
   ],
   "source": [
    "# For this test we would be using the independent 2-sample ttest\n",
    "# For this we need to create two samples, one for cancelled and the other for non-cancelled\n",
    "cancelled_samp=df.loc[df.is_canceled==1,'required_car_parking_spaces']\n",
    "non_cancelled_samp=df.loc[df.is_canceled==0,'required_car_parking_spaces']\n",
    "print('Pvalue for the given test is=',stats.ttest_ind(cancelled_samp,non_cancelled_samp)[1])"
   ]
  },
  {
   "cell_type": "markdown",
   "id": "b54c595a",
   "metadata": {},
   "source": [
    "###### We see that the pvalue for the given test coming out to be zero. Hence we have to reject our null hypothesis. In conclusion, the average number of required car parking spaces in unequal across cancelled and non-cancelled bookings"
   ]
  },
  {
   "cell_type": "code",
   "execution_count": 133,
   "id": "4d1be93d",
   "metadata": {},
   "outputs": [
    {
     "data": {
      "text/html": [
       "<div>\n",
       "<style scoped>\n",
       "    .dataframe tbody tr th:only-of-type {\n",
       "        vertical-align: middle;\n",
       "    }\n",
       "\n",
       "    .dataframe tbody tr th {\n",
       "        vertical-align: top;\n",
       "    }\n",
       "\n",
       "    .dataframe thead th {\n",
       "        text-align: right;\n",
       "    }\n",
       "</style>\n",
       "<table border=\"1\" class=\"dataframe\">\n",
       "  <thead>\n",
       "    <tr style=\"text-align: right;\">\n",
       "      <th></th>\n",
       "      <th>Feature</th>\n",
       "      <th>Pvalue</th>\n",
       "    </tr>\n",
       "  </thead>\n",
       "  <tbody>\n",
       "    <tr>\n",
       "      <th>0</th>\n",
       "      <td>hotel</td>\n",
       "      <td>2.342143e-99</td>\n",
       "    </tr>\n",
       "    <tr>\n",
       "      <th>1</th>\n",
       "      <td>arrival_date_year</td>\n",
       "      <td>3.706993e-148</td>\n",
       "    </tr>\n",
       "    <tr>\n",
       "      <th>2</th>\n",
       "      <td>arrival_date_month</td>\n",
       "      <td>3.378382e-130</td>\n",
       "    </tr>\n",
       "    <tr>\n",
       "      <th>3</th>\n",
       "      <td>arrival_date_week_number</td>\n",
       "      <td>3.818078e-124</td>\n",
       "    </tr>\n",
       "    <tr>\n",
       "      <th>4</th>\n",
       "      <td>arrival_date_day_of_month</td>\n",
       "      <td>7.366615e-05</td>\n",
       "    </tr>\n",
       "    <tr>\n",
       "      <th>5</th>\n",
       "      <td>meal</td>\n",
       "      <td>1.165355e-74</td>\n",
       "    </tr>\n",
       "    <tr>\n",
       "      <th>6</th>\n",
       "      <td>country</td>\n",
       "      <td>1.014438e-57</td>\n",
       "    </tr>\n",
       "    <tr>\n",
       "      <th>7</th>\n",
       "      <td>market_segment</td>\n",
       "      <td>0.000000e+00</td>\n",
       "    </tr>\n",
       "    <tr>\n",
       "      <th>8</th>\n",
       "      <td>distribution_channel</td>\n",
       "      <td>0.000000e+00</td>\n",
       "    </tr>\n",
       "    <tr>\n",
       "      <th>9</th>\n",
       "      <td>is_repeated_guest</td>\n",
       "      <td>1.509488e-154</td>\n",
       "    </tr>\n",
       "    <tr>\n",
       "      <th>10</th>\n",
       "      <td>reserved_room_type</td>\n",
       "      <td>1.338034e-58</td>\n",
       "    </tr>\n",
       "    <tr>\n",
       "      <th>11</th>\n",
       "      <td>assigned_room_type</td>\n",
       "      <td>3.970737e-161</td>\n",
       "    </tr>\n",
       "    <tr>\n",
       "      <th>12</th>\n",
       "      <td>deposit_type</td>\n",
       "      <td>0.000000e+00</td>\n",
       "    </tr>\n",
       "    <tr>\n",
       "      <th>13</th>\n",
       "      <td>agent</td>\n",
       "      <td>0.000000e+00</td>\n",
       "    </tr>\n",
       "    <tr>\n",
       "      <th>14</th>\n",
       "      <td>customer_type</td>\n",
       "      <td>1.752692e-305</td>\n",
       "    </tr>\n",
       "  </tbody>\n",
       "</table>\n",
       "</div>"
      ],
      "text/plain": [
       "                      Feature         Pvalue\n",
       "0                       hotel   2.342143e-99\n",
       "1           arrival_date_year  3.706993e-148\n",
       "2          arrival_date_month  3.378382e-130\n",
       "3    arrival_date_week_number  3.818078e-124\n",
       "4   arrival_date_day_of_month   7.366615e-05\n",
       "5                        meal   1.165355e-74\n",
       "6                     country   1.014438e-57\n",
       "7              market_segment   0.000000e+00\n",
       "8        distribution_channel   0.000000e+00\n",
       "9           is_repeated_guest  1.509488e-154\n",
       "10         reserved_room_type   1.338034e-58\n",
       "11         assigned_room_type  3.970737e-161\n",
       "12               deposit_type   0.000000e+00\n",
       "13                      agent   0.000000e+00\n",
       "14              customer_type  1.752692e-305"
      ]
     },
     "execution_count": 133,
     "metadata": {},
     "output_type": "execute_result"
    }
   ],
   "source": [
    "cats=['hotel','arrival_date_year','arrival_date_month','arrival_date_week_number','arrival_date_day_of_month',\n",
    "     'meal','country','market_segment','distribution_channel','is_repeated_guest','reserved_room_type','assigned_room_type',\n",
    "     'deposit_type','agent','customer_type']\n",
    "stat_df_cat=pd.DataFrame()\n",
    "stat_df_cat['Feature']=cats\n",
    "lst=[]\n",
    "\n",
    "for i in cats:\n",
    "    tbl=pd.crosstab(df[i],df.is_canceled)\n",
    "    statistic,pvalue,dof,exp=stats.chi2_contingency(tbl)\n",
    "    lst.append(pvalue)\n",
    "stat_df_cat['Pvalue']=lst\n",
    "stat_df_cat"
   ]
  },
  {
   "cell_type": "code",
   "execution_count": 135,
   "id": "cff20f65",
   "metadata": {},
   "outputs": [
    {
     "data": {
      "text/html": [
       "<div>\n",
       "<style scoped>\n",
       "    .dataframe tbody tr th:only-of-type {\n",
       "        vertical-align: middle;\n",
       "    }\n",
       "\n",
       "    .dataframe tbody tr th {\n",
       "        vertical-align: top;\n",
       "    }\n",
       "\n",
       "    .dataframe thead th {\n",
       "        text-align: right;\n",
       "    }\n",
       "</style>\n",
       "<table border=\"1\" class=\"dataframe\">\n",
       "  <thead>\n",
       "    <tr style=\"text-align: right;\">\n",
       "      <th></th>\n",
       "      <th>Feature</th>\n",
       "      <th>Pvalue</th>\n",
       "      <th>Significance</th>\n",
       "    </tr>\n",
       "  </thead>\n",
       "  <tbody>\n",
       "    <tr>\n",
       "      <th>0</th>\n",
       "      <td>hotel</td>\n",
       "      <td>2.342143e-99</td>\n",
       "      <td>Significant</td>\n",
       "    </tr>\n",
       "    <tr>\n",
       "      <th>1</th>\n",
       "      <td>arrival_date_year</td>\n",
       "      <td>3.706993e-148</td>\n",
       "      <td>Significant</td>\n",
       "    </tr>\n",
       "    <tr>\n",
       "      <th>2</th>\n",
       "      <td>arrival_date_month</td>\n",
       "      <td>3.378382e-130</td>\n",
       "      <td>Significant</td>\n",
       "    </tr>\n",
       "    <tr>\n",
       "      <th>3</th>\n",
       "      <td>arrival_date_week_number</td>\n",
       "      <td>3.818078e-124</td>\n",
       "      <td>Significant</td>\n",
       "    </tr>\n",
       "    <tr>\n",
       "      <th>4</th>\n",
       "      <td>arrival_date_day_of_month</td>\n",
       "      <td>7.366615e-05</td>\n",
       "      <td>Significant</td>\n",
       "    </tr>\n",
       "    <tr>\n",
       "      <th>5</th>\n",
       "      <td>meal</td>\n",
       "      <td>1.165355e-74</td>\n",
       "      <td>Significant</td>\n",
       "    </tr>\n",
       "    <tr>\n",
       "      <th>6</th>\n",
       "      <td>country</td>\n",
       "      <td>1.014438e-57</td>\n",
       "      <td>Significant</td>\n",
       "    </tr>\n",
       "    <tr>\n",
       "      <th>7</th>\n",
       "      <td>market_segment</td>\n",
       "      <td>0.000000e+00</td>\n",
       "      <td>Significant</td>\n",
       "    </tr>\n",
       "    <tr>\n",
       "      <th>8</th>\n",
       "      <td>distribution_channel</td>\n",
       "      <td>0.000000e+00</td>\n",
       "      <td>Significant</td>\n",
       "    </tr>\n",
       "    <tr>\n",
       "      <th>9</th>\n",
       "      <td>is_repeated_guest</td>\n",
       "      <td>1.509488e-154</td>\n",
       "      <td>Significant</td>\n",
       "    </tr>\n",
       "    <tr>\n",
       "      <th>10</th>\n",
       "      <td>reserved_room_type</td>\n",
       "      <td>1.338034e-58</td>\n",
       "      <td>Significant</td>\n",
       "    </tr>\n",
       "    <tr>\n",
       "      <th>11</th>\n",
       "      <td>assigned_room_type</td>\n",
       "      <td>3.970737e-161</td>\n",
       "      <td>Significant</td>\n",
       "    </tr>\n",
       "    <tr>\n",
       "      <th>12</th>\n",
       "      <td>deposit_type</td>\n",
       "      <td>0.000000e+00</td>\n",
       "      <td>Significant</td>\n",
       "    </tr>\n",
       "    <tr>\n",
       "      <th>13</th>\n",
       "      <td>agent</td>\n",
       "      <td>0.000000e+00</td>\n",
       "      <td>Significant</td>\n",
       "    </tr>\n",
       "    <tr>\n",
       "      <th>14</th>\n",
       "      <td>customer_type</td>\n",
       "      <td>1.752692e-305</td>\n",
       "      <td>Significant</td>\n",
       "    </tr>\n",
       "  </tbody>\n",
       "</table>\n",
       "</div>"
      ],
      "text/plain": [
       "                      Feature         Pvalue Significance\n",
       "0                       hotel   2.342143e-99  Significant\n",
       "1           arrival_date_year  3.706993e-148  Significant\n",
       "2          arrival_date_month  3.378382e-130  Significant\n",
       "3    arrival_date_week_number  3.818078e-124  Significant\n",
       "4   arrival_date_day_of_month   7.366615e-05  Significant\n",
       "5                        meal   1.165355e-74  Significant\n",
       "6                     country   1.014438e-57  Significant\n",
       "7              market_segment   0.000000e+00  Significant\n",
       "8        distribution_channel   0.000000e+00  Significant\n",
       "9           is_repeated_guest  1.509488e-154  Significant\n",
       "10         reserved_room_type   1.338034e-58  Significant\n",
       "11         assigned_room_type  3.970737e-161  Significant\n",
       "12               deposit_type   0.000000e+00  Significant\n",
       "13                      agent   0.000000e+00  Significant\n",
       "14              customer_type  1.752692e-305  Significant"
      ]
     },
     "execution_count": 135,
     "metadata": {},
     "output_type": "execute_result"
    }
   ],
   "source": [
    "lst=[]\n",
    "for i in stat_df_cat.Pvalue:\n",
    "    if i>0.05:\n",
    "        lst.append('Not Significant')\n",
    "    else:\n",
    "        lst.append('Significant')\n",
    "stat_df_cat['Significance']=lst\n",
    "stat_df_cat"
   ]
  },
  {
   "cell_type": "code",
   "execution_count": 136,
   "id": "e937f865",
   "metadata": {},
   "outputs": [],
   "source": [
    "nums=df.select_dtypes(np.number).drop(columns=['is_canceled','arrival_date_week_number','arrival_date_day_of_month',\n",
    "                                         'is_repeated_guest']).columns\n",
    "stat_df=pd.DataFrame()\n",
    "stat_df['Feature']=nums\n",
    "lst=[]\n",
    "for i in nums:\n",
    "    cancelled=df.loc[df.is_canceled==1,i]\n",
    "    notcancelled=df.loc[df.is_canceled==0,i]\n",
    "    lst.append(stats.ttest_ind(cancelled,notcancelled)[1])\n",
    "stat_df['Pvalue']=lst"
   ]
  },
  {
   "cell_type": "code",
   "execution_count": 137,
   "id": "087bfd5b",
   "metadata": {},
   "outputs": [],
   "source": [
    "lst=[]\n",
    "for i in stat_df.Pvalue:\n",
    "    if i>0.05:\n",
    "        lst.append('Not Significant')\n",
    "    else:\n",
    "        lst.append('Significant')\n",
    "stat_df['Significance']=lst"
   ]
  },
  {
   "cell_type": "code",
   "execution_count": 139,
   "id": "bee00746",
   "metadata": {},
   "outputs": [
    {
     "data": {
      "text/html": [
       "<div>\n",
       "<style scoped>\n",
       "    .dataframe tbody tr th:only-of-type {\n",
       "        vertical-align: middle;\n",
       "    }\n",
       "\n",
       "    .dataframe tbody tr th {\n",
       "        vertical-align: top;\n",
       "    }\n",
       "\n",
       "    .dataframe thead th {\n",
       "        text-align: right;\n",
       "    }\n",
       "</style>\n",
       "<table border=\"1\" class=\"dataframe\">\n",
       "  <thead>\n",
       "    <tr style=\"text-align: right;\">\n",
       "      <th></th>\n",
       "      <th>Feature</th>\n",
       "      <th>Pvalue</th>\n",
       "      <th>Significance</th>\n",
       "    </tr>\n",
       "  </thead>\n",
       "  <tbody>\n",
       "    <tr>\n",
       "      <th>0</th>\n",
       "      <td>lead_time</td>\n",
       "      <td>0.000000e+00</td>\n",
       "      <td>Significant</td>\n",
       "    </tr>\n",
       "    <tr>\n",
       "      <th>1</th>\n",
       "      <td>stays_in_weekend_nights</td>\n",
       "      <td>5.248588e-71</td>\n",
       "      <td>Significant</td>\n",
       "    </tr>\n",
       "    <tr>\n",
       "      <th>2</th>\n",
       "      <td>stays_in_week_nights</td>\n",
       "      <td>4.600749e-133</td>\n",
       "      <td>Significant</td>\n",
       "    </tr>\n",
       "    <tr>\n",
       "      <th>3</th>\n",
       "      <td>adults</td>\n",
       "      <td>1.841891e-129</td>\n",
       "      <td>Significant</td>\n",
       "    </tr>\n",
       "    <tr>\n",
       "      <th>4</th>\n",
       "      <td>babies</td>\n",
       "      <td>6.547958e-10</td>\n",
       "      <td>Significant</td>\n",
       "    </tr>\n",
       "    <tr>\n",
       "      <th>5</th>\n",
       "      <td>previous_cancellations</td>\n",
       "      <td>2.453025e-52</td>\n",
       "      <td>Significant</td>\n",
       "    </tr>\n",
       "    <tr>\n",
       "      <th>6</th>\n",
       "      <td>previous_bookings_not_canceled</td>\n",
       "      <td>1.039881e-53</td>\n",
       "      <td>Significant</td>\n",
       "    </tr>\n",
       "    <tr>\n",
       "      <th>7</th>\n",
       "      <td>booking_changes</td>\n",
       "      <td>1.962477e-169</td>\n",
       "      <td>Significant</td>\n",
       "    </tr>\n",
       "    <tr>\n",
       "      <th>8</th>\n",
       "      <td>days_in_waiting_list</td>\n",
       "      <td>1.871977e-01</td>\n",
       "      <td>Not Significant</td>\n",
       "    </tr>\n",
       "    <tr>\n",
       "      <th>9</th>\n",
       "      <td>adr</td>\n",
       "      <td>0.000000e+00</td>\n",
       "      <td>Significant</td>\n",
       "    </tr>\n",
       "    <tr>\n",
       "      <th>10</th>\n",
       "      <td>required_car_parking_spaces</td>\n",
       "      <td>0.000000e+00</td>\n",
       "      <td>Significant</td>\n",
       "    </tr>\n",
       "    <tr>\n",
       "      <th>11</th>\n",
       "      <td>total_of_special_requests</td>\n",
       "      <td>3.604096e-280</td>\n",
       "      <td>Significant</td>\n",
       "    </tr>\n",
       "  </tbody>\n",
       "</table>\n",
       "</div>"
      ],
      "text/plain": [
       "                           Feature         Pvalue     Significance\n",
       "0                        lead_time   0.000000e+00      Significant\n",
       "1          stays_in_weekend_nights   5.248588e-71      Significant\n",
       "2             stays_in_week_nights  4.600749e-133      Significant\n",
       "3                           adults  1.841891e-129      Significant\n",
       "4                           babies   6.547958e-10      Significant\n",
       "5           previous_cancellations   2.453025e-52      Significant\n",
       "6   previous_bookings_not_canceled   1.039881e-53      Significant\n",
       "7                  booking_changes  1.962477e-169      Significant\n",
       "8             days_in_waiting_list   1.871977e-01  Not Significant\n",
       "9                              adr   0.000000e+00      Significant\n",
       "10     required_car_parking_spaces   0.000000e+00      Significant\n",
       "11       total_of_special_requests  3.604096e-280      Significant"
      ]
     },
     "execution_count": 139,
     "metadata": {},
     "output_type": "execute_result"
    }
   ],
   "source": [
    "stat_df"
   ]
  },
  {
   "cell_type": "markdown",
   "id": "cc5ad7a7",
   "metadata": {},
   "source": [
    "###### We see that the pvalue for the given test is extremely small compared to our significance level. Hence we have to reject the null hypothesis. In conclusion, the average number of special requests is unequal across cancelled and non-cancelled bookings"
   ]
  },
  {
   "cell_type": "markdown",
   "id": "7aab1c2c",
   "metadata": {},
   "source": [
    "## Feature Selection and Engineering"
   ]
  },
  {
   "cell_type": "markdown",
   "id": "a9a9869f",
   "metadata": {},
   "source": [
    "###### We observed that out of all the features we have one insignificant feature namely, days in waiting list, So we would drop this variable from our model bulding\n",
    "df.drop(columns='days_in_waiting_list',inplace=True)"
   ]
  },
  {
   "cell_type": "code",
   "execution_count": 141,
   "id": "270faab4",
   "metadata": {},
   "outputs": [
    {
     "ename": "KeyError",
     "evalue": "\"['days_in_waiting_list'] not found in axis\"",
     "output_type": "error",
     "traceback": [
      "\u001b[1;31m---------------------------------------------------------------------------\u001b[0m",
      "\u001b[1;31mKeyError\u001b[0m                                  Traceback (most recent call last)",
      "Input \u001b[1;32mIn [141]\u001b[0m, in \u001b[0;36m<cell line: 1>\u001b[1;34m()\u001b[0m\n\u001b[1;32m----> 1\u001b[0m \u001b[43mdf\u001b[49m\u001b[38;5;241;43m.\u001b[39;49m\u001b[43mdrop\u001b[49m\u001b[43m(\u001b[49m\u001b[43mcolumns\u001b[49m\u001b[38;5;241;43m=\u001b[39;49m\u001b[38;5;124;43m'\u001b[39;49m\u001b[38;5;124;43mdays_in_waiting_list\u001b[39;49m\u001b[38;5;124;43m'\u001b[39;49m\u001b[43m,\u001b[49m\u001b[43minplace\u001b[49m\u001b[38;5;241;43m=\u001b[39;49m\u001b[38;5;28;43;01mTrue\u001b[39;49;00m\u001b[43m)\u001b[49m\n",
      "File \u001b[1;32mC:\\ProgramData\\Anaconda3\\lib\\site-packages\\pandas\\util\\_decorators.py:311\u001b[0m, in \u001b[0;36mdeprecate_nonkeyword_arguments.<locals>.decorate.<locals>.wrapper\u001b[1;34m(*args, **kwargs)\u001b[0m\n\u001b[0;32m    305\u001b[0m \u001b[38;5;28;01mif\u001b[39;00m \u001b[38;5;28mlen\u001b[39m(args) \u001b[38;5;241m>\u001b[39m num_allow_args:\n\u001b[0;32m    306\u001b[0m     warnings\u001b[38;5;241m.\u001b[39mwarn(\n\u001b[0;32m    307\u001b[0m         msg\u001b[38;5;241m.\u001b[39mformat(arguments\u001b[38;5;241m=\u001b[39marguments),\n\u001b[0;32m    308\u001b[0m         \u001b[38;5;167;01mFutureWarning\u001b[39;00m,\n\u001b[0;32m    309\u001b[0m         stacklevel\u001b[38;5;241m=\u001b[39mstacklevel,\n\u001b[0;32m    310\u001b[0m     )\n\u001b[1;32m--> 311\u001b[0m \u001b[38;5;28;01mreturn\u001b[39;00m func(\u001b[38;5;241m*\u001b[39margs, \u001b[38;5;241m*\u001b[39m\u001b[38;5;241m*\u001b[39mkwargs)\n",
      "File \u001b[1;32mC:\\ProgramData\\Anaconda3\\lib\\site-packages\\pandas\\core\\frame.py:4954\u001b[0m, in \u001b[0;36mDataFrame.drop\u001b[1;34m(self, labels, axis, index, columns, level, inplace, errors)\u001b[0m\n\u001b[0;32m   4806\u001b[0m \u001b[38;5;129m@deprecate_nonkeyword_arguments\u001b[39m(version\u001b[38;5;241m=\u001b[39m\u001b[38;5;28;01mNone\u001b[39;00m, allowed_args\u001b[38;5;241m=\u001b[39m[\u001b[38;5;124m\"\u001b[39m\u001b[38;5;124mself\u001b[39m\u001b[38;5;124m\"\u001b[39m, \u001b[38;5;124m\"\u001b[39m\u001b[38;5;124mlabels\u001b[39m\u001b[38;5;124m\"\u001b[39m])\n\u001b[0;32m   4807\u001b[0m \u001b[38;5;28;01mdef\u001b[39;00m \u001b[38;5;21mdrop\u001b[39m(\n\u001b[0;32m   4808\u001b[0m     \u001b[38;5;28mself\u001b[39m,\n\u001b[1;32m   (...)\u001b[0m\n\u001b[0;32m   4815\u001b[0m     errors: \u001b[38;5;28mstr\u001b[39m \u001b[38;5;241m=\u001b[39m \u001b[38;5;124m\"\u001b[39m\u001b[38;5;124mraise\u001b[39m\u001b[38;5;124m\"\u001b[39m,\n\u001b[0;32m   4816\u001b[0m ):\n\u001b[0;32m   4817\u001b[0m     \u001b[38;5;124;03m\"\"\"\u001b[39;00m\n\u001b[0;32m   4818\u001b[0m \u001b[38;5;124;03m    Drop specified labels from rows or columns.\u001b[39;00m\n\u001b[0;32m   4819\u001b[0m \n\u001b[1;32m   (...)\u001b[0m\n\u001b[0;32m   4952\u001b[0m \u001b[38;5;124;03m            weight  1.0     0.8\u001b[39;00m\n\u001b[0;32m   4953\u001b[0m \u001b[38;5;124;03m    \"\"\"\u001b[39;00m\n\u001b[1;32m-> 4954\u001b[0m     \u001b[38;5;28;01mreturn\u001b[39;00m \u001b[38;5;28;43msuper\u001b[39;49m\u001b[43m(\u001b[49m\u001b[43m)\u001b[49m\u001b[38;5;241;43m.\u001b[39;49m\u001b[43mdrop\u001b[49m\u001b[43m(\u001b[49m\n\u001b[0;32m   4955\u001b[0m \u001b[43m        \u001b[49m\u001b[43mlabels\u001b[49m\u001b[38;5;241;43m=\u001b[39;49m\u001b[43mlabels\u001b[49m\u001b[43m,\u001b[49m\n\u001b[0;32m   4956\u001b[0m \u001b[43m        \u001b[49m\u001b[43maxis\u001b[49m\u001b[38;5;241;43m=\u001b[39;49m\u001b[43maxis\u001b[49m\u001b[43m,\u001b[49m\n\u001b[0;32m   4957\u001b[0m \u001b[43m        \u001b[49m\u001b[43mindex\u001b[49m\u001b[38;5;241;43m=\u001b[39;49m\u001b[43mindex\u001b[49m\u001b[43m,\u001b[49m\n\u001b[0;32m   4958\u001b[0m \u001b[43m        \u001b[49m\u001b[43mcolumns\u001b[49m\u001b[38;5;241;43m=\u001b[39;49m\u001b[43mcolumns\u001b[49m\u001b[43m,\u001b[49m\n\u001b[0;32m   4959\u001b[0m \u001b[43m        \u001b[49m\u001b[43mlevel\u001b[49m\u001b[38;5;241;43m=\u001b[39;49m\u001b[43mlevel\u001b[49m\u001b[43m,\u001b[49m\n\u001b[0;32m   4960\u001b[0m \u001b[43m        \u001b[49m\u001b[43minplace\u001b[49m\u001b[38;5;241;43m=\u001b[39;49m\u001b[43minplace\u001b[49m\u001b[43m,\u001b[49m\n\u001b[0;32m   4961\u001b[0m \u001b[43m        \u001b[49m\u001b[43merrors\u001b[49m\u001b[38;5;241;43m=\u001b[39;49m\u001b[43merrors\u001b[49m\u001b[43m,\u001b[49m\n\u001b[0;32m   4962\u001b[0m \u001b[43m    \u001b[49m\u001b[43m)\u001b[49m\n",
      "File \u001b[1;32mC:\\ProgramData\\Anaconda3\\lib\\site-packages\\pandas\\core\\generic.py:4267\u001b[0m, in \u001b[0;36mNDFrame.drop\u001b[1;34m(self, labels, axis, index, columns, level, inplace, errors)\u001b[0m\n\u001b[0;32m   4265\u001b[0m \u001b[38;5;28;01mfor\u001b[39;00m axis, labels \u001b[38;5;129;01min\u001b[39;00m axes\u001b[38;5;241m.\u001b[39mitems():\n\u001b[0;32m   4266\u001b[0m     \u001b[38;5;28;01mif\u001b[39;00m labels \u001b[38;5;129;01mis\u001b[39;00m \u001b[38;5;129;01mnot\u001b[39;00m \u001b[38;5;28;01mNone\u001b[39;00m:\n\u001b[1;32m-> 4267\u001b[0m         obj \u001b[38;5;241m=\u001b[39m \u001b[43mobj\u001b[49m\u001b[38;5;241;43m.\u001b[39;49m\u001b[43m_drop_axis\u001b[49m\u001b[43m(\u001b[49m\u001b[43mlabels\u001b[49m\u001b[43m,\u001b[49m\u001b[43m \u001b[49m\u001b[43maxis\u001b[49m\u001b[43m,\u001b[49m\u001b[43m \u001b[49m\u001b[43mlevel\u001b[49m\u001b[38;5;241;43m=\u001b[39;49m\u001b[43mlevel\u001b[49m\u001b[43m,\u001b[49m\u001b[43m \u001b[49m\u001b[43merrors\u001b[49m\u001b[38;5;241;43m=\u001b[39;49m\u001b[43merrors\u001b[49m\u001b[43m)\u001b[49m\n\u001b[0;32m   4269\u001b[0m \u001b[38;5;28;01mif\u001b[39;00m inplace:\n\u001b[0;32m   4270\u001b[0m     \u001b[38;5;28mself\u001b[39m\u001b[38;5;241m.\u001b[39m_update_inplace(obj)\n",
      "File \u001b[1;32mC:\\ProgramData\\Anaconda3\\lib\\site-packages\\pandas\\core\\generic.py:4311\u001b[0m, in \u001b[0;36mNDFrame._drop_axis\u001b[1;34m(self, labels, axis, level, errors, consolidate, only_slice)\u001b[0m\n\u001b[0;32m   4309\u001b[0m         new_axis \u001b[38;5;241m=\u001b[39m axis\u001b[38;5;241m.\u001b[39mdrop(labels, level\u001b[38;5;241m=\u001b[39mlevel, errors\u001b[38;5;241m=\u001b[39merrors)\n\u001b[0;32m   4310\u001b[0m     \u001b[38;5;28;01melse\u001b[39;00m:\n\u001b[1;32m-> 4311\u001b[0m         new_axis \u001b[38;5;241m=\u001b[39m \u001b[43maxis\u001b[49m\u001b[38;5;241;43m.\u001b[39;49m\u001b[43mdrop\u001b[49m\u001b[43m(\u001b[49m\u001b[43mlabels\u001b[49m\u001b[43m,\u001b[49m\u001b[43m \u001b[49m\u001b[43merrors\u001b[49m\u001b[38;5;241;43m=\u001b[39;49m\u001b[43merrors\u001b[49m\u001b[43m)\u001b[49m\n\u001b[0;32m   4312\u001b[0m     indexer \u001b[38;5;241m=\u001b[39m axis\u001b[38;5;241m.\u001b[39mget_indexer(new_axis)\n\u001b[0;32m   4314\u001b[0m \u001b[38;5;66;03m# Case for non-unique axis\u001b[39;00m\n\u001b[0;32m   4315\u001b[0m \u001b[38;5;28;01melse\u001b[39;00m:\n",
      "File \u001b[1;32mC:\\ProgramData\\Anaconda3\\lib\\site-packages\\pandas\\core\\indexes\\base.py:6644\u001b[0m, in \u001b[0;36mIndex.drop\u001b[1;34m(self, labels, errors)\u001b[0m\n\u001b[0;32m   6642\u001b[0m \u001b[38;5;28;01mif\u001b[39;00m mask\u001b[38;5;241m.\u001b[39many():\n\u001b[0;32m   6643\u001b[0m     \u001b[38;5;28;01mif\u001b[39;00m errors \u001b[38;5;241m!=\u001b[39m \u001b[38;5;124m\"\u001b[39m\u001b[38;5;124mignore\u001b[39m\u001b[38;5;124m\"\u001b[39m:\n\u001b[1;32m-> 6644\u001b[0m         \u001b[38;5;28;01mraise\u001b[39;00m \u001b[38;5;167;01mKeyError\u001b[39;00m(\u001b[38;5;124mf\u001b[39m\u001b[38;5;124m\"\u001b[39m\u001b[38;5;132;01m{\u001b[39;00m\u001b[38;5;28mlist\u001b[39m(labels[mask])\u001b[38;5;132;01m}\u001b[39;00m\u001b[38;5;124m not found in axis\u001b[39m\u001b[38;5;124m\"\u001b[39m)\n\u001b[0;32m   6645\u001b[0m     indexer \u001b[38;5;241m=\u001b[39m indexer[\u001b[38;5;241m~\u001b[39mmask]\n\u001b[0;32m   6646\u001b[0m \u001b[38;5;28;01mreturn\u001b[39;00m \u001b[38;5;28mself\u001b[39m\u001b[38;5;241m.\u001b[39mdelete(indexer)\n",
      "\u001b[1;31mKeyError\u001b[0m: \"['days_in_waiting_list'] not found in axis\""
     ]
    }
   ],
   "source": [
    "df.drop(columns='days_in_waiting_list',inplace=True)"
   ]
  },
  {
   "cell_type": "code",
   "execution_count": 142,
   "id": "eb1c7322",
   "metadata": {},
   "outputs": [],
   "source": [
    "# We also have two post-event columns, reservation_status and reservation_status_date\n",
    "# To make a robust model we would have to drop these two columns as well\n",
    "df.drop(columns=['reservation_status','reservation_status_date'],inplace=True)"
   ]
  },
  {
   "cell_type": "code",
   "execution_count": 143,
   "id": "3e8876f2",
   "metadata": {},
   "outputs": [],
   "source": [
    "# Creating a new feature total_stay\n",
    "df['total_stay']=df.stays_in_week_nights+df.stays_in_weekend_nights\n",
    "df.drop(columns=['stays_in_week_nights','stays_in_weekend_nights'],inplace=True)"
   ]
  },
  {
   "cell_type": "code",
   "execution_count": 144,
   "id": "52ecef43",
   "metadata": {},
   "outputs": [
    {
     "ename": "TypeError",
     "evalue": "unsupported operand type(s) for +: 'int' and 'str'",
     "output_type": "error",
     "traceback": [
      "\u001b[1;31m---------------------------------------------------------------------------\u001b[0m",
      "\u001b[1;31mTypeError\u001b[0m                                 Traceback (most recent call last)",
      "File \u001b[1;32mC:\\ProgramData\\Anaconda3\\lib\\site-packages\\pandas\\core\\ops\\array_ops.py:163\u001b[0m, in \u001b[0;36m_na_arithmetic_op\u001b[1;34m(left, right, op, is_cmp)\u001b[0m\n\u001b[0;32m    162\u001b[0m \u001b[38;5;28;01mtry\u001b[39;00m:\n\u001b[1;32m--> 163\u001b[0m     result \u001b[38;5;241m=\u001b[39m \u001b[43mfunc\u001b[49m\u001b[43m(\u001b[49m\u001b[43mleft\u001b[49m\u001b[43m,\u001b[49m\u001b[43m \u001b[49m\u001b[43mright\u001b[49m\u001b[43m)\u001b[49m\n\u001b[0;32m    164\u001b[0m \u001b[38;5;28;01mexcept\u001b[39;00m \u001b[38;5;167;01mTypeError\u001b[39;00m:\n",
      "File \u001b[1;32mC:\\ProgramData\\Anaconda3\\lib\\site-packages\\pandas\\core\\computation\\expressions.py:239\u001b[0m, in \u001b[0;36mevaluate\u001b[1;34m(op, a, b, use_numexpr)\u001b[0m\n\u001b[0;32m    237\u001b[0m     \u001b[38;5;28;01mif\u001b[39;00m use_numexpr:\n\u001b[0;32m    238\u001b[0m         \u001b[38;5;66;03m# error: \"None\" not callable\u001b[39;00m\n\u001b[1;32m--> 239\u001b[0m         \u001b[38;5;28;01mreturn\u001b[39;00m \u001b[43m_evaluate\u001b[49m\u001b[43m(\u001b[49m\u001b[43mop\u001b[49m\u001b[43m,\u001b[49m\u001b[43m \u001b[49m\u001b[43mop_str\u001b[49m\u001b[43m,\u001b[49m\u001b[43m \u001b[49m\u001b[43ma\u001b[49m\u001b[43m,\u001b[49m\u001b[43m \u001b[49m\u001b[43mb\u001b[49m\u001b[43m)\u001b[49m  \u001b[38;5;66;03m# type: ignore[misc]\u001b[39;00m\n\u001b[0;32m    240\u001b[0m \u001b[38;5;28;01mreturn\u001b[39;00m _evaluate_standard(op, op_str, a, b)\n",
      "File \u001b[1;32mC:\\ProgramData\\Anaconda3\\lib\\site-packages\\pandas\\core\\computation\\expressions.py:128\u001b[0m, in \u001b[0;36m_evaluate_numexpr\u001b[1;34m(op, op_str, a, b)\u001b[0m\n\u001b[0;32m    127\u001b[0m \u001b[38;5;28;01mif\u001b[39;00m result \u001b[38;5;129;01mis\u001b[39;00m \u001b[38;5;28;01mNone\u001b[39;00m:\n\u001b[1;32m--> 128\u001b[0m     result \u001b[38;5;241m=\u001b[39m \u001b[43m_evaluate_standard\u001b[49m\u001b[43m(\u001b[49m\u001b[43mop\u001b[49m\u001b[43m,\u001b[49m\u001b[43m \u001b[49m\u001b[43mop_str\u001b[49m\u001b[43m,\u001b[49m\u001b[43m \u001b[49m\u001b[43ma\u001b[49m\u001b[43m,\u001b[49m\u001b[43m \u001b[49m\u001b[43mb\u001b[49m\u001b[43m)\u001b[49m\n\u001b[0;32m    130\u001b[0m \u001b[38;5;28;01mreturn\u001b[39;00m result\n",
      "File \u001b[1;32mC:\\ProgramData\\Anaconda3\\lib\\site-packages\\pandas\\core\\computation\\expressions.py:69\u001b[0m, in \u001b[0;36m_evaluate_standard\u001b[1;34m(op, op_str, a, b)\u001b[0m\n\u001b[0;32m     68\u001b[0m     _store_test_result(\u001b[38;5;28;01mFalse\u001b[39;00m)\n\u001b[1;32m---> 69\u001b[0m \u001b[38;5;28;01mreturn\u001b[39;00m \u001b[43mop\u001b[49m\u001b[43m(\u001b[49m\u001b[43ma\u001b[49m\u001b[43m,\u001b[49m\u001b[43m \u001b[49m\u001b[43mb\u001b[49m\u001b[43m)\u001b[49m\n",
      "\u001b[1;31mTypeError\u001b[0m: unsupported operand type(s) for +: 'int' and 'str'",
      "\nDuring handling of the above exception, another exception occurred:\n",
      "\u001b[1;31mTypeError\u001b[0m                                 Traceback (most recent call last)",
      "Input \u001b[1;32mIn [144]\u001b[0m, in \u001b[0;36m<cell line: 2>\u001b[1;34m()\u001b[0m\n\u001b[0;32m      1\u001b[0m \u001b[38;5;66;03m# Creating a new column party_size\u001b[39;00m\n\u001b[1;32m----> 2\u001b[0m df[\u001b[38;5;124m'\u001b[39m\u001b[38;5;124mparty_size\u001b[39m\u001b[38;5;124m'\u001b[39m]\u001b[38;5;241m=\u001b[39m\u001b[43mdf\u001b[49m\u001b[38;5;241;43m.\u001b[39;49m\u001b[43madults\u001b[49m\u001b[38;5;241;43m+\u001b[39;49m\u001b[43mdf\u001b[49m\u001b[38;5;241;43m.\u001b[39;49m\u001b[43mchildren\u001b[49m\u001b[38;5;241m+\u001b[39mdf\u001b[38;5;241m.\u001b[39mbabies\n\u001b[0;32m      3\u001b[0m df\u001b[38;5;241m.\u001b[39mdrop(columns\u001b[38;5;241m=\u001b[39m[\u001b[38;5;124m'\u001b[39m\u001b[38;5;124madults\u001b[39m\u001b[38;5;124m'\u001b[39m,\u001b[38;5;124m'\u001b[39m\u001b[38;5;124mchildren\u001b[39m\u001b[38;5;124m'\u001b[39m,\u001b[38;5;124m'\u001b[39m\u001b[38;5;124mbabies\u001b[39m\u001b[38;5;124m'\u001b[39m],inplace\u001b[38;5;241m=\u001b[39m\u001b[38;5;28;01mTrue\u001b[39;00m)\n",
      "File \u001b[1;32mC:\\ProgramData\\Anaconda3\\lib\\site-packages\\pandas\\core\\ops\\common.py:70\u001b[0m, in \u001b[0;36m_unpack_zerodim_and_defer.<locals>.new_method\u001b[1;34m(self, other)\u001b[0m\n\u001b[0;32m     66\u001b[0m             \u001b[38;5;28;01mreturn\u001b[39;00m \u001b[38;5;28mNotImplemented\u001b[39m\n\u001b[0;32m     68\u001b[0m other \u001b[38;5;241m=\u001b[39m item_from_zerodim(other)\n\u001b[1;32m---> 70\u001b[0m \u001b[38;5;28;01mreturn\u001b[39;00m \u001b[43mmethod\u001b[49m\u001b[43m(\u001b[49m\u001b[38;5;28;43mself\u001b[39;49m\u001b[43m,\u001b[49m\u001b[43m \u001b[49m\u001b[43mother\u001b[49m\u001b[43m)\u001b[49m\n",
      "File \u001b[1;32mC:\\ProgramData\\Anaconda3\\lib\\site-packages\\pandas\\core\\arraylike.py:100\u001b[0m, in \u001b[0;36mOpsMixin.__add__\u001b[1;34m(self, other)\u001b[0m\n\u001b[0;32m     98\u001b[0m \u001b[38;5;129m@unpack_zerodim_and_defer\u001b[39m(\u001b[38;5;124m\"\u001b[39m\u001b[38;5;124m__add__\u001b[39m\u001b[38;5;124m\"\u001b[39m)\n\u001b[0;32m     99\u001b[0m \u001b[38;5;28;01mdef\u001b[39;00m \u001b[38;5;21m__add__\u001b[39m(\u001b[38;5;28mself\u001b[39m, other):\n\u001b[1;32m--> 100\u001b[0m     \u001b[38;5;28;01mreturn\u001b[39;00m \u001b[38;5;28;43mself\u001b[39;49m\u001b[38;5;241;43m.\u001b[39;49m\u001b[43m_arith_method\u001b[49m\u001b[43m(\u001b[49m\u001b[43mother\u001b[49m\u001b[43m,\u001b[49m\u001b[43m \u001b[49m\u001b[43moperator\u001b[49m\u001b[38;5;241;43m.\u001b[39;49m\u001b[43madd\u001b[49m\u001b[43m)\u001b[49m\n",
      "File \u001b[1;32mC:\\ProgramData\\Anaconda3\\lib\\site-packages\\pandas\\core\\series.py:5639\u001b[0m, in \u001b[0;36mSeries._arith_method\u001b[1;34m(self, other, op)\u001b[0m\n\u001b[0;32m   5637\u001b[0m \u001b[38;5;28;01mdef\u001b[39;00m \u001b[38;5;21m_arith_method\u001b[39m(\u001b[38;5;28mself\u001b[39m, other, op):\n\u001b[0;32m   5638\u001b[0m     \u001b[38;5;28mself\u001b[39m, other \u001b[38;5;241m=\u001b[39m ops\u001b[38;5;241m.\u001b[39malign_method_SERIES(\u001b[38;5;28mself\u001b[39m, other)\n\u001b[1;32m-> 5639\u001b[0m     \u001b[38;5;28;01mreturn\u001b[39;00m \u001b[43mbase\u001b[49m\u001b[38;5;241;43m.\u001b[39;49m\u001b[43mIndexOpsMixin\u001b[49m\u001b[38;5;241;43m.\u001b[39;49m\u001b[43m_arith_method\u001b[49m\u001b[43m(\u001b[49m\u001b[38;5;28;43mself\u001b[39;49m\u001b[43m,\u001b[49m\u001b[43m \u001b[49m\u001b[43mother\u001b[49m\u001b[43m,\u001b[49m\u001b[43m \u001b[49m\u001b[43mop\u001b[49m\u001b[43m)\u001b[49m\n",
      "File \u001b[1;32mC:\\ProgramData\\Anaconda3\\lib\\site-packages\\pandas\\core\\base.py:1295\u001b[0m, in \u001b[0;36mIndexOpsMixin._arith_method\u001b[1;34m(self, other, op)\u001b[0m\n\u001b[0;32m   1292\u001b[0m rvalues \u001b[38;5;241m=\u001b[39m ensure_wrapped_if_datetimelike(rvalues)\n\u001b[0;32m   1294\u001b[0m \u001b[38;5;28;01mwith\u001b[39;00m np\u001b[38;5;241m.\u001b[39merrstate(\u001b[38;5;28mall\u001b[39m\u001b[38;5;241m=\u001b[39m\u001b[38;5;124m\"\u001b[39m\u001b[38;5;124mignore\u001b[39m\u001b[38;5;124m\"\u001b[39m):\n\u001b[1;32m-> 1295\u001b[0m     result \u001b[38;5;241m=\u001b[39m \u001b[43mops\u001b[49m\u001b[38;5;241;43m.\u001b[39;49m\u001b[43marithmetic_op\u001b[49m\u001b[43m(\u001b[49m\u001b[43mlvalues\u001b[49m\u001b[43m,\u001b[49m\u001b[43m \u001b[49m\u001b[43mrvalues\u001b[49m\u001b[43m,\u001b[49m\u001b[43m \u001b[49m\u001b[43mop\u001b[49m\u001b[43m)\u001b[49m\n\u001b[0;32m   1297\u001b[0m \u001b[38;5;28;01mreturn\u001b[39;00m \u001b[38;5;28mself\u001b[39m\u001b[38;5;241m.\u001b[39m_construct_result(result, name\u001b[38;5;241m=\u001b[39mres_name)\n",
      "File \u001b[1;32mC:\\ProgramData\\Anaconda3\\lib\\site-packages\\pandas\\core\\ops\\array_ops.py:222\u001b[0m, in \u001b[0;36marithmetic_op\u001b[1;34m(left, right, op)\u001b[0m\n\u001b[0;32m    217\u001b[0m \u001b[38;5;28;01melse\u001b[39;00m:\n\u001b[0;32m    218\u001b[0m     \u001b[38;5;66;03m# TODO we should handle EAs consistently and move this check before the if/else\u001b[39;00m\n\u001b[0;32m    219\u001b[0m     \u001b[38;5;66;03m# (https://github.com/pandas-dev/pandas/issues/41165)\u001b[39;00m\n\u001b[0;32m    220\u001b[0m     _bool_arith_check(op, left, right)\n\u001b[1;32m--> 222\u001b[0m     res_values \u001b[38;5;241m=\u001b[39m \u001b[43m_na_arithmetic_op\u001b[49m\u001b[43m(\u001b[49m\u001b[43mleft\u001b[49m\u001b[43m,\u001b[49m\u001b[43m \u001b[49m\u001b[43mright\u001b[49m\u001b[43m,\u001b[49m\u001b[43m \u001b[49m\u001b[43mop\u001b[49m\u001b[43m)\u001b[49m\n\u001b[0;32m    224\u001b[0m \u001b[38;5;28;01mreturn\u001b[39;00m res_values\n",
      "File \u001b[1;32mC:\\ProgramData\\Anaconda3\\lib\\site-packages\\pandas\\core\\ops\\array_ops.py:170\u001b[0m, in \u001b[0;36m_na_arithmetic_op\u001b[1;34m(left, right, op, is_cmp)\u001b[0m\n\u001b[0;32m    164\u001b[0m \u001b[38;5;28;01mexcept\u001b[39;00m \u001b[38;5;167;01mTypeError\u001b[39;00m:\n\u001b[0;32m    165\u001b[0m     \u001b[38;5;28;01mif\u001b[39;00m \u001b[38;5;129;01mnot\u001b[39;00m is_cmp \u001b[38;5;129;01mand\u001b[39;00m (is_object_dtype(left\u001b[38;5;241m.\u001b[39mdtype) \u001b[38;5;129;01mor\u001b[39;00m is_object_dtype(right)):\n\u001b[0;32m    166\u001b[0m         \u001b[38;5;66;03m# For object dtype, fallback to a masked operation (only operating\u001b[39;00m\n\u001b[0;32m    167\u001b[0m         \u001b[38;5;66;03m#  on the non-missing values)\u001b[39;00m\n\u001b[0;32m    168\u001b[0m         \u001b[38;5;66;03m# Don't do this for comparisons, as that will handle complex numbers\u001b[39;00m\n\u001b[0;32m    169\u001b[0m         \u001b[38;5;66;03m#  incorrectly, see GH#32047\u001b[39;00m\n\u001b[1;32m--> 170\u001b[0m         result \u001b[38;5;241m=\u001b[39m \u001b[43m_masked_arith_op\u001b[49m\u001b[43m(\u001b[49m\u001b[43mleft\u001b[49m\u001b[43m,\u001b[49m\u001b[43m \u001b[49m\u001b[43mright\u001b[49m\u001b[43m,\u001b[49m\u001b[43m \u001b[49m\u001b[43mop\u001b[49m\u001b[43m)\u001b[49m\n\u001b[0;32m    171\u001b[0m     \u001b[38;5;28;01melse\u001b[39;00m:\n\u001b[0;32m    172\u001b[0m         \u001b[38;5;28;01mraise\u001b[39;00m\n",
      "File \u001b[1;32mC:\\ProgramData\\Anaconda3\\lib\\site-packages\\pandas\\core\\ops\\array_ops.py:108\u001b[0m, in \u001b[0;36m_masked_arith_op\u001b[1;34m(x, y, op)\u001b[0m\n\u001b[0;32m    106\u001b[0m     \u001b[38;5;66;03m# See GH#5284, GH#5035, GH#19448 for historical reference\u001b[39;00m\n\u001b[0;32m    107\u001b[0m     \u001b[38;5;28;01mif\u001b[39;00m mask\u001b[38;5;241m.\u001b[39many():\n\u001b[1;32m--> 108\u001b[0m         result[mask] \u001b[38;5;241m=\u001b[39m \u001b[43mop\u001b[49m\u001b[43m(\u001b[49m\u001b[43mxrav\u001b[49m\u001b[43m[\u001b[49m\u001b[43mmask\u001b[49m\u001b[43m]\u001b[49m\u001b[43m,\u001b[49m\u001b[43m \u001b[49m\u001b[43myrav\u001b[49m\u001b[43m[\u001b[49m\u001b[43mmask\u001b[49m\u001b[43m]\u001b[49m\u001b[43m)\u001b[49m\n\u001b[0;32m    110\u001b[0m \u001b[38;5;28;01melse\u001b[39;00m:\n\u001b[0;32m    111\u001b[0m     \u001b[38;5;28;01mif\u001b[39;00m \u001b[38;5;129;01mnot\u001b[39;00m is_scalar(y):\n",
      "\u001b[1;31mTypeError\u001b[0m: unsupported operand type(s) for +: 'int' and 'str'"
     ]
    }
   ],
   "source": [
    "# Creating a new column party_size\n",
    "df['party_size']=df.adults+df.children+df.babies\n",
    "df.drop(columns=['adults','children','babies'],inplace=True)"
   ]
  },
  {
   "cell_type": "markdown",
   "id": "37824f77",
   "metadata": {},
   "source": [
    "# Base Model"
   ]
  },
  {
   "cell_type": "code",
   "execution_count": 145,
   "id": "b93a6598",
   "metadata": {},
   "outputs": [],
   "source": [
    "# Before Procedding to our Base model building we would make an evaluation function that would help us evaluating the\n",
    "# models with different metrics\n",
    "\n",
    "def evaluation(y_test,y_pred):\n",
    "    \n",
    "    print('Accuracy Score:',accuracy_score(y_test,y_pred))\n",
    "    print('f1_score:',f1_score(y_test,y_pred))\n",
    "    print('Precision:',precision_score(y_test,y_pred))\n",
    "    print('Recall:',recall_score(y_test,y_pred))\n",
    "    print('Classification report:\\n',classification_report(y_test,y_pred))\n",
    "    cm=confusion_matrix(y_test,y_pred)\n",
    "    ConfusionMatrixDisplay(cm).plot()\n",
    "    plt.title('Confusion matrix for the given prediction')\n",
    "    plt.show()\n",
    "    \n",
    "# Our evaluation fucntion is now created"
   ]
  },
  {
   "cell_type": "code",
   "execution_count": 146,
   "id": "69ca8666",
   "metadata": {},
   "outputs": [
    {
     "ename": "NameError",
     "evalue": "name 'df_temp' is not defined",
     "output_type": "error",
     "traceback": [
      "\u001b[1;31m---------------------------------------------------------------------------\u001b[0m",
      "\u001b[1;31mNameError\u001b[0m                                 Traceback (most recent call last)",
      "Input \u001b[1;32mIn [146]\u001b[0m, in \u001b[0;36m<cell line: 2>\u001b[1;34m()\u001b[0m\n\u001b[0;32m      1\u001b[0m \u001b[38;5;66;03m# Splitting the data\u001b[39;00m\n\u001b[1;32m----> 2\u001b[0m dummy\u001b[38;5;241m=\u001b[39mpd\u001b[38;5;241m.\u001b[39mget_dummies(\u001b[43mdf_temp\u001b[49m,drop_first\u001b[38;5;241m=\u001b[39m\u001b[38;5;28;01mTrue\u001b[39;00m)\n\u001b[0;32m      3\u001b[0m x\u001b[38;5;241m=\u001b[39mdummy\u001b[38;5;241m.\u001b[39mdrop(columns\u001b[38;5;241m=\u001b[39m\u001b[38;5;124m'\u001b[39m\u001b[38;5;124mis_canceled\u001b[39m\u001b[38;5;124m'\u001b[39m)\n\u001b[0;32m      4\u001b[0m y\u001b[38;5;241m=\u001b[39mdummy\u001b[38;5;241m.\u001b[39mis_canceled\n",
      "\u001b[1;31mNameError\u001b[0m: name 'df_temp' is not defined"
     ]
    }
   ],
   "source": [
    "# Splitting the data\n",
    "dummy=pd.get_dummies(df_temp,drop_first=True)\n",
    "x=dummy.drop(columns='is_canceled')\n",
    "y=dummy.is_canceled\n",
    "x_train,x_test,y_train,y_test=train_test_split(x,y,test_size=0.30,stratify=y,random_state=10)"
   ]
  },
  {
   "cell_type": "code",
   "execution_count": 147,
   "id": "efe87ead",
   "metadata": {},
   "outputs": [
    {
     "ename": "NameError",
     "evalue": "name 'x_train' is not defined",
     "output_type": "error",
     "traceback": [
      "\u001b[1;31m---------------------------------------------------------------------------\u001b[0m",
      "\u001b[1;31mNameError\u001b[0m                                 Traceback (most recent call last)",
      "Input \u001b[1;32mIn [147]\u001b[0m, in \u001b[0;36m<cell line: 2>\u001b[1;34m()\u001b[0m\n\u001b[0;32m      1\u001b[0m rf\u001b[38;5;241m=\u001b[39mRandomForestClassifier()\n\u001b[1;32m----> 2\u001b[0m base_model\u001b[38;5;241m=\u001b[39mrf\u001b[38;5;241m.\u001b[39mfit(\u001b[43mx_train\u001b[49m,y_train)\n\u001b[0;32m      3\u001b[0m y_pred\u001b[38;5;241m=\u001b[39mbase_model\u001b[38;5;241m.\u001b[39mpredict(x_test)\n\u001b[0;32m      4\u001b[0m \u001b[38;5;66;03m# Train evaluation\u001b[39;00m\n",
      "\u001b[1;31mNameError\u001b[0m: name 'x_train' is not defined"
     ]
    }
   ],
   "source": [
    "rf=RandomForestClassifier()\n",
    "base_model=rf.fit(x_train,y_train)\n",
    "y_pred=base_model.predict(x_test)\n",
    "# Train evaluation\n",
    "evaluation(y_train,base_model.predict(x_train))"
   ]
  },
  {
   "cell_type": "markdown",
   "id": "3f3099ce",
   "metadata": {},
   "source": [
    "#### Conclusion from Model Building\n",
    "We were able to build a robust model that wasn't overfitting towards the data.\n",
    "\n",
    "We got a recall score of 0.84 and an accuracy of 0.74 on the test data.\n",
    "\n",
    "From a business perspective if a booking is flagged as a cancellable booking we could send the customer an e-mail to confirm their booking. If they are not able confirm the booking would be deemed cancelled and the customer has to reserve a new booking. This would ensure a more vigilant booking method on part of the hotel and would also reduct the number of false bookings.\n",
    "\n",
    "Since we were working here with a limited amount of data there is a pretty good chance of model decay in the future. To counter this, periodic remodelling and configuring of the model would be required.\n",
    "\n",
    "For production, the process(mentioned in the third point) could be automated to reduce the workload on hotel staff and management.\n"
   ]
  },
  {
   "cell_type": "code",
   "execution_count": null,
   "id": "ab52752d",
   "metadata": {},
   "outputs": [],
   "source": []
  }
 ],
 "metadata": {
  "kernelspec": {
   "display_name": "Python 3 (ipykernel)",
   "language": "python",
   "name": "python3"
  },
  "language_info": {
   "codemirror_mode": {
    "name": "ipython",
    "version": 3
   },
   "file_extension": ".py",
   "mimetype": "text/x-python",
   "name": "python",
   "nbconvert_exporter": "python",
   "pygments_lexer": "ipython3",
   "version": "3.9.12"
  }
 },
 "nbformat": 4,
 "nbformat_minor": 5
}
